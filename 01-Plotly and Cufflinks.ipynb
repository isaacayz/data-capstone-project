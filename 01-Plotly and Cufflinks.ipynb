{
 "cells": [
  {
   "cell_type": "markdown",
   "metadata": {},
   "source": [
    "___\n",
    "\n",
    "<a href='http://www.pieriandata.com'> <img src='../Pierian_Data_Logo.png' /></a>\n",
    "___\n",
    "# Plotly and Cufflinks"
   ]
  },
  {
   "cell_type": "markdown",
   "metadata": {},
   "source": [
    "Plotly is a library that allows you to create interactive plots that you can use in dashboards or websites (you can save them as html files or static images).\n",
    "\n",
    "## Installation\n",
    "\n",
    "In order for this all to work, you'll need to install plotly and cufflinks to call plots directly off of a pandas dataframe. These libraries are not currently available through **conda** but are available through **pip**. Install the libraries at your command line/terminal using:\n",
    "\n",
    "    pip install plotly\n",
    "    pip install cufflinks\n",
    "\n",
    "** NOTE: Make sure you only have one installation of Python on your computer when you do this, otherwise the installation may not work. **\n",
    "\n",
    "## Imports and Set-up"
   ]
  },
  {
   "cell_type": "code",
   "execution_count": 1,
   "metadata": {},
   "outputs": [],
   "source": [
    "import pandas as pd\n",
    "import numpy as np\n",
    "%matplotlib inline"
   ]
  },
  {
   "cell_type": "code",
   "execution_count": 2,
   "metadata": {},
   "outputs": [
    {
     "name": "stdout",
     "output_type": "stream",
     "text": [
      "4.6.0\n"
     ]
    }
   ],
   "source": [
    "from plotly import __version__\n",
    "from plotly.offline import download_plotlyjs, init_notebook_mode, plot, iplot\n",
    "\n",
    "print(__version__) # requires version >= 1.9.0"
   ]
  },
  {
   "cell_type": "code",
   "execution_count": 3,
   "metadata": {},
   "outputs": [],
   "source": [
    "import cufflinks as cf"
   ]
  },
  {
   "cell_type": "code",
   "execution_count": 4,
   "metadata": {},
   "outputs": [
    {
     "data": {
      "text/html": [
       "        <script type=\"text/javascript\">\n",
       "        window.PlotlyConfig = {MathJaxConfig: 'local'};\n",
       "        if (window.MathJax) {MathJax.Hub.Config({SVG: {font: \"STIX-Web\"}});}\n",
       "        if (typeof require !== 'undefined') {\n",
       "        require.undef(\"plotly\");\n",
       "        requirejs.config({\n",
       "            paths: {\n",
       "                'plotly': ['https://cdn.plot.ly/plotly-latest.min']\n",
       "            }\n",
       "        });\n",
       "        require(['plotly'], function(Plotly) {\n",
       "            window._Plotly = Plotly;\n",
       "        });\n",
       "        }\n",
       "        </script>\n",
       "        "
      ]
     },
     "metadata": {},
     "output_type": "display_data"
    }
   ],
   "source": [
    "# For Notebooks\n",
    "init_notebook_mode(connected=True)"
   ]
  },
  {
   "cell_type": "code",
   "execution_count": 5,
   "metadata": {},
   "outputs": [
    {
     "data": {
      "text/html": [
       "        <script type=\"text/javascript\">\n",
       "        window.PlotlyConfig = {MathJaxConfig: 'local'};\n",
       "        if (window.MathJax) {MathJax.Hub.Config({SVG: {font: \"STIX-Web\"}});}\n",
       "        if (typeof require !== 'undefined') {\n",
       "        require.undef(\"plotly\");\n",
       "        requirejs.config({\n",
       "            paths: {\n",
       "                'plotly': ['https://cdn.plot.ly/plotly-latest.min']\n",
       "            }\n",
       "        });\n",
       "        require(['plotly'], function(Plotly) {\n",
       "            window._Plotly = Plotly;\n",
       "        });\n",
       "        }\n",
       "        </script>\n",
       "        "
      ]
     },
     "metadata": {},
     "output_type": "display_data"
    }
   ],
   "source": [
    "# For offline use\n",
    "cf.go_offline()"
   ]
  },
  {
   "cell_type": "markdown",
   "metadata": {},
   "source": [
    "### Fake Data"
   ]
  },
  {
   "cell_type": "code",
   "execution_count": 6,
   "metadata": {},
   "outputs": [],
   "source": [
    "df = pd.DataFrame(np.random.randn(100,4),columns='A B C D'.split())"
   ]
  },
  {
   "cell_type": "code",
   "execution_count": 7,
   "metadata": {},
   "outputs": [
    {
     "data": {
      "text/html": [
       "<div>\n",
       "<style scoped>\n",
       "    .dataframe tbody tr th:only-of-type {\n",
       "        vertical-align: middle;\n",
       "    }\n",
       "\n",
       "    .dataframe tbody tr th {\n",
       "        vertical-align: top;\n",
       "    }\n",
       "\n",
       "    .dataframe thead th {\n",
       "        text-align: right;\n",
       "    }\n",
       "</style>\n",
       "<table border=\"1\" class=\"dataframe\">\n",
       "  <thead>\n",
       "    <tr style=\"text-align: right;\">\n",
       "      <th></th>\n",
       "      <th>A</th>\n",
       "      <th>B</th>\n",
       "      <th>C</th>\n",
       "      <th>D</th>\n",
       "    </tr>\n",
       "  </thead>\n",
       "  <tbody>\n",
       "    <tr>\n",
       "      <td>0</td>\n",
       "      <td>0.757962</td>\n",
       "      <td>0.064102</td>\n",
       "      <td>1.002022</td>\n",
       "      <td>0.501647</td>\n",
       "    </tr>\n",
       "    <tr>\n",
       "      <td>1</td>\n",
       "      <td>0.529845</td>\n",
       "      <td>0.598819</td>\n",
       "      <td>-1.070912</td>\n",
       "      <td>1.546102</td>\n",
       "    </tr>\n",
       "    <tr>\n",
       "      <td>2</td>\n",
       "      <td>0.815610</td>\n",
       "      <td>-2.010053</td>\n",
       "      <td>-0.993612</td>\n",
       "      <td>-1.515431</td>\n",
       "    </tr>\n",
       "    <tr>\n",
       "      <td>3</td>\n",
       "      <td>-0.945458</td>\n",
       "      <td>-1.534461</td>\n",
       "      <td>-2.533599</td>\n",
       "      <td>-1.196982</td>\n",
       "    </tr>\n",
       "    <tr>\n",
       "      <td>4</td>\n",
       "      <td>-0.857994</td>\n",
       "      <td>-0.283875</td>\n",
       "      <td>-2.314732</td>\n",
       "      <td>-1.282164</td>\n",
       "    </tr>\n",
       "  </tbody>\n",
       "</table>\n",
       "</div>"
      ],
      "text/plain": [
       "          A         B         C         D\n",
       "0  0.757962  0.064102  1.002022  0.501647\n",
       "1  0.529845  0.598819 -1.070912  1.546102\n",
       "2  0.815610 -2.010053 -0.993612 -1.515431\n",
       "3 -0.945458 -1.534461 -2.533599 -1.196982\n",
       "4 -0.857994 -0.283875 -2.314732 -1.282164"
      ]
     },
     "execution_count": 7,
     "metadata": {},
     "output_type": "execute_result"
    }
   ],
   "source": [
    "df.head()"
   ]
  },
  {
   "cell_type": "code",
   "execution_count": 8,
   "metadata": {},
   "outputs": [],
   "source": [
    "df2 = pd.DataFrame({'Category':['A','B','C'],'Values':[32,43,50]})"
   ]
  },
  {
   "cell_type": "code",
   "execution_count": 9,
   "metadata": {},
   "outputs": [
    {
     "data": {
      "text/html": [
       "<div>\n",
       "<style scoped>\n",
       "    .dataframe tbody tr th:only-of-type {\n",
       "        vertical-align: middle;\n",
       "    }\n",
       "\n",
       "    .dataframe tbody tr th {\n",
       "        vertical-align: top;\n",
       "    }\n",
       "\n",
       "    .dataframe thead th {\n",
       "        text-align: right;\n",
       "    }\n",
       "</style>\n",
       "<table border=\"1\" class=\"dataframe\">\n",
       "  <thead>\n",
       "    <tr style=\"text-align: right;\">\n",
       "      <th></th>\n",
       "      <th>Category</th>\n",
       "      <th>Values</th>\n",
       "    </tr>\n",
       "  </thead>\n",
       "  <tbody>\n",
       "    <tr>\n",
       "      <td>0</td>\n",
       "      <td>A</td>\n",
       "      <td>32</td>\n",
       "    </tr>\n",
       "    <tr>\n",
       "      <td>1</td>\n",
       "      <td>B</td>\n",
       "      <td>43</td>\n",
       "    </tr>\n",
       "    <tr>\n",
       "      <td>2</td>\n",
       "      <td>C</td>\n",
       "      <td>50</td>\n",
       "    </tr>\n",
       "  </tbody>\n",
       "</table>\n",
       "</div>"
      ],
      "text/plain": [
       "  Category  Values\n",
       "0        A      32\n",
       "1        B      43\n",
       "2        C      50"
      ]
     },
     "execution_count": 9,
     "metadata": {},
     "output_type": "execute_result"
    }
   ],
   "source": [
    "df2.head()"
   ]
  },
  {
   "cell_type": "markdown",
   "metadata": {},
   "source": [
    "## Using Cufflinks and iplot()\n",
    "\n",
    "* scatter\n",
    "* bar\n",
    "* box\n",
    "* spread\n",
    "* ratio\n",
    "* heatmap\n",
    "* surface\n",
    "* histogram\n",
    "* bubble"
   ]
  },
  {
   "cell_type": "markdown",
   "metadata": {},
   "source": [
    "## Scatter"
   ]
  },
  {
   "cell_type": "code",
   "execution_count": 10,
   "metadata": {},
   "outputs": [
    {
     "data": {
      "application/vnd.plotly.v1+json": {
       "config": {
        "linkText": "Export to plot.ly",
        "plotlyServerURL": "https://plot.ly",
        "showLink": true
       },
       "data": [
        {
         "line": {
          "color": "rgba(255, 153, 51, 1.0)",
          "dash": "solid",
          "shape": "linear",
          "width": 1.3
         },
         "marker": {
          "size": 10,
          "symbol": "circle"
         },
         "mode": "markers",
         "name": "B",
         "text": "",
         "type": "scatter",
         "x": [
          0.7579622911456884,
          0.5298454226070978,
          0.8156101983220254,
          -0.9454582364645135,
          -0.857994402443206,
          -0.1670467591767333,
          -0.7888114020903332,
          -0.2673561619114749,
          0.768216778986486,
          -0.8638176766596485,
          -0.33843709402835276,
          -0.8604248481790441,
          0.9390817496511193,
          0.4962486167366557,
          -0.342866720058513,
          0.5321154951123271,
          0.08364234862840773,
          -0.24420366347819594,
          -2.5470021690493523,
          0.6501915875974441,
          0.46105121143151684,
          -1.2696445490313397,
          -1.262321855935702,
          0.020590837422995875,
          -1.962164958669862,
          0.1520210913204685,
          -0.32979134502902163,
          0.8401008377275386,
          -0.5082086655426916,
          1.2528721120287196,
          -0.7153155037815715,
          1.4064228445136355,
          1.8710040626067423,
          0.08757345444063647,
          2.041319270677461,
          2.8000560133663024,
          -1.370358468855292,
          -0.3060589595906979,
          0.6755736191112913,
          1.4407258504266733,
          -0.8107992432478025,
          0.5914524531347799,
          0.3879197499827318,
          -1.3226943138065599,
          0.03095980363011386,
          0.35388609090549306,
          -0.7106145582311015,
          -0.6995966631278421,
          -0.01780114613536176,
          -0.23550021237398164,
          -0.9927687863322747,
          -0.8554634929109388,
          -0.2216839561931747,
          0.1935051205325323,
          -0.7550886779996621,
          -0.382930473573882,
          -0.4136431738112617,
          -0.15205974759545637,
          0.7962233695209215,
          0.7256432342089434,
          0.24270585434026598,
          0.13409859606010457,
          -0.556524193528626,
          0.07633036965958356,
          1.1366650674151044,
          1.3415441140499602,
          0.7084176532972084,
          -1.2865302555192233,
          -1.2527010973957653,
          0.8756611197550394,
          1.0631834319317377,
          1.7277189454023956,
          0.3458699972060742,
          -0.45699142615687494,
          1.0790163639283334,
          -0.6944844785820669,
          -2.2895926431144096,
          1.6323818820980218,
          -1.9706328705835687,
          -0.6145302262421422,
          0.4150734969666682,
          0.02447752685552582,
          0.015341516547215574,
          0.6524751897352478,
          0.2162686415482492,
          1.2238682829100826,
          -0.5594810022793774,
          -0.7721879879776039,
          0.7677945424465574,
          -0.44711928380135374,
          0.03485657417707869,
          0.1766223676895384,
          0.07374326243590695,
          -0.23580423331382155,
          -0.48565550121671947,
          -0.6542410195199967,
          1.7015538622803354,
          0.5314220872039849,
          0.2363390667193305,
          -0.8387818864979736
         ],
         "y": [
          0.06410207357628032,
          0.5988194682426909,
          -2.010053357011642,
          -1.534460534232777,
          -0.2838752137445895,
          -0.4364055158241752,
          -0.062107990124747985,
          1.8291664069893194,
          0.3370186963782379,
          -0.8571716626766643,
          -1.4897033440473515,
          -0.9773804107151556,
          -1.0218654610470015,
          1.216188328057995,
          0.36602873525868307,
          -0.04206253722866737,
          -0.504138977255192,
          0.4470533561000257,
          0.9649794948737593,
          0.7058495957713538,
          -0.9465810738244804,
          -0.07371126955603383,
          1.251547336133497,
          -2.0736322708642083,
          0.11555978219945501,
          -0.03783614416341705,
          -0.2903697562225154,
          -1.088977341454986,
          -1.135312956502815,
          -0.17442341769300082,
          0.5202635952394287,
          -0.24691452846276116,
          -0.13382915012237656,
          0.48545297566592055,
          0.41039449413774176,
          0.28873263493280305,
          -0.8387595200674258,
          2.4328000327798383,
          -0.18471578641497266,
          0.32259728832814766,
          -0.982216085912374,
          -0.15068067141146987,
          0.24049749962091524,
          0.4419380863991527,
          1.815418420087622,
          -1.1486655540832191,
          0.8238794399772241,
          -0.21805122145673023,
          0.8695259754966412,
          0.0846709805993985,
          -0.5056779659883797,
          -0.5481037070327525,
          -0.46466581623716674,
          0.9225448772117156,
          -1.4662409750216734,
          -0.1999400856400257,
          -0.8115108172583112,
          0.12397852989218443,
          0.56609204715325,
          0.3351988818461227,
          1.0637178967303107,
          1.6526894878378782,
          -1.4790950118066495,
          -0.10261674802653346,
          -0.2956729083237752,
          -0.18748856240961745,
          2.180420918749399,
          0.41207565810024677,
          0.4993117779200552,
          0.9484337358875686,
          1.817708891978699,
          -1.367547056288455,
          -0.4222795209346398,
          0.8705762012391222,
          -0.33026278521437336,
          0.3320445392395583,
          -1.5826633681260793,
          -0.4634439124069925,
          0.022534344142100184,
          0.05393478756544293,
          -0.45314670894281395,
          -0.5856801775867423,
          0.4040232286668457,
          0.9457127648011665,
          0.53827141480434,
          0.2597206638247671,
          0.4418659169631524,
          0.5464618225133375,
          0.46339910791145505,
          1.9180711403866888,
          -0.5848582990423815,
          0.34536446975354557,
          1.136277596261647,
          0.967248891045694,
          -1.359893659316058,
          0.9586041241102193,
          -1.082722915105749,
          -1.5170273973065584,
          -0.3113640177319824,
          -0.6227757285501787
         ]
        }
       ],
       "layout": {
        "legend": {
         "bgcolor": "#F5F6F9",
         "font": {
          "color": "#4D5663"
         }
        },
        "paper_bgcolor": "#F5F6F9",
        "plot_bgcolor": "#F5F6F9",
        "template": {
         "data": {
          "bar": [
           {
            "error_x": {
             "color": "#2a3f5f"
            },
            "error_y": {
             "color": "#2a3f5f"
            },
            "marker": {
             "line": {
              "color": "#E5ECF6",
              "width": 0.5
             }
            },
            "type": "bar"
           }
          ],
          "barpolar": [
           {
            "marker": {
             "line": {
              "color": "#E5ECF6",
              "width": 0.5
             }
            },
            "type": "barpolar"
           }
          ],
          "carpet": [
           {
            "aaxis": {
             "endlinecolor": "#2a3f5f",
             "gridcolor": "white",
             "linecolor": "white",
             "minorgridcolor": "white",
             "startlinecolor": "#2a3f5f"
            },
            "baxis": {
             "endlinecolor": "#2a3f5f",
             "gridcolor": "white",
             "linecolor": "white",
             "minorgridcolor": "white",
             "startlinecolor": "#2a3f5f"
            },
            "type": "carpet"
           }
          ],
          "choropleth": [
           {
            "colorbar": {
             "outlinewidth": 0,
             "ticks": ""
            },
            "type": "choropleth"
           }
          ],
          "contour": [
           {
            "colorbar": {
             "outlinewidth": 0,
             "ticks": ""
            },
            "colorscale": [
             [
              0,
              "#0d0887"
             ],
             [
              0.1111111111111111,
              "#46039f"
             ],
             [
              0.2222222222222222,
              "#7201a8"
             ],
             [
              0.3333333333333333,
              "#9c179e"
             ],
             [
              0.4444444444444444,
              "#bd3786"
             ],
             [
              0.5555555555555556,
              "#d8576b"
             ],
             [
              0.6666666666666666,
              "#ed7953"
             ],
             [
              0.7777777777777778,
              "#fb9f3a"
             ],
             [
              0.8888888888888888,
              "#fdca26"
             ],
             [
              1,
              "#f0f921"
             ]
            ],
            "type": "contour"
           }
          ],
          "contourcarpet": [
           {
            "colorbar": {
             "outlinewidth": 0,
             "ticks": ""
            },
            "type": "contourcarpet"
           }
          ],
          "heatmap": [
           {
            "colorbar": {
             "outlinewidth": 0,
             "ticks": ""
            },
            "colorscale": [
             [
              0,
              "#0d0887"
             ],
             [
              0.1111111111111111,
              "#46039f"
             ],
             [
              0.2222222222222222,
              "#7201a8"
             ],
             [
              0.3333333333333333,
              "#9c179e"
             ],
             [
              0.4444444444444444,
              "#bd3786"
             ],
             [
              0.5555555555555556,
              "#d8576b"
             ],
             [
              0.6666666666666666,
              "#ed7953"
             ],
             [
              0.7777777777777778,
              "#fb9f3a"
             ],
             [
              0.8888888888888888,
              "#fdca26"
             ],
             [
              1,
              "#f0f921"
             ]
            ],
            "type": "heatmap"
           }
          ],
          "heatmapgl": [
           {
            "colorbar": {
             "outlinewidth": 0,
             "ticks": ""
            },
            "colorscale": [
             [
              0,
              "#0d0887"
             ],
             [
              0.1111111111111111,
              "#46039f"
             ],
             [
              0.2222222222222222,
              "#7201a8"
             ],
             [
              0.3333333333333333,
              "#9c179e"
             ],
             [
              0.4444444444444444,
              "#bd3786"
             ],
             [
              0.5555555555555556,
              "#d8576b"
             ],
             [
              0.6666666666666666,
              "#ed7953"
             ],
             [
              0.7777777777777778,
              "#fb9f3a"
             ],
             [
              0.8888888888888888,
              "#fdca26"
             ],
             [
              1,
              "#f0f921"
             ]
            ],
            "type": "heatmapgl"
           }
          ],
          "histogram": [
           {
            "marker": {
             "colorbar": {
              "outlinewidth": 0,
              "ticks": ""
             }
            },
            "type": "histogram"
           }
          ],
          "histogram2d": [
           {
            "colorbar": {
             "outlinewidth": 0,
             "ticks": ""
            },
            "colorscale": [
             [
              0,
              "#0d0887"
             ],
             [
              0.1111111111111111,
              "#46039f"
             ],
             [
              0.2222222222222222,
              "#7201a8"
             ],
             [
              0.3333333333333333,
              "#9c179e"
             ],
             [
              0.4444444444444444,
              "#bd3786"
             ],
             [
              0.5555555555555556,
              "#d8576b"
             ],
             [
              0.6666666666666666,
              "#ed7953"
             ],
             [
              0.7777777777777778,
              "#fb9f3a"
             ],
             [
              0.8888888888888888,
              "#fdca26"
             ],
             [
              1,
              "#f0f921"
             ]
            ],
            "type": "histogram2d"
           }
          ],
          "histogram2dcontour": [
           {
            "colorbar": {
             "outlinewidth": 0,
             "ticks": ""
            },
            "colorscale": [
             [
              0,
              "#0d0887"
             ],
             [
              0.1111111111111111,
              "#46039f"
             ],
             [
              0.2222222222222222,
              "#7201a8"
             ],
             [
              0.3333333333333333,
              "#9c179e"
             ],
             [
              0.4444444444444444,
              "#bd3786"
             ],
             [
              0.5555555555555556,
              "#d8576b"
             ],
             [
              0.6666666666666666,
              "#ed7953"
             ],
             [
              0.7777777777777778,
              "#fb9f3a"
             ],
             [
              0.8888888888888888,
              "#fdca26"
             ],
             [
              1,
              "#f0f921"
             ]
            ],
            "type": "histogram2dcontour"
           }
          ],
          "mesh3d": [
           {
            "colorbar": {
             "outlinewidth": 0,
             "ticks": ""
            },
            "type": "mesh3d"
           }
          ],
          "parcoords": [
           {
            "line": {
             "colorbar": {
              "outlinewidth": 0,
              "ticks": ""
             }
            },
            "type": "parcoords"
           }
          ],
          "pie": [
           {
            "automargin": true,
            "type": "pie"
           }
          ],
          "scatter": [
           {
            "marker": {
             "colorbar": {
              "outlinewidth": 0,
              "ticks": ""
             }
            },
            "type": "scatter"
           }
          ],
          "scatter3d": [
           {
            "line": {
             "colorbar": {
              "outlinewidth": 0,
              "ticks": ""
             }
            },
            "marker": {
             "colorbar": {
              "outlinewidth": 0,
              "ticks": ""
             }
            },
            "type": "scatter3d"
           }
          ],
          "scattercarpet": [
           {
            "marker": {
             "colorbar": {
              "outlinewidth": 0,
              "ticks": ""
             }
            },
            "type": "scattercarpet"
           }
          ],
          "scattergeo": [
           {
            "marker": {
             "colorbar": {
              "outlinewidth": 0,
              "ticks": ""
             }
            },
            "type": "scattergeo"
           }
          ],
          "scattergl": [
           {
            "marker": {
             "colorbar": {
              "outlinewidth": 0,
              "ticks": ""
             }
            },
            "type": "scattergl"
           }
          ],
          "scattermapbox": [
           {
            "marker": {
             "colorbar": {
              "outlinewidth": 0,
              "ticks": ""
             }
            },
            "type": "scattermapbox"
           }
          ],
          "scatterpolar": [
           {
            "marker": {
             "colorbar": {
              "outlinewidth": 0,
              "ticks": ""
             }
            },
            "type": "scatterpolar"
           }
          ],
          "scatterpolargl": [
           {
            "marker": {
             "colorbar": {
              "outlinewidth": 0,
              "ticks": ""
             }
            },
            "type": "scatterpolargl"
           }
          ],
          "scatterternary": [
           {
            "marker": {
             "colorbar": {
              "outlinewidth": 0,
              "ticks": ""
             }
            },
            "type": "scatterternary"
           }
          ],
          "surface": [
           {
            "colorbar": {
             "outlinewidth": 0,
             "ticks": ""
            },
            "colorscale": [
             [
              0,
              "#0d0887"
             ],
             [
              0.1111111111111111,
              "#46039f"
             ],
             [
              0.2222222222222222,
              "#7201a8"
             ],
             [
              0.3333333333333333,
              "#9c179e"
             ],
             [
              0.4444444444444444,
              "#bd3786"
             ],
             [
              0.5555555555555556,
              "#d8576b"
             ],
             [
              0.6666666666666666,
              "#ed7953"
             ],
             [
              0.7777777777777778,
              "#fb9f3a"
             ],
             [
              0.8888888888888888,
              "#fdca26"
             ],
             [
              1,
              "#f0f921"
             ]
            ],
            "type": "surface"
           }
          ],
          "table": [
           {
            "cells": {
             "fill": {
              "color": "#EBF0F8"
             },
             "line": {
              "color": "white"
             }
            },
            "header": {
             "fill": {
              "color": "#C8D4E3"
             },
             "line": {
              "color": "white"
             }
            },
            "type": "table"
           }
          ]
         },
         "layout": {
          "annotationdefaults": {
           "arrowcolor": "#2a3f5f",
           "arrowhead": 0,
           "arrowwidth": 1
          },
          "coloraxis": {
           "colorbar": {
            "outlinewidth": 0,
            "ticks": ""
           }
          },
          "colorscale": {
           "diverging": [
            [
             0,
             "#8e0152"
            ],
            [
             0.1,
             "#c51b7d"
            ],
            [
             0.2,
             "#de77ae"
            ],
            [
             0.3,
             "#f1b6da"
            ],
            [
             0.4,
             "#fde0ef"
            ],
            [
             0.5,
             "#f7f7f7"
            ],
            [
             0.6,
             "#e6f5d0"
            ],
            [
             0.7,
             "#b8e186"
            ],
            [
             0.8,
             "#7fbc41"
            ],
            [
             0.9,
             "#4d9221"
            ],
            [
             1,
             "#276419"
            ]
           ],
           "sequential": [
            [
             0,
             "#0d0887"
            ],
            [
             0.1111111111111111,
             "#46039f"
            ],
            [
             0.2222222222222222,
             "#7201a8"
            ],
            [
             0.3333333333333333,
             "#9c179e"
            ],
            [
             0.4444444444444444,
             "#bd3786"
            ],
            [
             0.5555555555555556,
             "#d8576b"
            ],
            [
             0.6666666666666666,
             "#ed7953"
            ],
            [
             0.7777777777777778,
             "#fb9f3a"
            ],
            [
             0.8888888888888888,
             "#fdca26"
            ],
            [
             1,
             "#f0f921"
            ]
           ],
           "sequentialminus": [
            [
             0,
             "#0d0887"
            ],
            [
             0.1111111111111111,
             "#46039f"
            ],
            [
             0.2222222222222222,
             "#7201a8"
            ],
            [
             0.3333333333333333,
             "#9c179e"
            ],
            [
             0.4444444444444444,
             "#bd3786"
            ],
            [
             0.5555555555555556,
             "#d8576b"
            ],
            [
             0.6666666666666666,
             "#ed7953"
            ],
            [
             0.7777777777777778,
             "#fb9f3a"
            ],
            [
             0.8888888888888888,
             "#fdca26"
            ],
            [
             1,
             "#f0f921"
            ]
           ]
          },
          "colorway": [
           "#636efa",
           "#EF553B",
           "#00cc96",
           "#ab63fa",
           "#FFA15A",
           "#19d3f3",
           "#FF6692",
           "#B6E880",
           "#FF97FF",
           "#FECB52"
          ],
          "font": {
           "color": "#2a3f5f"
          },
          "geo": {
           "bgcolor": "white",
           "lakecolor": "white",
           "landcolor": "#E5ECF6",
           "showlakes": true,
           "showland": true,
           "subunitcolor": "white"
          },
          "hoverlabel": {
           "align": "left"
          },
          "hovermode": "closest",
          "mapbox": {
           "style": "light"
          },
          "paper_bgcolor": "white",
          "plot_bgcolor": "#E5ECF6",
          "polar": {
           "angularaxis": {
            "gridcolor": "white",
            "linecolor": "white",
            "ticks": ""
           },
           "bgcolor": "#E5ECF6",
           "radialaxis": {
            "gridcolor": "white",
            "linecolor": "white",
            "ticks": ""
           }
          },
          "scene": {
           "xaxis": {
            "backgroundcolor": "#E5ECF6",
            "gridcolor": "white",
            "gridwidth": 2,
            "linecolor": "white",
            "showbackground": true,
            "ticks": "",
            "zerolinecolor": "white"
           },
           "yaxis": {
            "backgroundcolor": "#E5ECF6",
            "gridcolor": "white",
            "gridwidth": 2,
            "linecolor": "white",
            "showbackground": true,
            "ticks": "",
            "zerolinecolor": "white"
           },
           "zaxis": {
            "backgroundcolor": "#E5ECF6",
            "gridcolor": "white",
            "gridwidth": 2,
            "linecolor": "white",
            "showbackground": true,
            "ticks": "",
            "zerolinecolor": "white"
           }
          },
          "shapedefaults": {
           "line": {
            "color": "#2a3f5f"
           }
          },
          "ternary": {
           "aaxis": {
            "gridcolor": "white",
            "linecolor": "white",
            "ticks": ""
           },
           "baxis": {
            "gridcolor": "white",
            "linecolor": "white",
            "ticks": ""
           },
           "bgcolor": "#E5ECF6",
           "caxis": {
            "gridcolor": "white",
            "linecolor": "white",
            "ticks": ""
           }
          },
          "title": {
           "x": 0.05
          },
          "xaxis": {
           "automargin": true,
           "gridcolor": "white",
           "linecolor": "white",
           "ticks": "",
           "title": {
            "standoff": 15
           },
           "zerolinecolor": "white",
           "zerolinewidth": 2
          },
          "yaxis": {
           "automargin": true,
           "gridcolor": "white",
           "linecolor": "white",
           "ticks": "",
           "title": {
            "standoff": 15
           },
           "zerolinecolor": "white",
           "zerolinewidth": 2
          }
         }
        },
        "title": {
         "font": {
          "color": "#4D5663"
         }
        },
        "xaxis": {
         "gridcolor": "#E1E5ED",
         "showgrid": true,
         "tickfont": {
          "color": "#4D5663"
         },
         "title": {
          "font": {
           "color": "#4D5663"
          },
          "text": ""
         },
         "zerolinecolor": "#E1E5ED"
        },
        "yaxis": {
         "gridcolor": "#E1E5ED",
         "showgrid": true,
         "tickfont": {
          "color": "#4D5663"
         },
         "title": {
          "font": {
           "color": "#4D5663"
          },
          "text": ""
         },
         "zerolinecolor": "#E1E5ED"
        }
       }
      },
      "text/html": [
       "<div>\n",
       "        \n",
       "        \n",
       "            <div id=\"0a7afb10-8503-4bbb-85ef-b199e4665de8\" class=\"plotly-graph-div\" style=\"height:525px; width:100%;\"></div>\n",
       "            <script type=\"text/javascript\">\n",
       "                require([\"plotly\"], function(Plotly) {\n",
       "                    window.PLOTLYENV=window.PLOTLYENV || {};\n",
       "                    window.PLOTLYENV.BASE_URL='https://plot.ly';\n",
       "                    \n",
       "                if (document.getElementById(\"0a7afb10-8503-4bbb-85ef-b199e4665de8\")) {\n",
       "                    Plotly.newPlot(\n",
       "                        '0a7afb10-8503-4bbb-85ef-b199e4665de8',\n",
       "                        [{\"line\": {\"color\": \"rgba(255, 153, 51, 1.0)\", \"dash\": \"solid\", \"shape\": \"linear\", \"width\": 1.3}, \"marker\": {\"size\": 10, \"symbol\": \"circle\"}, \"mode\": \"markers\", \"name\": \"B\", \"text\": \"\", \"type\": \"scatter\", \"x\": [0.7579622911456884, 0.5298454226070978, 0.8156101983220254, -0.9454582364645135, -0.857994402443206, -0.1670467591767333, -0.7888114020903332, -0.2673561619114749, 0.768216778986486, -0.8638176766596485, -0.33843709402835276, -0.8604248481790441, 0.9390817496511193, 0.4962486167366557, -0.342866720058513, 0.5321154951123271, 0.08364234862840773, -0.24420366347819594, -2.5470021690493523, 0.6501915875974441, 0.46105121143151684, -1.2696445490313397, -1.262321855935702, 0.020590837422995875, -1.962164958669862, 0.1520210913204685, -0.32979134502902163, 0.8401008377275386, -0.5082086655426916, 1.2528721120287196, -0.7153155037815715, 1.4064228445136355, 1.8710040626067423, 0.08757345444063647, 2.041319270677461, 2.8000560133663024, -1.370358468855292, -0.3060589595906979, 0.6755736191112913, 1.4407258504266733, -0.8107992432478025, 0.5914524531347799, 0.3879197499827318, -1.3226943138065599, 0.03095980363011386, 0.35388609090549306, -0.7106145582311015, -0.6995966631278421, -0.01780114613536176, -0.23550021237398164, -0.9927687863322747, -0.8554634929109388, -0.2216839561931747, 0.1935051205325323, -0.7550886779996621, -0.382930473573882, -0.4136431738112617, -0.15205974759545637, 0.7962233695209215, 0.7256432342089434, 0.24270585434026598, 0.13409859606010457, -0.556524193528626, 0.07633036965958356, 1.1366650674151044, 1.3415441140499602, 0.7084176532972084, -1.2865302555192233, -1.2527010973957653, 0.8756611197550394, 1.0631834319317377, 1.7277189454023956, 0.3458699972060742, -0.45699142615687494, 1.0790163639283334, -0.6944844785820669, -2.2895926431144096, 1.6323818820980218, -1.9706328705835687, -0.6145302262421422, 0.4150734969666682, 0.02447752685552582, 0.015341516547215574, 0.6524751897352478, 0.2162686415482492, 1.2238682829100826, -0.5594810022793774, -0.7721879879776039, 0.7677945424465574, -0.44711928380135374, 0.03485657417707869, 0.1766223676895384, 0.07374326243590695, -0.23580423331382155, -0.48565550121671947, -0.6542410195199967, 1.7015538622803354, 0.5314220872039849, 0.2363390667193305, -0.8387818864979736], \"y\": [0.06410207357628032, 0.5988194682426909, -2.010053357011642, -1.534460534232777, -0.2838752137445895, -0.4364055158241752, -0.062107990124747985, 1.8291664069893194, 0.3370186963782379, -0.8571716626766643, -1.4897033440473515, -0.9773804107151556, -1.0218654610470015, 1.216188328057995, 0.36602873525868307, -0.04206253722866737, -0.504138977255192, 0.4470533561000257, 0.9649794948737593, 0.7058495957713538, -0.9465810738244804, -0.07371126955603383, 1.251547336133497, -2.0736322708642083, 0.11555978219945501, -0.03783614416341705, -0.2903697562225154, -1.088977341454986, -1.135312956502815, -0.17442341769300082, 0.5202635952394287, -0.24691452846276116, -0.13382915012237656, 0.48545297566592055, 0.41039449413774176, 0.28873263493280305, -0.8387595200674258, 2.4328000327798383, -0.18471578641497266, 0.32259728832814766, -0.982216085912374, -0.15068067141146987, 0.24049749962091524, 0.4419380863991527, 1.815418420087622, -1.1486655540832191, 0.8238794399772241, -0.21805122145673023, 0.8695259754966412, 0.0846709805993985, -0.5056779659883797, -0.5481037070327525, -0.46466581623716674, 0.9225448772117156, -1.4662409750216734, -0.1999400856400257, -0.8115108172583112, 0.12397852989218443, 0.56609204715325, 0.3351988818461227, 1.0637178967303107, 1.6526894878378782, -1.4790950118066495, -0.10261674802653346, -0.2956729083237752, -0.18748856240961745, 2.180420918749399, 0.41207565810024677, 0.4993117779200552, 0.9484337358875686, 1.817708891978699, -1.367547056288455, -0.4222795209346398, 0.8705762012391222, -0.33026278521437336, 0.3320445392395583, -1.5826633681260793, -0.4634439124069925, 0.022534344142100184, 0.05393478756544293, -0.45314670894281395, -0.5856801775867423, 0.4040232286668457, 0.9457127648011665, 0.53827141480434, 0.2597206638247671, 0.4418659169631524, 0.5464618225133375, 0.46339910791145505, 1.9180711403866888, -0.5848582990423815, 0.34536446975354557, 1.136277596261647, 0.967248891045694, -1.359893659316058, 0.9586041241102193, -1.082722915105749, -1.5170273973065584, -0.3113640177319824, -0.6227757285501787]}],\n",
       "                        {\"legend\": {\"bgcolor\": \"#F5F6F9\", \"font\": {\"color\": \"#4D5663\"}}, \"paper_bgcolor\": \"#F5F6F9\", \"plot_bgcolor\": \"#F5F6F9\", \"template\": {\"data\": {\"bar\": [{\"error_x\": {\"color\": \"#2a3f5f\"}, \"error_y\": {\"color\": \"#2a3f5f\"}, \"marker\": {\"line\": {\"color\": \"#E5ECF6\", \"width\": 0.5}}, \"type\": \"bar\"}], \"barpolar\": [{\"marker\": {\"line\": {\"color\": \"#E5ECF6\", \"width\": 0.5}}, \"type\": \"barpolar\"}], \"carpet\": [{\"aaxis\": {\"endlinecolor\": \"#2a3f5f\", \"gridcolor\": \"white\", \"linecolor\": \"white\", \"minorgridcolor\": \"white\", \"startlinecolor\": \"#2a3f5f\"}, \"baxis\": {\"endlinecolor\": \"#2a3f5f\", \"gridcolor\": \"white\", \"linecolor\": \"white\", \"minorgridcolor\": \"white\", \"startlinecolor\": \"#2a3f5f\"}, \"type\": \"carpet\"}], \"choropleth\": [{\"colorbar\": {\"outlinewidth\": 0, \"ticks\": \"\"}, \"type\": \"choropleth\"}], \"contour\": [{\"colorbar\": {\"outlinewidth\": 0, \"ticks\": \"\"}, \"colorscale\": [[0.0, \"#0d0887\"], [0.1111111111111111, \"#46039f\"], [0.2222222222222222, \"#7201a8\"], [0.3333333333333333, \"#9c179e\"], [0.4444444444444444, \"#bd3786\"], [0.5555555555555556, \"#d8576b\"], [0.6666666666666666, \"#ed7953\"], [0.7777777777777778, \"#fb9f3a\"], [0.8888888888888888, \"#fdca26\"], [1.0, \"#f0f921\"]], \"type\": \"contour\"}], \"contourcarpet\": [{\"colorbar\": {\"outlinewidth\": 0, \"ticks\": \"\"}, \"type\": \"contourcarpet\"}], \"heatmap\": [{\"colorbar\": {\"outlinewidth\": 0, \"ticks\": \"\"}, \"colorscale\": [[0.0, \"#0d0887\"], [0.1111111111111111, \"#46039f\"], [0.2222222222222222, \"#7201a8\"], [0.3333333333333333, \"#9c179e\"], [0.4444444444444444, \"#bd3786\"], [0.5555555555555556, \"#d8576b\"], [0.6666666666666666, \"#ed7953\"], [0.7777777777777778, \"#fb9f3a\"], [0.8888888888888888, \"#fdca26\"], [1.0, \"#f0f921\"]], \"type\": \"heatmap\"}], \"heatmapgl\": [{\"colorbar\": {\"outlinewidth\": 0, \"ticks\": \"\"}, \"colorscale\": [[0.0, \"#0d0887\"], [0.1111111111111111, \"#46039f\"], [0.2222222222222222, \"#7201a8\"], [0.3333333333333333, \"#9c179e\"], [0.4444444444444444, \"#bd3786\"], [0.5555555555555556, \"#d8576b\"], [0.6666666666666666, \"#ed7953\"], [0.7777777777777778, \"#fb9f3a\"], [0.8888888888888888, \"#fdca26\"], [1.0, \"#f0f921\"]], \"type\": \"heatmapgl\"}], \"histogram\": [{\"marker\": {\"colorbar\": {\"outlinewidth\": 0, \"ticks\": \"\"}}, \"type\": \"histogram\"}], \"histogram2d\": [{\"colorbar\": {\"outlinewidth\": 0, \"ticks\": \"\"}, \"colorscale\": [[0.0, \"#0d0887\"], [0.1111111111111111, \"#46039f\"], [0.2222222222222222, \"#7201a8\"], [0.3333333333333333, \"#9c179e\"], [0.4444444444444444, \"#bd3786\"], [0.5555555555555556, \"#d8576b\"], [0.6666666666666666, \"#ed7953\"], [0.7777777777777778, \"#fb9f3a\"], [0.8888888888888888, \"#fdca26\"], [1.0, \"#f0f921\"]], \"type\": \"histogram2d\"}], \"histogram2dcontour\": [{\"colorbar\": {\"outlinewidth\": 0, \"ticks\": \"\"}, \"colorscale\": [[0.0, \"#0d0887\"], [0.1111111111111111, \"#46039f\"], [0.2222222222222222, \"#7201a8\"], [0.3333333333333333, \"#9c179e\"], [0.4444444444444444, \"#bd3786\"], [0.5555555555555556, \"#d8576b\"], [0.6666666666666666, \"#ed7953\"], [0.7777777777777778, \"#fb9f3a\"], [0.8888888888888888, \"#fdca26\"], [1.0, \"#f0f921\"]], \"type\": \"histogram2dcontour\"}], \"mesh3d\": [{\"colorbar\": {\"outlinewidth\": 0, \"ticks\": \"\"}, \"type\": \"mesh3d\"}], \"parcoords\": [{\"line\": {\"colorbar\": {\"outlinewidth\": 0, \"ticks\": \"\"}}, \"type\": \"parcoords\"}], \"pie\": [{\"automargin\": true, \"type\": \"pie\"}], \"scatter\": [{\"marker\": {\"colorbar\": {\"outlinewidth\": 0, \"ticks\": \"\"}}, \"type\": \"scatter\"}], \"scatter3d\": [{\"line\": {\"colorbar\": {\"outlinewidth\": 0, \"ticks\": \"\"}}, \"marker\": {\"colorbar\": {\"outlinewidth\": 0, \"ticks\": \"\"}}, \"type\": \"scatter3d\"}], \"scattercarpet\": [{\"marker\": {\"colorbar\": {\"outlinewidth\": 0, \"ticks\": \"\"}}, \"type\": \"scattercarpet\"}], \"scattergeo\": [{\"marker\": {\"colorbar\": {\"outlinewidth\": 0, \"ticks\": \"\"}}, \"type\": \"scattergeo\"}], \"scattergl\": [{\"marker\": {\"colorbar\": {\"outlinewidth\": 0, \"ticks\": \"\"}}, \"type\": \"scattergl\"}], \"scattermapbox\": [{\"marker\": {\"colorbar\": {\"outlinewidth\": 0, \"ticks\": \"\"}}, \"type\": \"scattermapbox\"}], \"scatterpolar\": [{\"marker\": {\"colorbar\": {\"outlinewidth\": 0, \"ticks\": \"\"}}, \"type\": \"scatterpolar\"}], \"scatterpolargl\": [{\"marker\": {\"colorbar\": {\"outlinewidth\": 0, \"ticks\": \"\"}}, \"type\": \"scatterpolargl\"}], \"scatterternary\": [{\"marker\": {\"colorbar\": {\"outlinewidth\": 0, \"ticks\": \"\"}}, \"type\": \"scatterternary\"}], \"surface\": [{\"colorbar\": {\"outlinewidth\": 0, \"ticks\": \"\"}, \"colorscale\": [[0.0, \"#0d0887\"], [0.1111111111111111, \"#46039f\"], [0.2222222222222222, \"#7201a8\"], [0.3333333333333333, \"#9c179e\"], [0.4444444444444444, \"#bd3786\"], [0.5555555555555556, \"#d8576b\"], [0.6666666666666666, \"#ed7953\"], [0.7777777777777778, \"#fb9f3a\"], [0.8888888888888888, \"#fdca26\"], [1.0, \"#f0f921\"]], \"type\": \"surface\"}], \"table\": [{\"cells\": {\"fill\": {\"color\": \"#EBF0F8\"}, \"line\": {\"color\": \"white\"}}, \"header\": {\"fill\": {\"color\": \"#C8D4E3\"}, \"line\": {\"color\": \"white\"}}, \"type\": \"table\"}]}, \"layout\": {\"annotationdefaults\": {\"arrowcolor\": \"#2a3f5f\", \"arrowhead\": 0, \"arrowwidth\": 1}, \"coloraxis\": {\"colorbar\": {\"outlinewidth\": 0, \"ticks\": \"\"}}, \"colorscale\": {\"diverging\": [[0, \"#8e0152\"], [0.1, \"#c51b7d\"], [0.2, \"#de77ae\"], [0.3, \"#f1b6da\"], [0.4, \"#fde0ef\"], [0.5, \"#f7f7f7\"], [0.6, \"#e6f5d0\"], [0.7, \"#b8e186\"], [0.8, \"#7fbc41\"], [0.9, \"#4d9221\"], [1, \"#276419\"]], \"sequential\": [[0.0, \"#0d0887\"], [0.1111111111111111, \"#46039f\"], [0.2222222222222222, \"#7201a8\"], [0.3333333333333333, \"#9c179e\"], [0.4444444444444444, \"#bd3786\"], [0.5555555555555556, \"#d8576b\"], [0.6666666666666666, \"#ed7953\"], [0.7777777777777778, \"#fb9f3a\"], [0.8888888888888888, \"#fdca26\"], [1.0, \"#f0f921\"]], \"sequentialminus\": [[0.0, \"#0d0887\"], [0.1111111111111111, \"#46039f\"], [0.2222222222222222, \"#7201a8\"], [0.3333333333333333, \"#9c179e\"], [0.4444444444444444, \"#bd3786\"], [0.5555555555555556, \"#d8576b\"], [0.6666666666666666, \"#ed7953\"], [0.7777777777777778, \"#fb9f3a\"], [0.8888888888888888, \"#fdca26\"], [1.0, \"#f0f921\"]]}, \"colorway\": [\"#636efa\", \"#EF553B\", \"#00cc96\", \"#ab63fa\", \"#FFA15A\", \"#19d3f3\", \"#FF6692\", \"#B6E880\", \"#FF97FF\", \"#FECB52\"], \"font\": {\"color\": \"#2a3f5f\"}, \"geo\": {\"bgcolor\": \"white\", \"lakecolor\": \"white\", \"landcolor\": \"#E5ECF6\", \"showlakes\": true, \"showland\": true, \"subunitcolor\": \"white\"}, \"hoverlabel\": {\"align\": \"left\"}, \"hovermode\": \"closest\", \"mapbox\": {\"style\": \"light\"}, \"paper_bgcolor\": \"white\", \"plot_bgcolor\": \"#E5ECF6\", \"polar\": {\"angularaxis\": {\"gridcolor\": \"white\", \"linecolor\": \"white\", \"ticks\": \"\"}, \"bgcolor\": \"#E5ECF6\", \"radialaxis\": {\"gridcolor\": \"white\", \"linecolor\": \"white\", \"ticks\": \"\"}}, \"scene\": {\"xaxis\": {\"backgroundcolor\": \"#E5ECF6\", \"gridcolor\": \"white\", \"gridwidth\": 2, \"linecolor\": \"white\", \"showbackground\": true, \"ticks\": \"\", \"zerolinecolor\": \"white\"}, \"yaxis\": {\"backgroundcolor\": \"#E5ECF6\", \"gridcolor\": \"white\", \"gridwidth\": 2, \"linecolor\": \"white\", \"showbackground\": true, \"ticks\": \"\", \"zerolinecolor\": \"white\"}, \"zaxis\": {\"backgroundcolor\": \"#E5ECF6\", \"gridcolor\": \"white\", \"gridwidth\": 2, \"linecolor\": \"white\", \"showbackground\": true, \"ticks\": \"\", \"zerolinecolor\": \"white\"}}, \"shapedefaults\": {\"line\": {\"color\": \"#2a3f5f\"}}, \"ternary\": {\"aaxis\": {\"gridcolor\": \"white\", \"linecolor\": \"white\", \"ticks\": \"\"}, \"baxis\": {\"gridcolor\": \"white\", \"linecolor\": \"white\", \"ticks\": \"\"}, \"bgcolor\": \"#E5ECF6\", \"caxis\": {\"gridcolor\": \"white\", \"linecolor\": \"white\", \"ticks\": \"\"}}, \"title\": {\"x\": 0.05}, \"xaxis\": {\"automargin\": true, \"gridcolor\": \"white\", \"linecolor\": \"white\", \"ticks\": \"\", \"title\": {\"standoff\": 15}, \"zerolinecolor\": \"white\", \"zerolinewidth\": 2}, \"yaxis\": {\"automargin\": true, \"gridcolor\": \"white\", \"linecolor\": \"white\", \"ticks\": \"\", \"title\": {\"standoff\": 15}, \"zerolinecolor\": \"white\", \"zerolinewidth\": 2}}}, \"title\": {\"font\": {\"color\": \"#4D5663\"}}, \"xaxis\": {\"gridcolor\": \"#E1E5ED\", \"showgrid\": true, \"tickfont\": {\"color\": \"#4D5663\"}, \"title\": {\"font\": {\"color\": \"#4D5663\"}, \"text\": \"\"}, \"zerolinecolor\": \"#E1E5ED\"}, \"yaxis\": {\"gridcolor\": \"#E1E5ED\", \"showgrid\": true, \"tickfont\": {\"color\": \"#4D5663\"}, \"title\": {\"font\": {\"color\": \"#4D5663\"}, \"text\": \"\"}, \"zerolinecolor\": \"#E1E5ED\"}},\n",
       "                        {\"showLink\": true, \"linkText\": \"Export to plot.ly\", \"plotlyServerURL\": \"https://plot.ly\", \"responsive\": true}\n",
       "                    ).then(function(){\n",
       "                            \n",
       "var gd = document.getElementById('0a7afb10-8503-4bbb-85ef-b199e4665de8');\n",
       "var x = new MutationObserver(function (mutations, observer) {{\n",
       "        var display = window.getComputedStyle(gd).display;\n",
       "        if (!display || display === 'none') {{\n",
       "            console.log([gd, 'removed!']);\n",
       "            Plotly.purge(gd);\n",
       "            observer.disconnect();\n",
       "        }}\n",
       "}});\n",
       "\n",
       "// Listen for the removal of the full notebook cells\n",
       "var notebookContainer = gd.closest('#notebook-container');\n",
       "if (notebookContainer) {{\n",
       "    x.observe(notebookContainer, {childList: true});\n",
       "}}\n",
       "\n",
       "// Listen for the clearing of the current output cell\n",
       "var outputEl = gd.closest('.output');\n",
       "if (outputEl) {{\n",
       "    x.observe(outputEl, {childList: true});\n",
       "}}\n",
       "\n",
       "                        })\n",
       "                };\n",
       "                });\n",
       "            </script>\n",
       "        </div>"
      ]
     },
     "metadata": {},
     "output_type": "display_data"
    }
   ],
   "source": [
    "df.iplot(kind='scatter',x='A',y='B',mode='markers',size=10)"
   ]
  },
  {
   "cell_type": "markdown",
   "metadata": {},
   "source": [
    "## Bar Plots"
   ]
  },
  {
   "cell_type": "code",
   "execution_count": 11,
   "metadata": {},
   "outputs": [
    {
     "data": {
      "application/vnd.plotly.v1+json": {
       "config": {
        "linkText": "Export to plot.ly",
        "plotlyServerURL": "https://plot.ly",
        "showLink": true
       },
       "data": [
        {
         "marker": {
          "color": "rgba(255, 153, 51, 0.6)",
          "line": {
           "color": "rgba(255, 153, 51, 1.0)",
           "width": 1
          }
         },
         "name": "Values",
         "orientation": "v",
         "text": "",
         "type": "bar",
         "x": [
          "A",
          "B",
          "C"
         ],
         "y": [
          32,
          43,
          50
         ]
        }
       ],
       "layout": {
        "legend": {
         "bgcolor": "#F5F6F9",
         "font": {
          "color": "#4D5663"
         }
        },
        "paper_bgcolor": "#F5F6F9",
        "plot_bgcolor": "#F5F6F9",
        "template": {
         "data": {
          "bar": [
           {
            "error_x": {
             "color": "#2a3f5f"
            },
            "error_y": {
             "color": "#2a3f5f"
            },
            "marker": {
             "line": {
              "color": "#E5ECF6",
              "width": 0.5
             }
            },
            "type": "bar"
           }
          ],
          "barpolar": [
           {
            "marker": {
             "line": {
              "color": "#E5ECF6",
              "width": 0.5
             }
            },
            "type": "barpolar"
           }
          ],
          "carpet": [
           {
            "aaxis": {
             "endlinecolor": "#2a3f5f",
             "gridcolor": "white",
             "linecolor": "white",
             "minorgridcolor": "white",
             "startlinecolor": "#2a3f5f"
            },
            "baxis": {
             "endlinecolor": "#2a3f5f",
             "gridcolor": "white",
             "linecolor": "white",
             "minorgridcolor": "white",
             "startlinecolor": "#2a3f5f"
            },
            "type": "carpet"
           }
          ],
          "choropleth": [
           {
            "colorbar": {
             "outlinewidth": 0,
             "ticks": ""
            },
            "type": "choropleth"
           }
          ],
          "contour": [
           {
            "colorbar": {
             "outlinewidth": 0,
             "ticks": ""
            },
            "colorscale": [
             [
              0,
              "#0d0887"
             ],
             [
              0.1111111111111111,
              "#46039f"
             ],
             [
              0.2222222222222222,
              "#7201a8"
             ],
             [
              0.3333333333333333,
              "#9c179e"
             ],
             [
              0.4444444444444444,
              "#bd3786"
             ],
             [
              0.5555555555555556,
              "#d8576b"
             ],
             [
              0.6666666666666666,
              "#ed7953"
             ],
             [
              0.7777777777777778,
              "#fb9f3a"
             ],
             [
              0.8888888888888888,
              "#fdca26"
             ],
             [
              1,
              "#f0f921"
             ]
            ],
            "type": "contour"
           }
          ],
          "contourcarpet": [
           {
            "colorbar": {
             "outlinewidth": 0,
             "ticks": ""
            },
            "type": "contourcarpet"
           }
          ],
          "heatmap": [
           {
            "colorbar": {
             "outlinewidth": 0,
             "ticks": ""
            },
            "colorscale": [
             [
              0,
              "#0d0887"
             ],
             [
              0.1111111111111111,
              "#46039f"
             ],
             [
              0.2222222222222222,
              "#7201a8"
             ],
             [
              0.3333333333333333,
              "#9c179e"
             ],
             [
              0.4444444444444444,
              "#bd3786"
             ],
             [
              0.5555555555555556,
              "#d8576b"
             ],
             [
              0.6666666666666666,
              "#ed7953"
             ],
             [
              0.7777777777777778,
              "#fb9f3a"
             ],
             [
              0.8888888888888888,
              "#fdca26"
             ],
             [
              1,
              "#f0f921"
             ]
            ],
            "type": "heatmap"
           }
          ],
          "heatmapgl": [
           {
            "colorbar": {
             "outlinewidth": 0,
             "ticks": ""
            },
            "colorscale": [
             [
              0,
              "#0d0887"
             ],
             [
              0.1111111111111111,
              "#46039f"
             ],
             [
              0.2222222222222222,
              "#7201a8"
             ],
             [
              0.3333333333333333,
              "#9c179e"
             ],
             [
              0.4444444444444444,
              "#bd3786"
             ],
             [
              0.5555555555555556,
              "#d8576b"
             ],
             [
              0.6666666666666666,
              "#ed7953"
             ],
             [
              0.7777777777777778,
              "#fb9f3a"
             ],
             [
              0.8888888888888888,
              "#fdca26"
             ],
             [
              1,
              "#f0f921"
             ]
            ],
            "type": "heatmapgl"
           }
          ],
          "histogram": [
           {
            "marker": {
             "colorbar": {
              "outlinewidth": 0,
              "ticks": ""
             }
            },
            "type": "histogram"
           }
          ],
          "histogram2d": [
           {
            "colorbar": {
             "outlinewidth": 0,
             "ticks": ""
            },
            "colorscale": [
             [
              0,
              "#0d0887"
             ],
             [
              0.1111111111111111,
              "#46039f"
             ],
             [
              0.2222222222222222,
              "#7201a8"
             ],
             [
              0.3333333333333333,
              "#9c179e"
             ],
             [
              0.4444444444444444,
              "#bd3786"
             ],
             [
              0.5555555555555556,
              "#d8576b"
             ],
             [
              0.6666666666666666,
              "#ed7953"
             ],
             [
              0.7777777777777778,
              "#fb9f3a"
             ],
             [
              0.8888888888888888,
              "#fdca26"
             ],
             [
              1,
              "#f0f921"
             ]
            ],
            "type": "histogram2d"
           }
          ],
          "histogram2dcontour": [
           {
            "colorbar": {
             "outlinewidth": 0,
             "ticks": ""
            },
            "colorscale": [
             [
              0,
              "#0d0887"
             ],
             [
              0.1111111111111111,
              "#46039f"
             ],
             [
              0.2222222222222222,
              "#7201a8"
             ],
             [
              0.3333333333333333,
              "#9c179e"
             ],
             [
              0.4444444444444444,
              "#bd3786"
             ],
             [
              0.5555555555555556,
              "#d8576b"
             ],
             [
              0.6666666666666666,
              "#ed7953"
             ],
             [
              0.7777777777777778,
              "#fb9f3a"
             ],
             [
              0.8888888888888888,
              "#fdca26"
             ],
             [
              1,
              "#f0f921"
             ]
            ],
            "type": "histogram2dcontour"
           }
          ],
          "mesh3d": [
           {
            "colorbar": {
             "outlinewidth": 0,
             "ticks": ""
            },
            "type": "mesh3d"
           }
          ],
          "parcoords": [
           {
            "line": {
             "colorbar": {
              "outlinewidth": 0,
              "ticks": ""
             }
            },
            "type": "parcoords"
           }
          ],
          "pie": [
           {
            "automargin": true,
            "type": "pie"
           }
          ],
          "scatter": [
           {
            "marker": {
             "colorbar": {
              "outlinewidth": 0,
              "ticks": ""
             }
            },
            "type": "scatter"
           }
          ],
          "scatter3d": [
           {
            "line": {
             "colorbar": {
              "outlinewidth": 0,
              "ticks": ""
             }
            },
            "marker": {
             "colorbar": {
              "outlinewidth": 0,
              "ticks": ""
             }
            },
            "type": "scatter3d"
           }
          ],
          "scattercarpet": [
           {
            "marker": {
             "colorbar": {
              "outlinewidth": 0,
              "ticks": ""
             }
            },
            "type": "scattercarpet"
           }
          ],
          "scattergeo": [
           {
            "marker": {
             "colorbar": {
              "outlinewidth": 0,
              "ticks": ""
             }
            },
            "type": "scattergeo"
           }
          ],
          "scattergl": [
           {
            "marker": {
             "colorbar": {
              "outlinewidth": 0,
              "ticks": ""
             }
            },
            "type": "scattergl"
           }
          ],
          "scattermapbox": [
           {
            "marker": {
             "colorbar": {
              "outlinewidth": 0,
              "ticks": ""
             }
            },
            "type": "scattermapbox"
           }
          ],
          "scatterpolar": [
           {
            "marker": {
             "colorbar": {
              "outlinewidth": 0,
              "ticks": ""
             }
            },
            "type": "scatterpolar"
           }
          ],
          "scatterpolargl": [
           {
            "marker": {
             "colorbar": {
              "outlinewidth": 0,
              "ticks": ""
             }
            },
            "type": "scatterpolargl"
           }
          ],
          "scatterternary": [
           {
            "marker": {
             "colorbar": {
              "outlinewidth": 0,
              "ticks": ""
             }
            },
            "type": "scatterternary"
           }
          ],
          "surface": [
           {
            "colorbar": {
             "outlinewidth": 0,
             "ticks": ""
            },
            "colorscale": [
             [
              0,
              "#0d0887"
             ],
             [
              0.1111111111111111,
              "#46039f"
             ],
             [
              0.2222222222222222,
              "#7201a8"
             ],
             [
              0.3333333333333333,
              "#9c179e"
             ],
             [
              0.4444444444444444,
              "#bd3786"
             ],
             [
              0.5555555555555556,
              "#d8576b"
             ],
             [
              0.6666666666666666,
              "#ed7953"
             ],
             [
              0.7777777777777778,
              "#fb9f3a"
             ],
             [
              0.8888888888888888,
              "#fdca26"
             ],
             [
              1,
              "#f0f921"
             ]
            ],
            "type": "surface"
           }
          ],
          "table": [
           {
            "cells": {
             "fill": {
              "color": "#EBF0F8"
             },
             "line": {
              "color": "white"
             }
            },
            "header": {
             "fill": {
              "color": "#C8D4E3"
             },
             "line": {
              "color": "white"
             }
            },
            "type": "table"
           }
          ]
         },
         "layout": {
          "annotationdefaults": {
           "arrowcolor": "#2a3f5f",
           "arrowhead": 0,
           "arrowwidth": 1
          },
          "coloraxis": {
           "colorbar": {
            "outlinewidth": 0,
            "ticks": ""
           }
          },
          "colorscale": {
           "diverging": [
            [
             0,
             "#8e0152"
            ],
            [
             0.1,
             "#c51b7d"
            ],
            [
             0.2,
             "#de77ae"
            ],
            [
             0.3,
             "#f1b6da"
            ],
            [
             0.4,
             "#fde0ef"
            ],
            [
             0.5,
             "#f7f7f7"
            ],
            [
             0.6,
             "#e6f5d0"
            ],
            [
             0.7,
             "#b8e186"
            ],
            [
             0.8,
             "#7fbc41"
            ],
            [
             0.9,
             "#4d9221"
            ],
            [
             1,
             "#276419"
            ]
           ],
           "sequential": [
            [
             0,
             "#0d0887"
            ],
            [
             0.1111111111111111,
             "#46039f"
            ],
            [
             0.2222222222222222,
             "#7201a8"
            ],
            [
             0.3333333333333333,
             "#9c179e"
            ],
            [
             0.4444444444444444,
             "#bd3786"
            ],
            [
             0.5555555555555556,
             "#d8576b"
            ],
            [
             0.6666666666666666,
             "#ed7953"
            ],
            [
             0.7777777777777778,
             "#fb9f3a"
            ],
            [
             0.8888888888888888,
             "#fdca26"
            ],
            [
             1,
             "#f0f921"
            ]
           ],
           "sequentialminus": [
            [
             0,
             "#0d0887"
            ],
            [
             0.1111111111111111,
             "#46039f"
            ],
            [
             0.2222222222222222,
             "#7201a8"
            ],
            [
             0.3333333333333333,
             "#9c179e"
            ],
            [
             0.4444444444444444,
             "#bd3786"
            ],
            [
             0.5555555555555556,
             "#d8576b"
            ],
            [
             0.6666666666666666,
             "#ed7953"
            ],
            [
             0.7777777777777778,
             "#fb9f3a"
            ],
            [
             0.8888888888888888,
             "#fdca26"
            ],
            [
             1,
             "#f0f921"
            ]
           ]
          },
          "colorway": [
           "#636efa",
           "#EF553B",
           "#00cc96",
           "#ab63fa",
           "#FFA15A",
           "#19d3f3",
           "#FF6692",
           "#B6E880",
           "#FF97FF",
           "#FECB52"
          ],
          "font": {
           "color": "#2a3f5f"
          },
          "geo": {
           "bgcolor": "white",
           "lakecolor": "white",
           "landcolor": "#E5ECF6",
           "showlakes": true,
           "showland": true,
           "subunitcolor": "white"
          },
          "hoverlabel": {
           "align": "left"
          },
          "hovermode": "closest",
          "mapbox": {
           "style": "light"
          },
          "paper_bgcolor": "white",
          "plot_bgcolor": "#E5ECF6",
          "polar": {
           "angularaxis": {
            "gridcolor": "white",
            "linecolor": "white",
            "ticks": ""
           },
           "bgcolor": "#E5ECF6",
           "radialaxis": {
            "gridcolor": "white",
            "linecolor": "white",
            "ticks": ""
           }
          },
          "scene": {
           "xaxis": {
            "backgroundcolor": "#E5ECF6",
            "gridcolor": "white",
            "gridwidth": 2,
            "linecolor": "white",
            "showbackground": true,
            "ticks": "",
            "zerolinecolor": "white"
           },
           "yaxis": {
            "backgroundcolor": "#E5ECF6",
            "gridcolor": "white",
            "gridwidth": 2,
            "linecolor": "white",
            "showbackground": true,
            "ticks": "",
            "zerolinecolor": "white"
           },
           "zaxis": {
            "backgroundcolor": "#E5ECF6",
            "gridcolor": "white",
            "gridwidth": 2,
            "linecolor": "white",
            "showbackground": true,
            "ticks": "",
            "zerolinecolor": "white"
           }
          },
          "shapedefaults": {
           "line": {
            "color": "#2a3f5f"
           }
          },
          "ternary": {
           "aaxis": {
            "gridcolor": "white",
            "linecolor": "white",
            "ticks": ""
           },
           "baxis": {
            "gridcolor": "white",
            "linecolor": "white",
            "ticks": ""
           },
           "bgcolor": "#E5ECF6",
           "caxis": {
            "gridcolor": "white",
            "linecolor": "white",
            "ticks": ""
           }
          },
          "title": {
           "x": 0.05
          },
          "xaxis": {
           "automargin": true,
           "gridcolor": "white",
           "linecolor": "white",
           "ticks": "",
           "title": {
            "standoff": 15
           },
           "zerolinecolor": "white",
           "zerolinewidth": 2
          },
          "yaxis": {
           "automargin": true,
           "gridcolor": "white",
           "linecolor": "white",
           "ticks": "",
           "title": {
            "standoff": 15
           },
           "zerolinecolor": "white",
           "zerolinewidth": 2
          }
         }
        },
        "title": {
         "font": {
          "color": "#4D5663"
         }
        },
        "xaxis": {
         "gridcolor": "#E1E5ED",
         "showgrid": true,
         "tickfont": {
          "color": "#4D5663"
         },
         "title": {
          "font": {
           "color": "#4D5663"
          },
          "text": ""
         },
         "zerolinecolor": "#E1E5ED"
        },
        "yaxis": {
         "gridcolor": "#E1E5ED",
         "showgrid": true,
         "tickfont": {
          "color": "#4D5663"
         },
         "title": {
          "font": {
           "color": "#4D5663"
          },
          "text": ""
         },
         "zerolinecolor": "#E1E5ED"
        }
       }
      },
      "text/html": [
       "<div>\n",
       "        \n",
       "        \n",
       "            <div id=\"a64320ba-f40e-409d-b6e4-00be125624f9\" class=\"plotly-graph-div\" style=\"height:525px; width:100%;\"></div>\n",
       "            <script type=\"text/javascript\">\n",
       "                require([\"plotly\"], function(Plotly) {\n",
       "                    window.PLOTLYENV=window.PLOTLYENV || {};\n",
       "                    window.PLOTLYENV.BASE_URL='https://plot.ly';\n",
       "                    \n",
       "                if (document.getElementById(\"a64320ba-f40e-409d-b6e4-00be125624f9\")) {\n",
       "                    Plotly.newPlot(\n",
       "                        'a64320ba-f40e-409d-b6e4-00be125624f9',\n",
       "                        [{\"marker\": {\"color\": \"rgba(255, 153, 51, 0.6)\", \"line\": {\"color\": \"rgba(255, 153, 51, 1.0)\", \"width\": 1}}, \"name\": \"Values\", \"orientation\": \"v\", \"text\": \"\", \"type\": \"bar\", \"x\": [\"A\", \"B\", \"C\"], \"y\": [32, 43, 50]}],\n",
       "                        {\"legend\": {\"bgcolor\": \"#F5F6F9\", \"font\": {\"color\": \"#4D5663\"}}, \"paper_bgcolor\": \"#F5F6F9\", \"plot_bgcolor\": \"#F5F6F9\", \"template\": {\"data\": {\"bar\": [{\"error_x\": {\"color\": \"#2a3f5f\"}, \"error_y\": {\"color\": \"#2a3f5f\"}, \"marker\": {\"line\": {\"color\": \"#E5ECF6\", \"width\": 0.5}}, \"type\": \"bar\"}], \"barpolar\": [{\"marker\": {\"line\": {\"color\": \"#E5ECF6\", \"width\": 0.5}}, \"type\": \"barpolar\"}], \"carpet\": [{\"aaxis\": {\"endlinecolor\": \"#2a3f5f\", \"gridcolor\": \"white\", \"linecolor\": \"white\", \"minorgridcolor\": \"white\", \"startlinecolor\": \"#2a3f5f\"}, \"baxis\": {\"endlinecolor\": \"#2a3f5f\", \"gridcolor\": \"white\", \"linecolor\": \"white\", \"minorgridcolor\": \"white\", \"startlinecolor\": \"#2a3f5f\"}, \"type\": \"carpet\"}], \"choropleth\": [{\"colorbar\": {\"outlinewidth\": 0, \"ticks\": \"\"}, \"type\": \"choropleth\"}], \"contour\": [{\"colorbar\": {\"outlinewidth\": 0, \"ticks\": \"\"}, \"colorscale\": [[0.0, \"#0d0887\"], [0.1111111111111111, \"#46039f\"], [0.2222222222222222, \"#7201a8\"], [0.3333333333333333, \"#9c179e\"], [0.4444444444444444, \"#bd3786\"], [0.5555555555555556, \"#d8576b\"], [0.6666666666666666, \"#ed7953\"], [0.7777777777777778, \"#fb9f3a\"], [0.8888888888888888, \"#fdca26\"], [1.0, \"#f0f921\"]], \"type\": \"contour\"}], \"contourcarpet\": [{\"colorbar\": {\"outlinewidth\": 0, \"ticks\": \"\"}, \"type\": \"contourcarpet\"}], \"heatmap\": [{\"colorbar\": {\"outlinewidth\": 0, \"ticks\": \"\"}, \"colorscale\": [[0.0, \"#0d0887\"], [0.1111111111111111, \"#46039f\"], [0.2222222222222222, \"#7201a8\"], [0.3333333333333333, \"#9c179e\"], [0.4444444444444444, \"#bd3786\"], [0.5555555555555556, \"#d8576b\"], [0.6666666666666666, \"#ed7953\"], [0.7777777777777778, \"#fb9f3a\"], [0.8888888888888888, \"#fdca26\"], [1.0, \"#f0f921\"]], \"type\": \"heatmap\"}], \"heatmapgl\": [{\"colorbar\": {\"outlinewidth\": 0, \"ticks\": \"\"}, \"colorscale\": [[0.0, \"#0d0887\"], [0.1111111111111111, \"#46039f\"], [0.2222222222222222, \"#7201a8\"], [0.3333333333333333, \"#9c179e\"], [0.4444444444444444, \"#bd3786\"], [0.5555555555555556, \"#d8576b\"], [0.6666666666666666, \"#ed7953\"], [0.7777777777777778, \"#fb9f3a\"], [0.8888888888888888, \"#fdca26\"], [1.0, \"#f0f921\"]], \"type\": \"heatmapgl\"}], \"histogram\": [{\"marker\": {\"colorbar\": {\"outlinewidth\": 0, \"ticks\": \"\"}}, \"type\": \"histogram\"}], \"histogram2d\": [{\"colorbar\": {\"outlinewidth\": 0, \"ticks\": \"\"}, \"colorscale\": [[0.0, \"#0d0887\"], [0.1111111111111111, \"#46039f\"], [0.2222222222222222, \"#7201a8\"], [0.3333333333333333, \"#9c179e\"], [0.4444444444444444, \"#bd3786\"], [0.5555555555555556, \"#d8576b\"], [0.6666666666666666, \"#ed7953\"], [0.7777777777777778, \"#fb9f3a\"], [0.8888888888888888, \"#fdca26\"], [1.0, \"#f0f921\"]], \"type\": \"histogram2d\"}], \"histogram2dcontour\": [{\"colorbar\": {\"outlinewidth\": 0, \"ticks\": \"\"}, \"colorscale\": [[0.0, \"#0d0887\"], [0.1111111111111111, \"#46039f\"], [0.2222222222222222, \"#7201a8\"], [0.3333333333333333, \"#9c179e\"], [0.4444444444444444, \"#bd3786\"], [0.5555555555555556, \"#d8576b\"], [0.6666666666666666, \"#ed7953\"], [0.7777777777777778, \"#fb9f3a\"], [0.8888888888888888, \"#fdca26\"], [1.0, \"#f0f921\"]], \"type\": \"histogram2dcontour\"}], \"mesh3d\": [{\"colorbar\": {\"outlinewidth\": 0, \"ticks\": \"\"}, \"type\": \"mesh3d\"}], \"parcoords\": [{\"line\": {\"colorbar\": {\"outlinewidth\": 0, \"ticks\": \"\"}}, \"type\": \"parcoords\"}], \"pie\": [{\"automargin\": true, \"type\": \"pie\"}], \"scatter\": [{\"marker\": {\"colorbar\": {\"outlinewidth\": 0, \"ticks\": \"\"}}, \"type\": \"scatter\"}], \"scatter3d\": [{\"line\": {\"colorbar\": {\"outlinewidth\": 0, \"ticks\": \"\"}}, \"marker\": {\"colorbar\": {\"outlinewidth\": 0, \"ticks\": \"\"}}, \"type\": \"scatter3d\"}], \"scattercarpet\": [{\"marker\": {\"colorbar\": {\"outlinewidth\": 0, \"ticks\": \"\"}}, \"type\": \"scattercarpet\"}], \"scattergeo\": [{\"marker\": {\"colorbar\": {\"outlinewidth\": 0, \"ticks\": \"\"}}, \"type\": \"scattergeo\"}], \"scattergl\": [{\"marker\": {\"colorbar\": {\"outlinewidth\": 0, \"ticks\": \"\"}}, \"type\": \"scattergl\"}], \"scattermapbox\": [{\"marker\": {\"colorbar\": {\"outlinewidth\": 0, \"ticks\": \"\"}}, \"type\": \"scattermapbox\"}], \"scatterpolar\": [{\"marker\": {\"colorbar\": {\"outlinewidth\": 0, \"ticks\": \"\"}}, \"type\": \"scatterpolar\"}], \"scatterpolargl\": [{\"marker\": {\"colorbar\": {\"outlinewidth\": 0, \"ticks\": \"\"}}, \"type\": \"scatterpolargl\"}], \"scatterternary\": [{\"marker\": {\"colorbar\": {\"outlinewidth\": 0, \"ticks\": \"\"}}, \"type\": \"scatterternary\"}], \"surface\": [{\"colorbar\": {\"outlinewidth\": 0, \"ticks\": \"\"}, \"colorscale\": [[0.0, \"#0d0887\"], [0.1111111111111111, \"#46039f\"], [0.2222222222222222, \"#7201a8\"], [0.3333333333333333, \"#9c179e\"], [0.4444444444444444, \"#bd3786\"], [0.5555555555555556, \"#d8576b\"], [0.6666666666666666, \"#ed7953\"], [0.7777777777777778, \"#fb9f3a\"], [0.8888888888888888, \"#fdca26\"], [1.0, \"#f0f921\"]], \"type\": \"surface\"}], \"table\": [{\"cells\": {\"fill\": {\"color\": \"#EBF0F8\"}, \"line\": {\"color\": \"white\"}}, \"header\": {\"fill\": {\"color\": \"#C8D4E3\"}, \"line\": {\"color\": \"white\"}}, \"type\": \"table\"}]}, \"layout\": {\"annotationdefaults\": {\"arrowcolor\": \"#2a3f5f\", \"arrowhead\": 0, \"arrowwidth\": 1}, \"coloraxis\": {\"colorbar\": {\"outlinewidth\": 0, \"ticks\": \"\"}}, \"colorscale\": {\"diverging\": [[0, \"#8e0152\"], [0.1, \"#c51b7d\"], [0.2, \"#de77ae\"], [0.3, \"#f1b6da\"], [0.4, \"#fde0ef\"], [0.5, \"#f7f7f7\"], [0.6, \"#e6f5d0\"], [0.7, \"#b8e186\"], [0.8, \"#7fbc41\"], [0.9, \"#4d9221\"], [1, \"#276419\"]], \"sequential\": [[0.0, \"#0d0887\"], [0.1111111111111111, \"#46039f\"], [0.2222222222222222, \"#7201a8\"], [0.3333333333333333, \"#9c179e\"], [0.4444444444444444, \"#bd3786\"], [0.5555555555555556, \"#d8576b\"], [0.6666666666666666, \"#ed7953\"], [0.7777777777777778, \"#fb9f3a\"], [0.8888888888888888, \"#fdca26\"], [1.0, \"#f0f921\"]], \"sequentialminus\": [[0.0, \"#0d0887\"], [0.1111111111111111, \"#46039f\"], [0.2222222222222222, \"#7201a8\"], [0.3333333333333333, \"#9c179e\"], [0.4444444444444444, \"#bd3786\"], [0.5555555555555556, \"#d8576b\"], [0.6666666666666666, \"#ed7953\"], [0.7777777777777778, \"#fb9f3a\"], [0.8888888888888888, \"#fdca26\"], [1.0, \"#f0f921\"]]}, \"colorway\": [\"#636efa\", \"#EF553B\", \"#00cc96\", \"#ab63fa\", \"#FFA15A\", \"#19d3f3\", \"#FF6692\", \"#B6E880\", \"#FF97FF\", \"#FECB52\"], \"font\": {\"color\": \"#2a3f5f\"}, \"geo\": {\"bgcolor\": \"white\", \"lakecolor\": \"white\", \"landcolor\": \"#E5ECF6\", \"showlakes\": true, \"showland\": true, \"subunitcolor\": \"white\"}, \"hoverlabel\": {\"align\": \"left\"}, \"hovermode\": \"closest\", \"mapbox\": {\"style\": \"light\"}, \"paper_bgcolor\": \"white\", \"plot_bgcolor\": \"#E5ECF6\", \"polar\": {\"angularaxis\": {\"gridcolor\": \"white\", \"linecolor\": \"white\", \"ticks\": \"\"}, \"bgcolor\": \"#E5ECF6\", \"radialaxis\": {\"gridcolor\": \"white\", \"linecolor\": \"white\", \"ticks\": \"\"}}, \"scene\": {\"xaxis\": {\"backgroundcolor\": \"#E5ECF6\", \"gridcolor\": \"white\", \"gridwidth\": 2, \"linecolor\": \"white\", \"showbackground\": true, \"ticks\": \"\", \"zerolinecolor\": \"white\"}, \"yaxis\": {\"backgroundcolor\": \"#E5ECF6\", \"gridcolor\": \"white\", \"gridwidth\": 2, \"linecolor\": \"white\", \"showbackground\": true, \"ticks\": \"\", \"zerolinecolor\": \"white\"}, \"zaxis\": {\"backgroundcolor\": \"#E5ECF6\", \"gridcolor\": \"white\", \"gridwidth\": 2, \"linecolor\": \"white\", \"showbackground\": true, \"ticks\": \"\", \"zerolinecolor\": \"white\"}}, \"shapedefaults\": {\"line\": {\"color\": \"#2a3f5f\"}}, \"ternary\": {\"aaxis\": {\"gridcolor\": \"white\", \"linecolor\": \"white\", \"ticks\": \"\"}, \"baxis\": {\"gridcolor\": \"white\", \"linecolor\": \"white\", \"ticks\": \"\"}, \"bgcolor\": \"#E5ECF6\", \"caxis\": {\"gridcolor\": \"white\", \"linecolor\": \"white\", \"ticks\": \"\"}}, \"title\": {\"x\": 0.05}, \"xaxis\": {\"automargin\": true, \"gridcolor\": \"white\", \"linecolor\": \"white\", \"ticks\": \"\", \"title\": {\"standoff\": 15}, \"zerolinecolor\": \"white\", \"zerolinewidth\": 2}, \"yaxis\": {\"automargin\": true, \"gridcolor\": \"white\", \"linecolor\": \"white\", \"ticks\": \"\", \"title\": {\"standoff\": 15}, \"zerolinecolor\": \"white\", \"zerolinewidth\": 2}}}, \"title\": {\"font\": {\"color\": \"#4D5663\"}}, \"xaxis\": {\"gridcolor\": \"#E1E5ED\", \"showgrid\": true, \"tickfont\": {\"color\": \"#4D5663\"}, \"title\": {\"font\": {\"color\": \"#4D5663\"}, \"text\": \"\"}, \"zerolinecolor\": \"#E1E5ED\"}, \"yaxis\": {\"gridcolor\": \"#E1E5ED\", \"showgrid\": true, \"tickfont\": {\"color\": \"#4D5663\"}, \"title\": {\"font\": {\"color\": \"#4D5663\"}, \"text\": \"\"}, \"zerolinecolor\": \"#E1E5ED\"}},\n",
       "                        {\"showLink\": true, \"linkText\": \"Export to plot.ly\", \"plotlyServerURL\": \"https://plot.ly\", \"responsive\": true}\n",
       "                    ).then(function(){\n",
       "                            \n",
       "var gd = document.getElementById('a64320ba-f40e-409d-b6e4-00be125624f9');\n",
       "var x = new MutationObserver(function (mutations, observer) {{\n",
       "        var display = window.getComputedStyle(gd).display;\n",
       "        if (!display || display === 'none') {{\n",
       "            console.log([gd, 'removed!']);\n",
       "            Plotly.purge(gd);\n",
       "            observer.disconnect();\n",
       "        }}\n",
       "}});\n",
       "\n",
       "// Listen for the removal of the full notebook cells\n",
       "var notebookContainer = gd.closest('#notebook-container');\n",
       "if (notebookContainer) {{\n",
       "    x.observe(notebookContainer, {childList: true});\n",
       "}}\n",
       "\n",
       "// Listen for the clearing of the current output cell\n",
       "var outputEl = gd.closest('.output');\n",
       "if (outputEl) {{\n",
       "    x.observe(outputEl, {childList: true});\n",
       "}}\n",
       "\n",
       "                        })\n",
       "                };\n",
       "                });\n",
       "            </script>\n",
       "        </div>"
      ]
     },
     "metadata": {},
     "output_type": "display_data"
    }
   ],
   "source": [
    "df2.iplot(kind='bar',x='Category',y='Values')"
   ]
  },
  {
   "cell_type": "code",
   "execution_count": 12,
   "metadata": {},
   "outputs": [
    {
     "data": {
      "application/vnd.plotly.v1+json": {
       "config": {
        "linkText": "Export to plot.ly",
        "plotlyServerURL": "https://plot.ly",
        "showLink": true
       },
       "data": [
        {
         "marker": {
          "color": "rgba(255, 153, 51, 0.6)",
          "line": {
           "color": "rgba(255, 153, 51, 1.0)",
           "width": 1
          }
         },
         "name": "None",
         "orientation": "v",
         "text": "",
         "type": "bar",
         "x": [
          "A",
          "B",
          "C",
          "D"
         ],
         "y": [
          100,
          100,
          100,
          100
         ]
        }
       ],
       "layout": {
        "legend": {
         "bgcolor": "#F5F6F9",
         "font": {
          "color": "#4D5663"
         }
        },
        "paper_bgcolor": "#F5F6F9",
        "plot_bgcolor": "#F5F6F9",
        "template": {
         "data": {
          "bar": [
           {
            "error_x": {
             "color": "#2a3f5f"
            },
            "error_y": {
             "color": "#2a3f5f"
            },
            "marker": {
             "line": {
              "color": "#E5ECF6",
              "width": 0.5
             }
            },
            "type": "bar"
           }
          ],
          "barpolar": [
           {
            "marker": {
             "line": {
              "color": "#E5ECF6",
              "width": 0.5
             }
            },
            "type": "barpolar"
           }
          ],
          "carpet": [
           {
            "aaxis": {
             "endlinecolor": "#2a3f5f",
             "gridcolor": "white",
             "linecolor": "white",
             "minorgridcolor": "white",
             "startlinecolor": "#2a3f5f"
            },
            "baxis": {
             "endlinecolor": "#2a3f5f",
             "gridcolor": "white",
             "linecolor": "white",
             "minorgridcolor": "white",
             "startlinecolor": "#2a3f5f"
            },
            "type": "carpet"
           }
          ],
          "choropleth": [
           {
            "colorbar": {
             "outlinewidth": 0,
             "ticks": ""
            },
            "type": "choropleth"
           }
          ],
          "contour": [
           {
            "colorbar": {
             "outlinewidth": 0,
             "ticks": ""
            },
            "colorscale": [
             [
              0,
              "#0d0887"
             ],
             [
              0.1111111111111111,
              "#46039f"
             ],
             [
              0.2222222222222222,
              "#7201a8"
             ],
             [
              0.3333333333333333,
              "#9c179e"
             ],
             [
              0.4444444444444444,
              "#bd3786"
             ],
             [
              0.5555555555555556,
              "#d8576b"
             ],
             [
              0.6666666666666666,
              "#ed7953"
             ],
             [
              0.7777777777777778,
              "#fb9f3a"
             ],
             [
              0.8888888888888888,
              "#fdca26"
             ],
             [
              1,
              "#f0f921"
             ]
            ],
            "type": "contour"
           }
          ],
          "contourcarpet": [
           {
            "colorbar": {
             "outlinewidth": 0,
             "ticks": ""
            },
            "type": "contourcarpet"
           }
          ],
          "heatmap": [
           {
            "colorbar": {
             "outlinewidth": 0,
             "ticks": ""
            },
            "colorscale": [
             [
              0,
              "#0d0887"
             ],
             [
              0.1111111111111111,
              "#46039f"
             ],
             [
              0.2222222222222222,
              "#7201a8"
             ],
             [
              0.3333333333333333,
              "#9c179e"
             ],
             [
              0.4444444444444444,
              "#bd3786"
             ],
             [
              0.5555555555555556,
              "#d8576b"
             ],
             [
              0.6666666666666666,
              "#ed7953"
             ],
             [
              0.7777777777777778,
              "#fb9f3a"
             ],
             [
              0.8888888888888888,
              "#fdca26"
             ],
             [
              1,
              "#f0f921"
             ]
            ],
            "type": "heatmap"
           }
          ],
          "heatmapgl": [
           {
            "colorbar": {
             "outlinewidth": 0,
             "ticks": ""
            },
            "colorscale": [
             [
              0,
              "#0d0887"
             ],
             [
              0.1111111111111111,
              "#46039f"
             ],
             [
              0.2222222222222222,
              "#7201a8"
             ],
             [
              0.3333333333333333,
              "#9c179e"
             ],
             [
              0.4444444444444444,
              "#bd3786"
             ],
             [
              0.5555555555555556,
              "#d8576b"
             ],
             [
              0.6666666666666666,
              "#ed7953"
             ],
             [
              0.7777777777777778,
              "#fb9f3a"
             ],
             [
              0.8888888888888888,
              "#fdca26"
             ],
             [
              1,
              "#f0f921"
             ]
            ],
            "type": "heatmapgl"
           }
          ],
          "histogram": [
           {
            "marker": {
             "colorbar": {
              "outlinewidth": 0,
              "ticks": ""
             }
            },
            "type": "histogram"
           }
          ],
          "histogram2d": [
           {
            "colorbar": {
             "outlinewidth": 0,
             "ticks": ""
            },
            "colorscale": [
             [
              0,
              "#0d0887"
             ],
             [
              0.1111111111111111,
              "#46039f"
             ],
             [
              0.2222222222222222,
              "#7201a8"
             ],
             [
              0.3333333333333333,
              "#9c179e"
             ],
             [
              0.4444444444444444,
              "#bd3786"
             ],
             [
              0.5555555555555556,
              "#d8576b"
             ],
             [
              0.6666666666666666,
              "#ed7953"
             ],
             [
              0.7777777777777778,
              "#fb9f3a"
             ],
             [
              0.8888888888888888,
              "#fdca26"
             ],
             [
              1,
              "#f0f921"
             ]
            ],
            "type": "histogram2d"
           }
          ],
          "histogram2dcontour": [
           {
            "colorbar": {
             "outlinewidth": 0,
             "ticks": ""
            },
            "colorscale": [
             [
              0,
              "#0d0887"
             ],
             [
              0.1111111111111111,
              "#46039f"
             ],
             [
              0.2222222222222222,
              "#7201a8"
             ],
             [
              0.3333333333333333,
              "#9c179e"
             ],
             [
              0.4444444444444444,
              "#bd3786"
             ],
             [
              0.5555555555555556,
              "#d8576b"
             ],
             [
              0.6666666666666666,
              "#ed7953"
             ],
             [
              0.7777777777777778,
              "#fb9f3a"
             ],
             [
              0.8888888888888888,
              "#fdca26"
             ],
             [
              1,
              "#f0f921"
             ]
            ],
            "type": "histogram2dcontour"
           }
          ],
          "mesh3d": [
           {
            "colorbar": {
             "outlinewidth": 0,
             "ticks": ""
            },
            "type": "mesh3d"
           }
          ],
          "parcoords": [
           {
            "line": {
             "colorbar": {
              "outlinewidth": 0,
              "ticks": ""
             }
            },
            "type": "parcoords"
           }
          ],
          "pie": [
           {
            "automargin": true,
            "type": "pie"
           }
          ],
          "scatter": [
           {
            "marker": {
             "colorbar": {
              "outlinewidth": 0,
              "ticks": ""
             }
            },
            "type": "scatter"
           }
          ],
          "scatter3d": [
           {
            "line": {
             "colorbar": {
              "outlinewidth": 0,
              "ticks": ""
             }
            },
            "marker": {
             "colorbar": {
              "outlinewidth": 0,
              "ticks": ""
             }
            },
            "type": "scatter3d"
           }
          ],
          "scattercarpet": [
           {
            "marker": {
             "colorbar": {
              "outlinewidth": 0,
              "ticks": ""
             }
            },
            "type": "scattercarpet"
           }
          ],
          "scattergeo": [
           {
            "marker": {
             "colorbar": {
              "outlinewidth": 0,
              "ticks": ""
             }
            },
            "type": "scattergeo"
           }
          ],
          "scattergl": [
           {
            "marker": {
             "colorbar": {
              "outlinewidth": 0,
              "ticks": ""
             }
            },
            "type": "scattergl"
           }
          ],
          "scattermapbox": [
           {
            "marker": {
             "colorbar": {
              "outlinewidth": 0,
              "ticks": ""
             }
            },
            "type": "scattermapbox"
           }
          ],
          "scatterpolar": [
           {
            "marker": {
             "colorbar": {
              "outlinewidth": 0,
              "ticks": ""
             }
            },
            "type": "scatterpolar"
           }
          ],
          "scatterpolargl": [
           {
            "marker": {
             "colorbar": {
              "outlinewidth": 0,
              "ticks": ""
             }
            },
            "type": "scatterpolargl"
           }
          ],
          "scatterternary": [
           {
            "marker": {
             "colorbar": {
              "outlinewidth": 0,
              "ticks": ""
             }
            },
            "type": "scatterternary"
           }
          ],
          "surface": [
           {
            "colorbar": {
             "outlinewidth": 0,
             "ticks": ""
            },
            "colorscale": [
             [
              0,
              "#0d0887"
             ],
             [
              0.1111111111111111,
              "#46039f"
             ],
             [
              0.2222222222222222,
              "#7201a8"
             ],
             [
              0.3333333333333333,
              "#9c179e"
             ],
             [
              0.4444444444444444,
              "#bd3786"
             ],
             [
              0.5555555555555556,
              "#d8576b"
             ],
             [
              0.6666666666666666,
              "#ed7953"
             ],
             [
              0.7777777777777778,
              "#fb9f3a"
             ],
             [
              0.8888888888888888,
              "#fdca26"
             ],
             [
              1,
              "#f0f921"
             ]
            ],
            "type": "surface"
           }
          ],
          "table": [
           {
            "cells": {
             "fill": {
              "color": "#EBF0F8"
             },
             "line": {
              "color": "white"
             }
            },
            "header": {
             "fill": {
              "color": "#C8D4E3"
             },
             "line": {
              "color": "white"
             }
            },
            "type": "table"
           }
          ]
         },
         "layout": {
          "annotationdefaults": {
           "arrowcolor": "#2a3f5f",
           "arrowhead": 0,
           "arrowwidth": 1
          },
          "coloraxis": {
           "colorbar": {
            "outlinewidth": 0,
            "ticks": ""
           }
          },
          "colorscale": {
           "diverging": [
            [
             0,
             "#8e0152"
            ],
            [
             0.1,
             "#c51b7d"
            ],
            [
             0.2,
             "#de77ae"
            ],
            [
             0.3,
             "#f1b6da"
            ],
            [
             0.4,
             "#fde0ef"
            ],
            [
             0.5,
             "#f7f7f7"
            ],
            [
             0.6,
             "#e6f5d0"
            ],
            [
             0.7,
             "#b8e186"
            ],
            [
             0.8,
             "#7fbc41"
            ],
            [
             0.9,
             "#4d9221"
            ],
            [
             1,
             "#276419"
            ]
           ],
           "sequential": [
            [
             0,
             "#0d0887"
            ],
            [
             0.1111111111111111,
             "#46039f"
            ],
            [
             0.2222222222222222,
             "#7201a8"
            ],
            [
             0.3333333333333333,
             "#9c179e"
            ],
            [
             0.4444444444444444,
             "#bd3786"
            ],
            [
             0.5555555555555556,
             "#d8576b"
            ],
            [
             0.6666666666666666,
             "#ed7953"
            ],
            [
             0.7777777777777778,
             "#fb9f3a"
            ],
            [
             0.8888888888888888,
             "#fdca26"
            ],
            [
             1,
             "#f0f921"
            ]
           ],
           "sequentialminus": [
            [
             0,
             "#0d0887"
            ],
            [
             0.1111111111111111,
             "#46039f"
            ],
            [
             0.2222222222222222,
             "#7201a8"
            ],
            [
             0.3333333333333333,
             "#9c179e"
            ],
            [
             0.4444444444444444,
             "#bd3786"
            ],
            [
             0.5555555555555556,
             "#d8576b"
            ],
            [
             0.6666666666666666,
             "#ed7953"
            ],
            [
             0.7777777777777778,
             "#fb9f3a"
            ],
            [
             0.8888888888888888,
             "#fdca26"
            ],
            [
             1,
             "#f0f921"
            ]
           ]
          },
          "colorway": [
           "#636efa",
           "#EF553B",
           "#00cc96",
           "#ab63fa",
           "#FFA15A",
           "#19d3f3",
           "#FF6692",
           "#B6E880",
           "#FF97FF",
           "#FECB52"
          ],
          "font": {
           "color": "#2a3f5f"
          },
          "geo": {
           "bgcolor": "white",
           "lakecolor": "white",
           "landcolor": "#E5ECF6",
           "showlakes": true,
           "showland": true,
           "subunitcolor": "white"
          },
          "hoverlabel": {
           "align": "left"
          },
          "hovermode": "closest",
          "mapbox": {
           "style": "light"
          },
          "paper_bgcolor": "white",
          "plot_bgcolor": "#E5ECF6",
          "polar": {
           "angularaxis": {
            "gridcolor": "white",
            "linecolor": "white",
            "ticks": ""
           },
           "bgcolor": "#E5ECF6",
           "radialaxis": {
            "gridcolor": "white",
            "linecolor": "white",
            "ticks": ""
           }
          },
          "scene": {
           "xaxis": {
            "backgroundcolor": "#E5ECF6",
            "gridcolor": "white",
            "gridwidth": 2,
            "linecolor": "white",
            "showbackground": true,
            "ticks": "",
            "zerolinecolor": "white"
           },
           "yaxis": {
            "backgroundcolor": "#E5ECF6",
            "gridcolor": "white",
            "gridwidth": 2,
            "linecolor": "white",
            "showbackground": true,
            "ticks": "",
            "zerolinecolor": "white"
           },
           "zaxis": {
            "backgroundcolor": "#E5ECF6",
            "gridcolor": "white",
            "gridwidth": 2,
            "linecolor": "white",
            "showbackground": true,
            "ticks": "",
            "zerolinecolor": "white"
           }
          },
          "shapedefaults": {
           "line": {
            "color": "#2a3f5f"
           }
          },
          "ternary": {
           "aaxis": {
            "gridcolor": "white",
            "linecolor": "white",
            "ticks": ""
           },
           "baxis": {
            "gridcolor": "white",
            "linecolor": "white",
            "ticks": ""
           },
           "bgcolor": "#E5ECF6",
           "caxis": {
            "gridcolor": "white",
            "linecolor": "white",
            "ticks": ""
           }
          },
          "title": {
           "x": 0.05
          },
          "xaxis": {
           "automargin": true,
           "gridcolor": "white",
           "linecolor": "white",
           "ticks": "",
           "title": {
            "standoff": 15
           },
           "zerolinecolor": "white",
           "zerolinewidth": 2
          },
          "yaxis": {
           "automargin": true,
           "gridcolor": "white",
           "linecolor": "white",
           "ticks": "",
           "title": {
            "standoff": 15
           },
           "zerolinecolor": "white",
           "zerolinewidth": 2
          }
         }
        },
        "title": {
         "font": {
          "color": "#4D5663"
         }
        },
        "xaxis": {
         "gridcolor": "#E1E5ED",
         "showgrid": true,
         "tickfont": {
          "color": "#4D5663"
         },
         "title": {
          "font": {
           "color": "#4D5663"
          },
          "text": ""
         },
         "zerolinecolor": "#E1E5ED"
        },
        "yaxis": {
         "gridcolor": "#E1E5ED",
         "showgrid": true,
         "tickfont": {
          "color": "#4D5663"
         },
         "title": {
          "font": {
           "color": "#4D5663"
          },
          "text": ""
         },
         "zerolinecolor": "#E1E5ED"
        }
       }
      },
      "text/html": [
       "<div>\n",
       "        \n",
       "        \n",
       "            <div id=\"0c06caa7-e51b-4940-8a28-4970fb0be7a0\" class=\"plotly-graph-div\" style=\"height:525px; width:100%;\"></div>\n",
       "            <script type=\"text/javascript\">\n",
       "                require([\"plotly\"], function(Plotly) {\n",
       "                    window.PLOTLYENV=window.PLOTLYENV || {};\n",
       "                    window.PLOTLYENV.BASE_URL='https://plot.ly';\n",
       "                    \n",
       "                if (document.getElementById(\"0c06caa7-e51b-4940-8a28-4970fb0be7a0\")) {\n",
       "                    Plotly.newPlot(\n",
       "                        '0c06caa7-e51b-4940-8a28-4970fb0be7a0',\n",
       "                        [{\"marker\": {\"color\": \"rgba(255, 153, 51, 0.6)\", \"line\": {\"color\": \"rgba(255, 153, 51, 1.0)\", \"width\": 1}}, \"name\": \"None\", \"orientation\": \"v\", \"text\": \"\", \"type\": \"bar\", \"x\": [\"A\", \"B\", \"C\", \"D\"], \"y\": [100, 100, 100, 100]}],\n",
       "                        {\"legend\": {\"bgcolor\": \"#F5F6F9\", \"font\": {\"color\": \"#4D5663\"}}, \"paper_bgcolor\": \"#F5F6F9\", \"plot_bgcolor\": \"#F5F6F9\", \"template\": {\"data\": {\"bar\": [{\"error_x\": {\"color\": \"#2a3f5f\"}, \"error_y\": {\"color\": \"#2a3f5f\"}, \"marker\": {\"line\": {\"color\": \"#E5ECF6\", \"width\": 0.5}}, \"type\": \"bar\"}], \"barpolar\": [{\"marker\": {\"line\": {\"color\": \"#E5ECF6\", \"width\": 0.5}}, \"type\": \"barpolar\"}], \"carpet\": [{\"aaxis\": {\"endlinecolor\": \"#2a3f5f\", \"gridcolor\": \"white\", \"linecolor\": \"white\", \"minorgridcolor\": \"white\", \"startlinecolor\": \"#2a3f5f\"}, \"baxis\": {\"endlinecolor\": \"#2a3f5f\", \"gridcolor\": \"white\", \"linecolor\": \"white\", \"minorgridcolor\": \"white\", \"startlinecolor\": \"#2a3f5f\"}, \"type\": \"carpet\"}], \"choropleth\": [{\"colorbar\": {\"outlinewidth\": 0, \"ticks\": \"\"}, \"type\": \"choropleth\"}], \"contour\": [{\"colorbar\": {\"outlinewidth\": 0, \"ticks\": \"\"}, \"colorscale\": [[0.0, \"#0d0887\"], [0.1111111111111111, \"#46039f\"], [0.2222222222222222, \"#7201a8\"], [0.3333333333333333, \"#9c179e\"], [0.4444444444444444, \"#bd3786\"], [0.5555555555555556, \"#d8576b\"], [0.6666666666666666, \"#ed7953\"], [0.7777777777777778, \"#fb9f3a\"], [0.8888888888888888, \"#fdca26\"], [1.0, \"#f0f921\"]], \"type\": \"contour\"}], \"contourcarpet\": [{\"colorbar\": {\"outlinewidth\": 0, \"ticks\": \"\"}, \"type\": \"contourcarpet\"}], \"heatmap\": [{\"colorbar\": {\"outlinewidth\": 0, \"ticks\": \"\"}, \"colorscale\": [[0.0, \"#0d0887\"], [0.1111111111111111, \"#46039f\"], [0.2222222222222222, \"#7201a8\"], [0.3333333333333333, \"#9c179e\"], [0.4444444444444444, \"#bd3786\"], [0.5555555555555556, \"#d8576b\"], [0.6666666666666666, \"#ed7953\"], [0.7777777777777778, \"#fb9f3a\"], [0.8888888888888888, \"#fdca26\"], [1.0, \"#f0f921\"]], \"type\": \"heatmap\"}], \"heatmapgl\": [{\"colorbar\": {\"outlinewidth\": 0, \"ticks\": \"\"}, \"colorscale\": [[0.0, \"#0d0887\"], [0.1111111111111111, \"#46039f\"], [0.2222222222222222, \"#7201a8\"], [0.3333333333333333, \"#9c179e\"], [0.4444444444444444, \"#bd3786\"], [0.5555555555555556, \"#d8576b\"], [0.6666666666666666, \"#ed7953\"], [0.7777777777777778, \"#fb9f3a\"], [0.8888888888888888, \"#fdca26\"], [1.0, \"#f0f921\"]], \"type\": \"heatmapgl\"}], \"histogram\": [{\"marker\": {\"colorbar\": {\"outlinewidth\": 0, \"ticks\": \"\"}}, \"type\": \"histogram\"}], \"histogram2d\": [{\"colorbar\": {\"outlinewidth\": 0, \"ticks\": \"\"}, \"colorscale\": [[0.0, \"#0d0887\"], [0.1111111111111111, \"#46039f\"], [0.2222222222222222, \"#7201a8\"], [0.3333333333333333, \"#9c179e\"], [0.4444444444444444, \"#bd3786\"], [0.5555555555555556, \"#d8576b\"], [0.6666666666666666, \"#ed7953\"], [0.7777777777777778, \"#fb9f3a\"], [0.8888888888888888, \"#fdca26\"], [1.0, \"#f0f921\"]], \"type\": \"histogram2d\"}], \"histogram2dcontour\": [{\"colorbar\": {\"outlinewidth\": 0, \"ticks\": \"\"}, \"colorscale\": [[0.0, \"#0d0887\"], [0.1111111111111111, \"#46039f\"], [0.2222222222222222, \"#7201a8\"], [0.3333333333333333, \"#9c179e\"], [0.4444444444444444, \"#bd3786\"], [0.5555555555555556, \"#d8576b\"], [0.6666666666666666, \"#ed7953\"], [0.7777777777777778, \"#fb9f3a\"], [0.8888888888888888, \"#fdca26\"], [1.0, \"#f0f921\"]], \"type\": \"histogram2dcontour\"}], \"mesh3d\": [{\"colorbar\": {\"outlinewidth\": 0, \"ticks\": \"\"}, \"type\": \"mesh3d\"}], \"parcoords\": [{\"line\": {\"colorbar\": {\"outlinewidth\": 0, \"ticks\": \"\"}}, \"type\": \"parcoords\"}], \"pie\": [{\"automargin\": true, \"type\": \"pie\"}], \"scatter\": [{\"marker\": {\"colorbar\": {\"outlinewidth\": 0, \"ticks\": \"\"}}, \"type\": \"scatter\"}], \"scatter3d\": [{\"line\": {\"colorbar\": {\"outlinewidth\": 0, \"ticks\": \"\"}}, \"marker\": {\"colorbar\": {\"outlinewidth\": 0, \"ticks\": \"\"}}, \"type\": \"scatter3d\"}], \"scattercarpet\": [{\"marker\": {\"colorbar\": {\"outlinewidth\": 0, \"ticks\": \"\"}}, \"type\": \"scattercarpet\"}], \"scattergeo\": [{\"marker\": {\"colorbar\": {\"outlinewidth\": 0, \"ticks\": \"\"}}, \"type\": \"scattergeo\"}], \"scattergl\": [{\"marker\": {\"colorbar\": {\"outlinewidth\": 0, \"ticks\": \"\"}}, \"type\": \"scattergl\"}], \"scattermapbox\": [{\"marker\": {\"colorbar\": {\"outlinewidth\": 0, \"ticks\": \"\"}}, \"type\": \"scattermapbox\"}], \"scatterpolar\": [{\"marker\": {\"colorbar\": {\"outlinewidth\": 0, \"ticks\": \"\"}}, \"type\": \"scatterpolar\"}], \"scatterpolargl\": [{\"marker\": {\"colorbar\": {\"outlinewidth\": 0, \"ticks\": \"\"}}, \"type\": \"scatterpolargl\"}], \"scatterternary\": [{\"marker\": {\"colorbar\": {\"outlinewidth\": 0, \"ticks\": \"\"}}, \"type\": \"scatterternary\"}], \"surface\": [{\"colorbar\": {\"outlinewidth\": 0, \"ticks\": \"\"}, \"colorscale\": [[0.0, \"#0d0887\"], [0.1111111111111111, \"#46039f\"], [0.2222222222222222, \"#7201a8\"], [0.3333333333333333, \"#9c179e\"], [0.4444444444444444, \"#bd3786\"], [0.5555555555555556, \"#d8576b\"], [0.6666666666666666, \"#ed7953\"], [0.7777777777777778, \"#fb9f3a\"], [0.8888888888888888, \"#fdca26\"], [1.0, \"#f0f921\"]], \"type\": \"surface\"}], \"table\": [{\"cells\": {\"fill\": {\"color\": \"#EBF0F8\"}, \"line\": {\"color\": \"white\"}}, \"header\": {\"fill\": {\"color\": \"#C8D4E3\"}, \"line\": {\"color\": \"white\"}}, \"type\": \"table\"}]}, \"layout\": {\"annotationdefaults\": {\"arrowcolor\": \"#2a3f5f\", \"arrowhead\": 0, \"arrowwidth\": 1}, \"coloraxis\": {\"colorbar\": {\"outlinewidth\": 0, \"ticks\": \"\"}}, \"colorscale\": {\"diverging\": [[0, \"#8e0152\"], [0.1, \"#c51b7d\"], [0.2, \"#de77ae\"], [0.3, \"#f1b6da\"], [0.4, \"#fde0ef\"], [0.5, \"#f7f7f7\"], [0.6, \"#e6f5d0\"], [0.7, \"#b8e186\"], [0.8, \"#7fbc41\"], [0.9, \"#4d9221\"], [1, \"#276419\"]], \"sequential\": [[0.0, \"#0d0887\"], [0.1111111111111111, \"#46039f\"], [0.2222222222222222, \"#7201a8\"], [0.3333333333333333, \"#9c179e\"], [0.4444444444444444, \"#bd3786\"], [0.5555555555555556, \"#d8576b\"], [0.6666666666666666, \"#ed7953\"], [0.7777777777777778, \"#fb9f3a\"], [0.8888888888888888, \"#fdca26\"], [1.0, \"#f0f921\"]], \"sequentialminus\": [[0.0, \"#0d0887\"], [0.1111111111111111, \"#46039f\"], [0.2222222222222222, \"#7201a8\"], [0.3333333333333333, \"#9c179e\"], [0.4444444444444444, \"#bd3786\"], [0.5555555555555556, \"#d8576b\"], [0.6666666666666666, \"#ed7953\"], [0.7777777777777778, \"#fb9f3a\"], [0.8888888888888888, \"#fdca26\"], [1.0, \"#f0f921\"]]}, \"colorway\": [\"#636efa\", \"#EF553B\", \"#00cc96\", \"#ab63fa\", \"#FFA15A\", \"#19d3f3\", \"#FF6692\", \"#B6E880\", \"#FF97FF\", \"#FECB52\"], \"font\": {\"color\": \"#2a3f5f\"}, \"geo\": {\"bgcolor\": \"white\", \"lakecolor\": \"white\", \"landcolor\": \"#E5ECF6\", \"showlakes\": true, \"showland\": true, \"subunitcolor\": \"white\"}, \"hoverlabel\": {\"align\": \"left\"}, \"hovermode\": \"closest\", \"mapbox\": {\"style\": \"light\"}, \"paper_bgcolor\": \"white\", \"plot_bgcolor\": \"#E5ECF6\", \"polar\": {\"angularaxis\": {\"gridcolor\": \"white\", \"linecolor\": \"white\", \"ticks\": \"\"}, \"bgcolor\": \"#E5ECF6\", \"radialaxis\": {\"gridcolor\": \"white\", \"linecolor\": \"white\", \"ticks\": \"\"}}, \"scene\": {\"xaxis\": {\"backgroundcolor\": \"#E5ECF6\", \"gridcolor\": \"white\", \"gridwidth\": 2, \"linecolor\": \"white\", \"showbackground\": true, \"ticks\": \"\", \"zerolinecolor\": \"white\"}, \"yaxis\": {\"backgroundcolor\": \"#E5ECF6\", \"gridcolor\": \"white\", \"gridwidth\": 2, \"linecolor\": \"white\", \"showbackground\": true, \"ticks\": \"\", \"zerolinecolor\": \"white\"}, \"zaxis\": {\"backgroundcolor\": \"#E5ECF6\", \"gridcolor\": \"white\", \"gridwidth\": 2, \"linecolor\": \"white\", \"showbackground\": true, \"ticks\": \"\", \"zerolinecolor\": \"white\"}}, \"shapedefaults\": {\"line\": {\"color\": \"#2a3f5f\"}}, \"ternary\": {\"aaxis\": {\"gridcolor\": \"white\", \"linecolor\": \"white\", \"ticks\": \"\"}, \"baxis\": {\"gridcolor\": \"white\", \"linecolor\": \"white\", \"ticks\": \"\"}, \"bgcolor\": \"#E5ECF6\", \"caxis\": {\"gridcolor\": \"white\", \"linecolor\": \"white\", \"ticks\": \"\"}}, \"title\": {\"x\": 0.05}, \"xaxis\": {\"automargin\": true, \"gridcolor\": \"white\", \"linecolor\": \"white\", \"ticks\": \"\", \"title\": {\"standoff\": 15}, \"zerolinecolor\": \"white\", \"zerolinewidth\": 2}, \"yaxis\": {\"automargin\": true, \"gridcolor\": \"white\", \"linecolor\": \"white\", \"ticks\": \"\", \"title\": {\"standoff\": 15}, \"zerolinecolor\": \"white\", \"zerolinewidth\": 2}}}, \"title\": {\"font\": {\"color\": \"#4D5663\"}}, \"xaxis\": {\"gridcolor\": \"#E1E5ED\", \"showgrid\": true, \"tickfont\": {\"color\": \"#4D5663\"}, \"title\": {\"font\": {\"color\": \"#4D5663\"}, \"text\": \"\"}, \"zerolinecolor\": \"#E1E5ED\"}, \"yaxis\": {\"gridcolor\": \"#E1E5ED\", \"showgrid\": true, \"tickfont\": {\"color\": \"#4D5663\"}, \"title\": {\"font\": {\"color\": \"#4D5663\"}, \"text\": \"\"}, \"zerolinecolor\": \"#E1E5ED\"}},\n",
       "                        {\"showLink\": true, \"linkText\": \"Export to plot.ly\", \"plotlyServerURL\": \"https://plot.ly\", \"responsive\": true}\n",
       "                    ).then(function(){\n",
       "                            \n",
       "var gd = document.getElementById('0c06caa7-e51b-4940-8a28-4970fb0be7a0');\n",
       "var x = new MutationObserver(function (mutations, observer) {{\n",
       "        var display = window.getComputedStyle(gd).display;\n",
       "        if (!display || display === 'none') {{\n",
       "            console.log([gd, 'removed!']);\n",
       "            Plotly.purge(gd);\n",
       "            observer.disconnect();\n",
       "        }}\n",
       "}});\n",
       "\n",
       "// Listen for the removal of the full notebook cells\n",
       "var notebookContainer = gd.closest('#notebook-container');\n",
       "if (notebookContainer) {{\n",
       "    x.observe(notebookContainer, {childList: true});\n",
       "}}\n",
       "\n",
       "// Listen for the clearing of the current output cell\n",
       "var outputEl = gd.closest('.output');\n",
       "if (outputEl) {{\n",
       "    x.observe(outputEl, {childList: true});\n",
       "}}\n",
       "\n",
       "                        })\n",
       "                };\n",
       "                });\n",
       "            </script>\n",
       "        </div>"
      ]
     },
     "metadata": {},
     "output_type": "display_data"
    }
   ],
   "source": [
    "df.count().iplot(kind='bar')"
   ]
  },
  {
   "cell_type": "markdown",
   "metadata": {},
   "source": [
    "## Boxplots"
   ]
  },
  {
   "cell_type": "code",
   "execution_count": 34,
   "metadata": {},
   "outputs": [
    {
     "data": {
      "text/html": [
       "<div id=\"5d45edc4-c4ad-4a76-9cf3-b0c8f88287f7\" style=\"height: 525px; width: 100%;\" class=\"plotly-graph-div\"></div><script type=\"text/javascript\">require([\"plotly\"], function(Plotly) { window.PLOTLYENV=window.PLOTLYENV || {};window.PLOTLYENV.BASE_URL=\"https://plot.ly\";Plotly.newPlot(\"5d45edc4-c4ad-4a76-9cf3-b0c8f88287f7\", [{\"name\": \"A\", \"boxpoints\": false, \"y\": [1.8787246669561561, 0.028733616663923985, -0.1587931161277573, -1.2219723462024636, 1.2531523973363488, 0.8312132082951045, 1.1740170898586173, -0.24393002059589958, -0.296966543277261, 0.7621695759158762, 0.04210347865555278, -0.7791970481917073, 0.3943032396655093, -1.0146190736152443, -0.4841710096782867, 0.5522466668361006, -2.77187556758784, -0.5181226698708166, -0.49722040792422156, -1.6534757596659548, -0.06027439377033132, 1.4769243769038323, 1.1796346669498379, -0.7816898015019265, 0.8630132212967984, 0.6590246731638996, -1.1013906677685679, -0.9446804895542242, -1.788022470413331, 0.8775002821729455, 0.3546715768521251, -0.16532125735222183, 1.8914747239632839, -1.1251772915449791, 0.8888981026894395, -0.6066117727706714, 0.8314777742724779, 0.3830457069359529, -0.937459527593053, -0.844561047334305, 1.1280232245052606, -1.640427972598561, 0.8971269652786067, 0.4848047458342485, 0.19373507090654035, -0.7387091317560727, -0.3566733282792827, -0.43158335134818315, -0.4899640124314907, 0.5488715658495908, 0.2821768987731658, -0.8832439438038343, 1.271863067044618, 0.10680856505919414, 0.8269478103679717, -0.03266751467505833, -0.34021520002722894, -0.6769186069469743, 0.7126188256918854, 1.8871150025438166, -0.06742662656190869, -1.4789736197389265, 0.346978601690099, -0.3757389938313092, 0.715285859520045, 1.5994858611908638, -0.3692558358591885, 0.13827360227735647, -0.40690530542342296, 0.636973800943974, 0.14658752987818605, -0.3949906255692418, 1.5076392623927681, -0.15486042602397807, 0.22159940179664614, -1.0878244818277978, -0.03354417910293162, 1.2258839316932069, -0.048951028800266715, -1.1089870994157809, 0.021452684803338333, 1.2548854256528554, -1.0913797662237141, -0.539059741192553, 0.6901269187662552, -1.4810451728120602, -0.8468654201203714, 0.3763927872506507, 0.8120568488462931, 0.0031767062628090745, 0.697742291538818, -0.7429703118062226, -0.842231117346612, -0.0666718362166121, 1.8829720647783421, 1.320112956074407, 0.42394324402947475, 0.466299928509142, 0.9415282138953815, -0.7707938096473991], \"line\": {\"width\": 1.3}, \"type\": \"box\", \"marker\": {\"color\": \"rgba(226, 74, 51, 1.0)\"}}, {\"name\": \"B\", \"boxpoints\": false, \"y\": [0.6887194376286498, 0.1040535242504629, 0.38792642015276635, 1.3934230260395444, -0.5375976688704683, -1.1493608786796612, 0.01342890849383506, -0.47231861415738574, 0.24793169472844812, -0.6232083144122951, -1.2121596694710122, -2.4542371001007464, 0.29855785553142483, 1.2997620162676498, 0.9168047366909585, -0.41040614900130634, 1.3147531456519106, -0.12455263569370086, 0.9366143523054554, 0.23573463729990726, -0.8244746170540388, -0.32685668230128845, 1.501781503113865, 0.9830012153240587, 0.6020112305361386, 0.3688304138086671, 1.0090827131320237, -0.5811720111587422, 0.0512884505619472, -1.6917643070157176, -0.25322144257612356, -0.2937357494665306, 0.7368726362448421, 0.5763424997076779, 0.16472110066593693, -0.374254076023172, 1.1280304809680426, 0.6455371548668151, -0.18000225503004413, -0.9128911232313937, -0.5670695205365133, 0.16138491502455474, 1.2118733837294762, 0.4444506280024997, 0.6834767601409083, 1.8020727241195935, 2.4230878273709062, 0.27701889696287213, 1.4067122280705426, -0.33728919328412016, 0.5154870435338148, 0.7751019637809062, 1.400130435077449, 0.8276591566099151, 1.1268119555303864, 0.7016118169589718, 0.476169530704683, -0.5261125753709399, -1.2129692872143456, 0.6126338497954396, 1.5825905557818922, -0.8173630045970658, 0.1075602248072928, 1.2716988894407462, -0.15615948990467535, -0.2968566839654392, 1.7204934641303604, -0.869876624137026, 0.28935077735906545, -1.2052876742800458, -0.263979336251353, -0.02815365780209253, -0.04062347728476395, 0.943760296027789, -1.7797735906553165, 0.4485755919087686, 0.14778332986993048, 0.5305019463041807, 1.6359913516932165, -0.3437427119285297, 1.9109783094330681, 0.6818924480193401, -0.42214824562337705, 0.8935317581184008, 1.2587495288352297, -0.5992845246668753, 2.7851237345776405, -1.5158096238899554, 0.04177421570103183, 0.48980398157362903, 1.063643861677667, -0.8486329162129157, -1.86936339853131, 0.24761777046722996, 1.290606988097702, 0.17046338292604407, 0.14181179559597848, 0.6505415244850333, -2.5850581533594545, -0.30813091794721653], \"line\": {\"width\": 1.3}, \"type\": \"box\", \"marker\": {\"color\": \"rgba(62, 111, 176, 1.0)\"}}, {\"name\": \"C\", \"boxpoints\": false, \"y\": [1.0667334168325768, 0.04817571551860875, -0.6353709157290994, -0.29979428249659507, 0.30291706303457033, -1.2658520234759039, 0.4984256330100474, -0.4813817437844393, 1.6528819231392327, -1.0387894611418347, -1.4866253379043493, -0.5281135473322252, -0.061645252730345844, 0.7876423965771268, 0.9285191892602837, -3.0483938246413547, -0.371184208418135, 0.11169331199774239, 0.30352330980386477, -1.1851393464396252, -0.3023997655692267, 1.4199893168847753, -0.332851303404407, 0.7955908630250091, 0.5869705278914006, -0.45090328668726354, -0.7814566611757896, -0.1261200409144497, 0.7060858452328673, -0.8894721878843294, 0.6064992291432117, -0.1963991863666514, 0.16697094643083513, -0.06591707111576753, 0.8961422265850149, 0.8939803073905991, 0.2526177880230376, -1.2523243277936627, 0.9749672569040144, 0.9687477057343876, 0.26351967435246515, -0.9517261189215155, -0.18707956459088698, -0.39391833601946274, 0.5273775265831957, -0.48180251718398176, -2.2230374431929953, 2.0999928572789828, 0.5496483529576708, 1.067298459209482, -0.3040289105606048, 0.1352094843666391, -0.9944404721270197, 2.2258275006902912, -0.11689955437978636, 0.41231462999024887, 0.7856039151273921, -0.6894731524779986, -0.8276899193670904, 0.23638272241448607, 1.3266743967632526, 0.9626096963262857, -0.28379390855690406, -0.417413711892243, -1.3341211120615861, 0.9298055489835776, 2.106720126861483, 0.23150307059926345, 0.8864836518334782, 0.4193977048083098, 0.3190869644200757, 0.9673541346062681, 0.42245148076732175, 1.0906377526894717, 1.3887188298690671, -0.19507483218944058, -0.9347090401182315, 0.30126885232107575, 0.42495072953595375, -0.9170212042816844, -1.6965969381460768, -0.011576471618042839, -1.0479065708976978, -0.4749222730814971, 0.4229046102099884, 0.08254929486846736, -0.7783883617548714, -0.17950878512595098, 0.4391940123110264, -1.9667304216807953, -1.5652802021531136, 0.8163770970520242, -0.008375093041838632, 0.5510487504106222, -0.4239325998518183, -0.1297116221823799, -0.10728910870450034, -0.12169367361116121, -0.6905111268638191, -0.2653540299125418], \"line\": {\"width\": 1.3}, \"type\": \"box\", \"marker\": {\"color\": \"rgba(132, 118, 202, 1.0)\"}}, {\"name\": \"D\", \"boxpoints\": false, \"y\": [0.5439560303056027, 1.8421879324257613, -0.6375584499267892, -1.113621595762316, -2.5460826344966634, -1.4694525849240658, 1.5284509091178395, -0.2389286047643509, -1.8771013496698048, 0.7967095179585106, -1.2751392945819797, -0.3919771719871495, 0.6960770780779357, 1.0829877919884603, -0.21798245190329507, 0.10031667681839129, 0.39551692710003933, 0.03022462233656908, -0.3327329523770193, -0.204819010502919, -0.498599044144297, -2.287561059130041, -0.2626249290420713, -2.7487145066091996, -0.666926270349069, -2.0379098459994895, 0.4076679798231559, 1.2245324594636484, -2.0903293143661017, 0.5730523735386692, -0.8155129116660126, -0.9572874252328925, 0.2646752398006613, -1.59152570791709, 0.0934028853207141, -2.602771223170992, 0.560010384592385, 0.449602390416327, -0.005796794476065169, 0.1829347250578045, -0.5607194705468903, -1.1999112237192675, -1.5750218946994066, 0.9111111432091317, -0.2530599561069696, -0.5460310452823662, -0.2531538203527998, 1.5968736605431069, 1.723507060923573, 0.38763182009739877, -1.5443680470309729, 1.2505835233573588, 0.0032375885699842803, 0.3870066878402003, -0.32906689091979147, 0.3856397258220775, -0.1654479720586817, 0.2232842423247386, -0.4418766853437538, -0.6751906059090874, -1.6521803078301385, 0.8305325757578166, 0.6577807720682736, -1.2851830040136305, 0.5089005765755124, 0.5962021316815027, 0.9573351203673642, -1.7458475655160375, -1.7131000048598244, 1.5732405203322046, -0.6605298861077683, -1.3437487967599893, 1.9772828633357302, -0.2856844646078326, 0.19293980157348012, 0.1628250911198371, 0.4208217295167736, 0.5627226183638288, -1.058090429960864, -1.3589615830656872, 2.138807050366944, 0.885718335515041, 0.8374040360650308, 0.49834346725709405, -1.3963572343750588, 2.2245606506923625, 0.19641383189506273, -0.3435398382353588, 0.7215114388529363, -0.8327583822270256, -2.039974975731211, 1.2859290252046311, -1.1577060578657161, 0.36795754346511866, 0.970791311065794, 0.496204293102698, -0.05627542841788665, 0.10113620396598295, 0.7547476274222054, 0.15433234934660506], \"line\": {\"width\": 1.3}, \"type\": \"box\", \"marker\": {\"color\": \"rgba(101, 101, 101, 1.0)\"}}], {\"legend\": {\"font\": {\"color\": \"#666666\"}, \"bgcolor\": \"#FFFFFF\"}, \"titlefont\": {\"color\": \"#151516\"}, \"xaxis1\": {\"titlefont\": {\"color\": \"#666666\"}, \"zerolinecolor\": \"#F6F6F6\", \"title\": \"\", \"tickfont\": {\"color\": \"#666666\"}, \"showgrid\": true, \"gridcolor\": \"#F6F6F6\"}, \"paper_bgcolor\": \"#FFFFFF\", \"plot_bgcolor\": \"#E5E5E5\", \"yaxis1\": {\"titlefont\": {\"color\": \"#666666\"}, \"zerolinecolor\": \"#F6F6F6\", \"title\": \"\", \"tickfont\": {\"color\": \"#666666\"}, \"showgrid\": true, \"gridcolor\": \"#F6F6F6\"}}, {\"showLink\": true, \"linkText\": \"Export to plot.ly\"})});</script>"
      ],
      "text/plain": [
       "<IPython.core.display.HTML object>"
      ]
     },
     "metadata": {},
     "output_type": "display_data"
    }
   ],
   "source": [
    "df.iplot(kind='box')"
   ]
  },
  {
   "cell_type": "markdown",
   "metadata": {},
   "source": [
    "## 3d Surface"
   ]
  },
  {
   "cell_type": "code",
   "execution_count": 47,
   "metadata": {},
   "outputs": [
    {
     "data": {
      "text/html": [
       "<div id=\"1bd337c5-1c72-4f4d-9748-7ff51b738774\" style=\"height: 525px; width: 100%;\" class=\"plotly-graph-div\"></div><script type=\"text/javascript\">require([\"plotly\"], function(Plotly) { window.PLOTLYENV=window.PLOTLYENV || {};window.PLOTLYENV.BASE_URL=\"https://plot.ly\";Plotly.newPlot(\"1bd337c5-1c72-4f4d-9748-7ff51b738774\", [{\"colorscale\": [[0.0, \"rgb(165,0,38)\"], [0.1, \"rgb(215,48,39)\"], [0.2, \"rgb(244,109,67)\"], [0.3, \"rgb(253,174,97)\"], [0.4, \"rgb(254,224,144)\"], [0.5, \"rgb(255,255,191)\"], [0.6, \"rgb(224,243,248)\"], [0.7, \"rgb(171,217,233)\"], [0.8, \"rgb(116,173,209)\"], [0.9, \"rgb(69,117,180)\"], [1.0, \"rgb(49,54,149)\"]], \"x\": [0, 1, 2, 3, 4], \"type\": \"surface\", \"y\": [\"x\", \"y\", \"z\"], \"z\": [[1, 2, 3, 4, 5], [10, 20, 30, 20, 10], [5, 4, 3, 2, 1]]}], {\"legend\": {\"font\": {\"color\": \"#666666\"}, \"bgcolor\": \"#FFFFFF\"}, \"titlefont\": {\"color\": \"#151516\"}, \"xaxis1\": {\"titlefont\": {\"color\": \"#666666\"}, \"zerolinecolor\": \"#F6F6F6\", \"title\": \"\", \"tickfont\": {\"color\": \"#666666\"}, \"showgrid\": true, \"gridcolor\": \"#F6F6F6\"}, \"paper_bgcolor\": \"#FFFFFF\", \"plot_bgcolor\": \"#E5E5E5\", \"yaxis1\": {\"titlefont\": {\"color\": \"#666666\"}, \"zerolinecolor\": \"#F6F6F6\", \"title\": \"\", \"tickfont\": {\"color\": \"#666666\"}, \"showgrid\": true, \"gridcolor\": \"#F6F6F6\"}}, {\"showLink\": true, \"linkText\": \"Export to plot.ly\"})});</script>"
      ],
      "text/plain": [
       "<IPython.core.display.HTML object>"
      ]
     },
     "metadata": {},
     "output_type": "display_data"
    }
   ],
   "source": [
    "df3 = pd.DataFrame({'x':[1,2,3,4,5],'y':[10,20,30,20,10],'z':[5,4,3,2,1]})\n",
    "df3.iplot(kind='surface',colorscale='rdylbu')"
   ]
  },
  {
   "cell_type": "markdown",
   "metadata": {},
   "source": [
    "## Spread"
   ]
  },
  {
   "cell_type": "code",
   "execution_count": 50,
   "metadata": {},
   "outputs": [
    {
     "data": {
      "text/html": [
       "<div id=\"d77d91d4-36ef-4915-a84f-8e43772897cc\" style=\"height: 525px; width: 100%;\" class=\"plotly-graph-div\"></div><script type=\"text/javascript\">require([\"plotly\"], function(Plotly) { window.PLOTLYENV=window.PLOTLYENV || {};window.PLOTLYENV.BASE_URL=\"https://plot.ly\";Plotly.newPlot(\"d77d91d4-36ef-4915-a84f-8e43772897cc\", [{\"x\": [0, 1, 2, 3, 4, 5, 6, 7, 8, 9, 10, 11, 12, 13, 14, 15, 16, 17, 18, 19, 20, 21, 22, 23, 24, 25, 26, 27, 28, 29, 30, 31, 32, 33, 34, 35, 36, 37, 38, 39, 40, 41, 42, 43, 44, 45, 46, 47, 48, 49, 50, 51, 52, 53, 54, 55, 56, 57, 58, 59, 60, 61, 62, 63, 64, 65, 66, 67, 68, 69, 70, 71, 72, 73, 74, 75, 76, 77, 78, 79, 80, 81, 82, 83, 84, 85, 86, 87, 88, 89, 90, 91, 92, 93, 94, 95, 96, 97, 98, 99], \"text\": \"\", \"y\": [1.8787246669561561, 0.028733616663923985, -0.1587931161277573, -1.2219723462024636, 1.2531523973363488, 0.8312132082951045, 1.1740170898586173, -0.24393002059589958, -0.296966543277261, 0.7621695759158762, 0.04210347865555278, -0.7791970481917073, 0.3943032396655093, -1.0146190736152443, -0.4841710096782867, 0.5522466668361006, -2.77187556758784, -0.5181226698708166, -0.49722040792422156, -1.6534757596659548, -0.06027439377033132, 1.4769243769038323, 1.1796346669498379, -0.7816898015019265, 0.8630132212967984, 0.6590246731638996, -1.1013906677685679, -0.9446804895542242, -1.788022470413331, 0.8775002821729455, 0.3546715768521251, -0.16532125735222183, 1.8914747239632839, -1.1251772915449791, 0.8888981026894395, -0.6066117727706714, 0.8314777742724779, 0.3830457069359529, -0.937459527593053, -0.844561047334305, 1.1280232245052606, -1.640427972598561, 0.8971269652786067, 0.4848047458342485, 0.19373507090654035, -0.7387091317560727, -0.3566733282792827, -0.43158335134818315, -0.4899640124314907, 0.5488715658495908, 0.2821768987731658, -0.8832439438038343, 1.271863067044618, 0.10680856505919414, 0.8269478103679717, -0.03266751467505833, -0.34021520002722894, -0.6769186069469743, 0.7126188256918854, 1.8871150025438166, -0.06742662656190869, -1.4789736197389265, 0.346978601690099, -0.3757389938313092, 0.715285859520045, 1.5994858611908638, -0.3692558358591885, 0.13827360227735647, -0.40690530542342296, 0.636973800943974, 0.14658752987818605, -0.3949906255692418, 1.5076392623927681, -0.15486042602397807, 0.22159940179664614, -1.0878244818277978, -0.03354417910293162, 1.2258839316932069, -0.048951028800266715, -1.1089870994157809, 0.021452684803338333, 1.2548854256528554, -1.0913797662237141, -0.539059741192553, 0.6901269187662552, -1.4810451728120602, -0.8468654201203714, 0.3763927872506507, 0.8120568488462931, 0.0031767062628090745, 0.697742291538818, -0.7429703118062226, -0.842231117346612, -0.0666718362166121, 1.8829720647783421, 1.320112956074407, 0.42394324402947475, 0.466299928509142, 0.9415282138953815, -0.7707938096473991], \"mode\": \"lines\", \"line\": {\"dash\": \"solid\", \"width\": 1.3, \"color\": \"rgba(226, 74, 51, 1.0)\"}, \"type\": \"scatter\", \"name\": \"A\"}, {\"x\": [0, 1, 2, 3, 4, 5, 6, 7, 8, 9, 10, 11, 12, 13, 14, 15, 16, 17, 18, 19, 20, 21, 22, 23, 24, 25, 26, 27, 28, 29, 30, 31, 32, 33, 34, 35, 36, 37, 38, 39, 40, 41, 42, 43, 44, 45, 46, 47, 48, 49, 50, 51, 52, 53, 54, 55, 56, 57, 58, 59, 60, 61, 62, 63, 64, 65, 66, 67, 68, 69, 70, 71, 72, 73, 74, 75, 76, 77, 78, 79, 80, 81, 82, 83, 84, 85, 86, 87, 88, 89, 90, 91, 92, 93, 94, 95, 96, 97, 98, 99], \"text\": \"\", \"y\": [0.6887194376286498, 0.1040535242504629, 0.38792642015276635, 1.3934230260395444, -0.5375976688704683, -1.1493608786796612, 0.01342890849383506, -0.47231861415738574, 0.24793169472844812, -0.6232083144122951, -1.2121596694710122, -2.4542371001007464, 0.29855785553142483, 1.2997620162676498, 0.9168047366909585, -0.41040614900130634, 1.3147531456519106, -0.12455263569370086, 0.9366143523054554, 0.23573463729990726, -0.8244746170540388, -0.32685668230128845, 1.501781503113865, 0.9830012153240587, 0.6020112305361386, 0.3688304138086671, 1.0090827131320237, -0.5811720111587422, 0.0512884505619472, -1.6917643070157176, -0.25322144257612356, -0.2937357494665306, 0.7368726362448421, 0.5763424997076779, 0.16472110066593693, -0.374254076023172, 1.1280304809680426, 0.6455371548668151, -0.18000225503004413, -0.9128911232313937, -0.5670695205365133, 0.16138491502455474, 1.2118733837294762, 0.4444506280024997, 0.6834767601409083, 1.8020727241195935, 2.4230878273709062, 0.27701889696287213, 1.4067122280705426, -0.33728919328412016, 0.5154870435338148, 0.7751019637809062, 1.400130435077449, 0.8276591566099151, 1.1268119555303864, 0.7016118169589718, 0.476169530704683, -0.5261125753709399, -1.2129692872143456, 0.6126338497954396, 1.5825905557818922, -0.8173630045970658, 0.1075602248072928, 1.2716988894407462, -0.15615948990467535, -0.2968566839654392, 1.7204934641303604, -0.869876624137026, 0.28935077735906545, -1.2052876742800458, -0.263979336251353, -0.02815365780209253, -0.04062347728476395, 0.943760296027789, -1.7797735906553165, 0.4485755919087686, 0.14778332986993048, 0.5305019463041807, 1.6359913516932165, -0.3437427119285297, 1.9109783094330681, 0.6818924480193401, -0.42214824562337705, 0.8935317581184008, 1.2587495288352297, -0.5992845246668753, 2.7851237345776405, -1.5158096238899554, 0.04177421570103183, 0.48980398157362903, 1.063643861677667, -0.8486329162129157, -1.86936339853131, 0.24761777046722996, 1.290606988097702, 0.17046338292604407, 0.14181179559597848, 0.6505415244850333, -2.5850581533594545, -0.30813091794721653], \"mode\": \"lines\", \"line\": {\"dash\": \"solid\", \"width\": 1.3, \"color\": \"rgba(62, 111, 176, 1.0)\"}, \"type\": \"scatter\", \"name\": \"B\"}, {\"yaxis\": \"y2\", \"mode\": \"lines\", \"xaxis\": \"x2\", \"connectgaps\": false, \"x\": [0, 1, 2, 3, 4, 5, 6, 7, 8, 9, 10, 11, 12, 13, 14, 15, 16, 17, 18, 19, 20, 21, 22, 23, 24, 25, 26, 27, 28, 29, 30, 31, 32, 33, 34, 35, 36, 37, 38, 39, 40, 41, 42, 43, 44, 45, 46, 47, 48, 49, 50, 51, 52, 53, 54, 55, 56, 57, 58, 59, 60, 61, 62, 63, 64, 65, 66, 67, 68, 69, 70, 71, 72, 73, 74, 75, 76, 77, 78, 79, 80, 81, 82, 83, 84, 85, 86, 87, 88, 89, 90, 91, 92, 93, 94, 95, 96, 97, 98, 99], \"showlegend\": false, \"y\": [\"\", -0.0753199075865389, -0.5467195362805236, -2.6153953722420082, \"\", \"\", \"\", \"\", -0.5448982380057091, \"\", \"\", \"\", \"\", -2.314381089882894, -1.4009757463692452, \"\", -4.086628713239751, -0.3935700341771157, -1.433834760229677, -1.889210396965862, \"\", \"\", -0.3221468361640272, -1.764691016825985, \"\", \"\", -2.1104733809005918, -0.36350847839548206, -1.8393109209752783, \"\", \"\", \"\", \"\", -1.701519791252657, \"\", -0.23235769674749934, -0.29655270669556466, -0.26249144793086215, -0.7574572725630089, \"\", \"\", -1.8018128876231159, -0.3147464184508695, \"\", -0.48974168923436795, -2.5407818558756663, -2.779761155650189, -0.7086022483110552, -1.8966762405020332, \"\", -0.23331014476064899, -1.6583459075847404, -0.128267368032831, -0.720850591550721, -0.29986414516241466, -0.7342793316340301, -0.8163847307319119, -0.15080603157603434, \"\", \"\", -1.650017182343801, -0.6616106151418607, \"\", -1.6474378832720553, \"\", \"\", -2.089749299989549, \"\", -0.6962560827824884, \"\", \"\", -0.36683696776714925, \"\", -1.098620722051767, \"\", -1.5364000737365664, -0.1813275089728621, \"\", -1.6849423804934833, -0.7652443874872512, -1.8895256246297298, \"\", -0.6692315206003371, -1.4325914993109539, -0.5686226100689745, -0.8817606481451848, -3.6319891546980116, \"\", \"\", -0.48662727531081995, -0.36590157013884894, \"\", \"\", -0.3142896066838421, \"\", \"\", \"\", -0.18424159597589135, \"\", -0.46266289170018254], \"type\": \"scatter\", \"fill\": \"tozeroy\", \"line\": {\"dash\": \"solid\", \"width\": 0.5, \"color\": \"red\"}, \"name\": \"Spread\"}, {\"yaxis\": \"y2\", \"mode\": \"lines\", \"xaxis\": \"x2\", \"connectgaps\": false, \"x\": [0, 1, 2, 3, 4, 5, 6, 7, 8, 9, 10, 11, 12, 13, 14, 15, 16, 17, 18, 19, 20, 21, 22, 23, 24, 25, 26, 27, 28, 29, 30, 31, 32, 33, 34, 35, 36, 37, 38, 39, 40, 41, 42, 43, 44, 45, 46, 47, 48, 49, 50, 51, 52, 53, 54, 55, 56, 57, 58, 59, 60, 61, 62, 63, 64, 65, 66, 67, 68, 69, 70, 71, 72, 73, 74, 75, 76, 77, 78, 79, 80, 81, 82, 83, 84, 85, 86, 87, 88, 89, 90, 91, 92, 93, 94, 95, 96, 97, 98, 99], \"showlegend\": false, \"y\": [1.1900052293275063, \"\", \"\", \"\", 1.790750066206817, 1.9805740869747657, 1.1605881813647823, 0.22838859356148616, \"\", 1.3853778903281713, 1.254263148126565, 1.675040051909039, 0.09574538413408445, \"\", \"\", 0.9626528158374069, \"\", \"\", \"\", \"\", 0.7642002232837075, 1.8037810592051207, \"\", \"\", 0.2610019907606598, 0.29019425935523246, \"\", \"\", \"\", 2.569264589188663, 0.6078930194282486, 0.12841449211430875, 1.1546020877184417, \"\", 0.7241770020235025, \"\", \"\", \"\", \"\", 0.06833007589708862, 1.6950927450417739, \"\", \"\", 0.040354117831748804, \"\", \"\", \"\", \"\", \"\", 0.8861607591337111, \"\", \"\", \"\", \"\", \"\", \"\", \"\", \"\", 1.9255881129062309, 1.274481152748377, \"\", \"\", 0.23941837688280618, \"\", 0.8714453494247203, 1.896342545156303, \"\", 1.0081502264143825, \"\", 1.8422614752240198, 0.4105668661295391, \"\", 1.5482627396775321, \"\", 2.0013729924519628, \"\", \"\", 0.6953819853890262, \"\", \"\", \"\", 0.5729929776335153, \"\", \"\", \"\", \"\", \"\", 1.8922024111406062, 0.7702826331452614, \"\", \"\", 0.10566260440669306, 1.0271322811846981, \"\", 0.5923650766806401, 1.149649573148363, 0.28213144843349625, \"\", 3.5265863672548363, \"\"], \"type\": \"scatter\", \"fill\": \"tozeroy\", \"line\": {\"dash\": \"solid\", \"width\": 0.5, \"color\": \"green\"}, \"name\": \"Spread\"}], {\"legend\": {\"font\": {\"color\": \"#666666\"}, \"bgcolor\": \"#FFFFFF\"}, \"titlefont\": {\"color\": \"#151516\"}, \"xaxis1\": {\"titlefont\": {\"color\": \"#666666\"}, \"zerolinecolor\": \"#F6F6F6\", \"title\": \"\", \"tickfont\": {\"color\": \"#666666\"}, \"showgrid\": true, \"gridcolor\": \"#F6F6F6\"}, \"paper_bgcolor\": \"#FFFFFF\", \"yaxis2\": {\"titlefont\": {\"color\": \"#666666\"}, \"zerolinecolor\": \"#F6F6F6\", \"title\": \"Spread\", \"tickfont\": {\"color\": \"#666666\"}, \"showgrid\": true, \"domain\": [0, 0.25], \"gridcolor\": \"#F6F6F6\"}, \"plot_bgcolor\": \"#E5E5E5\", \"hovermode\": \"x\", \"xaxis2\": {\"titlefont\": {\"color\": \"#666666\"}, \"zerolinecolor\": \"#F6F6F6\", \"showgrid\": true, \"title\": \"\", \"anchor\": \"y2\", \"tickfont\": {\"color\": \"#666666\"}, \"showticklabels\": false, \"gridcolor\": \"#F6F6F6\"}, \"yaxis1\": {\"titlefont\": {\"color\": \"#666666\"}, \"zerolinecolor\": \"#F6F6F6\", \"title\": \"\", \"tickfont\": {\"color\": \"#666666\"}, \"showgrid\": true, \"domain\": [0.3, 1], \"gridcolor\": \"#F6F6F6\"}}, {\"showLink\": true, \"linkText\": \"Export to plot.ly\"})});</script>"
      ],
      "text/plain": [
       "<IPython.core.display.HTML object>"
      ]
     },
     "metadata": {},
     "output_type": "display_data"
    }
   ],
   "source": [
    "df[['A','B']].iplot(kind='spread')"
   ]
  },
  {
   "cell_type": "markdown",
   "metadata": {},
   "source": [
    "## histogram"
   ]
  },
  {
   "cell_type": "code",
   "execution_count": 56,
   "metadata": {},
   "outputs": [
    {
     "data": {
      "text/html": [
       "<div id=\"be69ae84-c3c4-4776-a0e8-f44c59817e90\" style=\"height: 525px; width: 100%;\" class=\"plotly-graph-div\"></div><script type=\"text/javascript\">require([\"plotly\"], function(Plotly) { window.PLOTLYENV=window.PLOTLYENV || {};window.PLOTLYENV.BASE_URL=\"https://plot.ly\";Plotly.newPlot(\"be69ae84-c3c4-4776-a0e8-f44c59817e90\", [{\"x\": [1.8787246669561561, 0.028733616663923985, -0.1587931161277573, -1.2219723462024636, 1.2531523973363488, 0.8312132082951045, 1.1740170898586173, -0.24393002059589958, -0.296966543277261, 0.7621695759158762, 0.04210347865555278, -0.7791970481917073, 0.3943032396655093, -1.0146190736152443, -0.4841710096782867, 0.5522466668361006, -2.77187556758784, -0.5181226698708166, -0.49722040792422156, -1.6534757596659548, -0.06027439377033132, 1.4769243769038323, 1.1796346669498379, -0.7816898015019265, 0.8630132212967984, 0.6590246731638996, -1.1013906677685679, -0.9446804895542242, -1.788022470413331, 0.8775002821729455, 0.3546715768521251, -0.16532125735222183, 1.8914747239632839, -1.1251772915449791, 0.8888981026894395, -0.6066117727706714, 0.8314777742724779, 0.3830457069359529, -0.937459527593053, -0.844561047334305, 1.1280232245052606, -1.640427972598561, 0.8971269652786067, 0.4848047458342485, 0.19373507090654035, -0.7387091317560727, -0.3566733282792827, -0.43158335134818315, -0.4899640124314907, 0.5488715658495908, 0.2821768987731658, -0.8832439438038343, 1.271863067044618, 0.10680856505919414, 0.8269478103679717, -0.03266751467505833, -0.34021520002722894, -0.6769186069469743, 0.7126188256918854, 1.8871150025438166, -0.06742662656190869, -1.4789736197389265, 0.346978601690099, -0.3757389938313092, 0.715285859520045, 1.5994858611908638, -0.3692558358591885, 0.13827360227735647, -0.40690530542342296, 0.636973800943974, 0.14658752987818605, -0.3949906255692418, 1.5076392623927681, -0.15486042602397807, 0.22159940179664614, -1.0878244818277978, -0.03354417910293162, 1.2258839316932069, -0.048951028800266715, -1.1089870994157809, 0.021452684803338333, 1.2548854256528554, -1.0913797662237141, -0.539059741192553, 0.6901269187662552, -1.4810451728120602, -0.8468654201203714, 0.3763927872506507, 0.8120568488462931, 0.0031767062628090745, 0.697742291538818, -0.7429703118062226, -0.842231117346612, -0.0666718362166121, 1.8829720647783421, 1.320112956074407, 0.42394324402947475, 0.466299928509142, 0.9415282138953815, -0.7707938096473991], \"orientation\": \"v\", \"name\": \"A\", \"opacity\": 0.8, \"histfunc\": \"count\", \"type\": \"histogram\", \"histnorm\": \"\", \"nbinsx\": 25, \"marker\": {\"line\": {\"width\": 1.3, \"color\": \"#D9D9D9\"}, \"color\": \"rgba(226, 74, 51, 1.0)\"}}], {\"legend\": {\"font\": {\"color\": \"#666666\"}, \"bgcolor\": \"#FFFFFF\"}, \"titlefont\": {\"color\": \"#151516\"}, \"xaxis1\": {\"titlefont\": {\"color\": \"#666666\"}, \"zerolinecolor\": \"#F6F6F6\", \"title\": \"\", \"tickfont\": {\"color\": \"#666666\"}, \"showgrid\": true, \"gridcolor\": \"#F6F6F6\"}, \"paper_bgcolor\": \"#FFFFFF\", \"barmode\": \"overlay\", \"plot_bgcolor\": \"#E5E5E5\", \"yaxis1\": {\"titlefont\": {\"color\": \"#666666\"}, \"zerolinecolor\": \"#F6F6F6\", \"title\": \"\", \"tickfont\": {\"color\": \"#666666\"}, \"showgrid\": true, \"gridcolor\": \"#F6F6F6\"}}, {\"showLink\": true, \"linkText\": \"Export to plot.ly\"})});</script>"
      ],
      "text/plain": [
       "<IPython.core.display.HTML object>"
      ]
     },
     "metadata": {},
     "output_type": "display_data"
    }
   ],
   "source": [
    "df['A'].iplot(kind='hist',bins=25)"
   ]
  },
  {
   "cell_type": "code",
   "execution_count": 60,
   "metadata": {},
   "outputs": [
    {
     "data": {
      "text/html": [
       "<div id=\"e508143e-bcba-4c40-9488-bfdc4040e078\" style=\"height: 525px; width: 100%;\" class=\"plotly-graph-div\"></div><script type=\"text/javascript\">require([\"plotly\"], function(Plotly) { window.PLOTLYENV=window.PLOTLYENV || {};window.PLOTLYENV.BASE_URL=\"https://plot.ly\";Plotly.newPlot(\"e508143e-bcba-4c40-9488-bfdc4040e078\", [{\"mode\": \"markers\", \"text\": \"\", \"y\": [0.6887194376286498, 0.1040535242504629, 0.38792642015276635, 1.3934230260395444, -0.5375976688704683, -1.1493608786796612, 0.01342890849383506, -0.47231861415738574, 0.24793169472844812, -0.6232083144122951, -1.2121596694710122, -2.4542371001007464, 0.29855785553142483, 1.2997620162676498, 0.9168047366909585, -0.41040614900130634, 1.3147531456519106, -0.12455263569370086, 0.9366143523054554, 0.23573463729990726, -0.8244746170540388, -0.32685668230128845, 1.501781503113865, 0.9830012153240587, 0.6020112305361386, 0.3688304138086671, 1.0090827131320237, -0.5811720111587422, 0.0512884505619472, -1.6917643070157176, -0.25322144257612356, -0.2937357494665306, 0.7368726362448421, 0.5763424997076779, 0.16472110066593693, -0.374254076023172, 1.1280304809680426, 0.6455371548668151, -0.18000225503004413, -0.9128911232313937, -0.5670695205365133, 0.16138491502455474, 1.2118733837294762, 0.4444506280024997, 0.6834767601409083, 1.8020727241195935, 2.4230878273709062, 0.27701889696287213, 1.4067122280705426, -0.33728919328412016, 0.5154870435338148, 0.7751019637809062, 1.400130435077449, 0.8276591566099151, 1.1268119555303864, 0.7016118169589718, 0.476169530704683, -0.5261125753709399, -1.2129692872143456, 0.6126338497954396, 1.5825905557818922, -0.8173630045970658, 0.1075602248072928, 1.2716988894407462, -0.15615948990467535, -0.2968566839654392, 1.7204934641303604, -0.869876624137026, 0.28935077735906545, -1.2052876742800458, -0.263979336251353, -0.02815365780209253, -0.04062347728476395, 0.943760296027789, -1.7797735906553165, 0.4485755919087686, 0.14778332986993048, 0.5305019463041807, 1.6359913516932165, -0.3437427119285297, 1.9109783094330681, 0.6818924480193401, -0.42214824562337705, 0.8935317581184008, 1.2587495288352297, -0.5992845246668753, 2.7851237345776405, -1.5158096238899554, 0.04177421570103183, 0.48980398157362903, 1.063643861677667, -0.8486329162129157, -1.86936339853131, 0.24761777046722996, 1.290606988097702, 0.17046338292604407, 0.14181179559597848, 0.6505415244850333, -2.5850581533594545, -0.30813091794721653], \"x\": [1.8787246669561561, 0.028733616663923985, -0.1587931161277573, -1.2219723462024636, 1.2531523973363488, 0.8312132082951045, 1.1740170898586173, -0.24393002059589958, -0.296966543277261, 0.7621695759158762, 0.04210347865555278, -0.7791970481917073, 0.3943032396655093, -1.0146190736152443, -0.4841710096782867, 0.5522466668361006, -2.77187556758784, -0.5181226698708166, -0.49722040792422156, -1.6534757596659548, -0.06027439377033132, 1.4769243769038323, 1.1796346669498379, -0.7816898015019265, 0.8630132212967984, 0.6590246731638996, -1.1013906677685679, -0.9446804895542242, -1.788022470413331, 0.8775002821729455, 0.3546715768521251, -0.16532125735222183, 1.8914747239632839, -1.1251772915449791, 0.8888981026894395, -0.6066117727706714, 0.8314777742724779, 0.3830457069359529, -0.937459527593053, -0.844561047334305, 1.1280232245052606, -1.640427972598561, 0.8971269652786067, 0.4848047458342485, 0.19373507090654035, -0.7387091317560727, -0.3566733282792827, -0.43158335134818315, -0.4899640124314907, 0.5488715658495908, 0.2821768987731658, -0.8832439438038343, 1.271863067044618, 0.10680856505919414, 0.8269478103679717, -0.03266751467505833, -0.34021520002722894, -0.6769186069469743, 0.7126188256918854, 1.8871150025438166, -0.06742662656190869, -1.4789736197389265, 0.346978601690099, -0.3757389938313092, 0.715285859520045, 1.5994858611908638, -0.3692558358591885, 0.13827360227735647, -0.40690530542342296, 0.636973800943974, 0.14658752987818605, -0.3949906255692418, 1.5076392623927681, -0.15486042602397807, 0.22159940179664614, -1.0878244818277978, -0.03354417910293162, 1.2258839316932069, -0.048951028800266715, -1.1089870994157809, 0.021452684803338333, 1.2548854256528554, -1.0913797662237141, -0.539059741192553, 0.6901269187662552, -1.4810451728120602, -0.8468654201203714, 0.3763927872506507, 0.8120568488462931, 0.0031767062628090745, 0.697742291538818, -0.7429703118062226, -0.842231117346612, -0.0666718362166121, 1.8829720647783421, 1.320112956074407, 0.42394324402947475, 0.466299928509142, 0.9415282138953815, -0.7707938096473991], \"type\": \"scatter\", \"marker\": {\"size\": [90, 70, 57, 64, 75, 45, 79, 60, 101, 50, 41, 59, 68, 84, 87, 12, 62, 71, 75, 47, 64, 96, 63, 84, 80, 61, 54, 67, 83, 52, 81, 66, 72, 68, 86, 86, 74, 46, 88, 88, 74, 51, 66, 62, 79, 60, 27, 109, 80, 90, 64, 72, 50, 112, 67, 77, 84, 56, 54, 74, 94, 88, 64, 61, 44, 87, 109, 74, 86, 77, 75, 88, 77, 90, 96, 66, 52, 75, 77, 52, 37, 69, 49, 60, 77, 71, 55, 66, 78, 32, 40, 85, 69, 80, 61, 67, 67, 67, 56, 64], \"line\": {\"width\": 1.3}, \"color\": [\"rgb(226, 74, 51)\", \"rgb(226, 74, 51)\", \"rgb(226, 74, 51)\", \"rgb(226, 74, 51)\", \"rgb(226, 74, 51)\", \"rgb(226, 74, 51)\", \"rgb(226, 74, 51)\", \"rgb(226, 74, 51)\", \"rgb(226, 74, 51)\", \"rgb(226, 74, 51)\", \"rgb(226, 74, 51)\", \"rgb(226, 74, 51)\", \"rgb(226, 74, 51)\", \"rgb(226, 74, 51)\", \"rgb(226, 74, 51)\", \"rgb(226, 74, 51)\", \"rgb(226, 74, 51)\", \"rgb(226, 74, 51)\", \"rgb(226, 74, 51)\", \"rgb(226, 74, 51)\", \"rgb(226, 74, 51)\", \"rgb(226, 74, 51)\", \"rgb(226, 74, 51)\", \"rgb(226, 74, 51)\", \"rgb(226, 74, 51)\", \"rgb(226, 74, 51)\", \"rgb(226, 74, 51)\", \"rgb(226, 74, 51)\", \"rgb(226, 74, 51)\", \"rgb(226, 74, 51)\", \"rgb(226, 74, 51)\", \"rgb(226, 74, 51)\", \"rgb(226, 74, 51)\", \"rgb(226, 74, 51)\", \"rgb(226, 74, 51)\", \"rgb(226, 74, 51)\", \"rgb(226, 74, 51)\", \"rgb(226, 74, 51)\", \"rgb(226, 74, 51)\", \"rgb(226, 74, 51)\", \"rgb(226, 74, 51)\", \"rgb(226, 74, 51)\", \"rgb(226, 74, 51)\", \"rgb(226, 74, 51)\", \"rgb(226, 74, 51)\", \"rgb(226, 74, 51)\", \"rgb(226, 74, 51)\", \"rgb(226, 74, 51)\", \"rgb(226, 74, 51)\", \"rgb(226, 74, 51)\", \"rgb(226, 74, 51)\", \"rgb(226, 74, 51)\", \"rgb(226, 74, 51)\", \"rgb(226, 74, 51)\", \"rgb(226, 74, 51)\", \"rgb(226, 74, 51)\", \"rgb(226, 74, 51)\", \"rgb(226, 74, 51)\", \"rgb(226, 74, 51)\", \"rgb(226, 74, 51)\", \"rgb(226, 74, 51)\", \"rgb(226, 74, 51)\", \"rgb(226, 74, 51)\", \"rgb(226, 74, 51)\", \"rgb(226, 74, 51)\", \"rgb(226, 74, 51)\", \"rgb(226, 74, 51)\", \"rgb(226, 74, 51)\", \"rgb(226, 74, 51)\", \"rgb(226, 74, 51)\", \"rgb(226, 74, 51)\", \"rgb(226, 74, 51)\", \"rgb(226, 74, 51)\", \"rgb(226, 74, 51)\", \"rgb(226, 74, 51)\", \"rgb(226, 74, 51)\", \"rgb(226, 74, 51)\", \"rgb(226, 74, 51)\", \"rgb(226, 74, 51)\", \"rgb(226, 74, 51)\", \"rgb(226, 74, 51)\", \"rgb(226, 74, 51)\", \"rgb(226, 74, 51)\", \"rgb(226, 74, 51)\", \"rgb(226, 74, 51)\", \"rgb(226, 74, 51)\", \"rgb(226, 74, 51)\", \"rgb(226, 74, 51)\", \"rgb(226, 74, 51)\", \"rgb(226, 74, 51)\", \"rgb(226, 74, 51)\", \"rgb(226, 74, 51)\", \"rgb(226, 74, 51)\", \"rgb(226, 74, 51)\", \"rgb(226, 74, 51)\", \"rgb(226, 74, 51)\", \"rgb(226, 74, 51)\", \"rgb(226, 74, 51)\", \"rgb(226, 74, 51)\", \"rgb(226, 74, 51)\"], \"symbol\": \"dot\"}}], {\"legend\": {\"font\": {\"color\": \"#666666\"}, \"bgcolor\": \"#FFFFFF\"}, \"titlefont\": {\"color\": \"#151516\"}, \"xaxis1\": {\"titlefont\": {\"color\": \"#666666\"}, \"zerolinecolor\": \"#F6F6F6\", \"title\": \"\", \"tickfont\": {\"color\": \"#666666\"}, \"showgrid\": true, \"gridcolor\": \"#F6F6F6\"}, \"paper_bgcolor\": \"#FFFFFF\", \"plot_bgcolor\": \"#E5E5E5\", \"yaxis1\": {\"titlefont\": {\"color\": \"#666666\"}, \"zerolinecolor\": \"#F6F6F6\", \"title\": \"\", \"tickfont\": {\"color\": \"#666666\"}, \"showgrid\": true, \"gridcolor\": \"#F6F6F6\"}}, {\"showLink\": true, \"linkText\": \"Export to plot.ly\"})});</script>"
      ],
      "text/plain": [
       "<IPython.core.display.HTML object>"
      ]
     },
     "metadata": {},
     "output_type": "display_data"
    }
   ],
   "source": [
    "df.iplot(kind='bubble',x='A',y='B',size='C')"
   ]
  },
  {
   "cell_type": "markdown",
   "metadata": {},
   "source": [
    "## scatter_matrix()\n",
    "\n",
    "Similar to sns.pairplot()"
   ]
  },
  {
   "cell_type": "code",
   "execution_count": 13,
   "metadata": {},
   "outputs": [
    {
     "data": {
      "application/vnd.plotly.v1+json": {
       "config": {
        "linkText": "Export to plot.ly",
        "plotlyServerURL": "https://plot.ly",
        "showLink": true
       },
       "data": [
        {
         "histfunc": "count",
         "histnorm": "",
         "marker": {
          "color": "rgba(255, 153, 51, 1.0)",
          "line": {
           "color": "#4D5663",
           "width": 1.3
          }
         },
         "name": "A",
         "nbinsx": 10,
         "opacity": 0.8,
         "orientation": "v",
         "type": "histogram",
         "x": [
          0.7579622911456884,
          0.5298454226070978,
          0.8156101983220254,
          -0.9454582364645135,
          -0.857994402443206,
          -0.1670467591767333,
          -0.7888114020903332,
          -0.2673561619114749,
          0.768216778986486,
          -0.8638176766596485,
          -0.33843709402835276,
          -0.8604248481790441,
          0.9390817496511193,
          0.4962486167366557,
          -0.342866720058513,
          0.5321154951123271,
          0.08364234862840773,
          -0.24420366347819594,
          -2.5470021690493523,
          0.6501915875974441,
          0.46105121143151684,
          -1.2696445490313397,
          -1.262321855935702,
          0.020590837422995875,
          -1.962164958669862,
          0.1520210913204685,
          -0.32979134502902163,
          0.8401008377275386,
          -0.5082086655426916,
          1.2528721120287196,
          -0.7153155037815715,
          1.4064228445136355,
          1.8710040626067423,
          0.08757345444063647,
          2.041319270677461,
          2.8000560133663024,
          -1.370358468855292,
          -0.3060589595906979,
          0.6755736191112913,
          1.4407258504266733,
          -0.8107992432478025,
          0.5914524531347799,
          0.3879197499827318,
          -1.3226943138065599,
          0.03095980363011386,
          0.35388609090549306,
          -0.7106145582311015,
          -0.6995966631278421,
          -0.01780114613536176,
          -0.23550021237398164,
          -0.9927687863322747,
          -0.8554634929109388,
          -0.2216839561931747,
          0.1935051205325323,
          -0.7550886779996621,
          -0.382930473573882,
          -0.4136431738112617,
          -0.15205974759545637,
          0.7962233695209215,
          0.7256432342089434,
          0.24270585434026598,
          0.13409859606010457,
          -0.556524193528626,
          0.07633036965958356,
          1.1366650674151044,
          1.3415441140499602,
          0.7084176532972084,
          -1.2865302555192233,
          -1.2527010973957653,
          0.8756611197550394,
          1.0631834319317377,
          1.7277189454023956,
          0.3458699972060742,
          -0.45699142615687494,
          1.0790163639283334,
          -0.6944844785820669,
          -2.2895926431144096,
          1.6323818820980218,
          -1.9706328705835687,
          -0.6145302262421422,
          0.4150734969666682,
          0.02447752685552582,
          0.015341516547215574,
          0.6524751897352478,
          0.2162686415482492,
          1.2238682829100826,
          -0.5594810022793774,
          -0.7721879879776039,
          0.7677945424465574,
          -0.44711928380135374,
          0.03485657417707869,
          0.1766223676895384,
          0.07374326243590695,
          -0.23580423331382155,
          -0.48565550121671947,
          -0.6542410195199967,
          1.7015538622803354,
          0.5314220872039849,
          0.2363390667193305,
          -0.8387818864979736
         ],
         "xaxis": "x",
         "yaxis": "y"
        },
        {
         "line": {
          "color": "rgba(128, 128, 128, 1.0)",
          "dash": "solid",
          "shape": "linear",
          "width": 1.3
         },
         "marker": {
          "size": 2,
          "symbol": "circle"
         },
         "mode": "markers",
         "name": "A",
         "text": "",
         "type": "scatter",
         "x": [
          0.06410207357628032,
          0.5988194682426909,
          -2.010053357011642,
          -1.534460534232777,
          -0.2838752137445895,
          -0.4364055158241752,
          -0.062107990124747985,
          1.8291664069893194,
          0.3370186963782379,
          -0.8571716626766643,
          -1.4897033440473515,
          -0.9773804107151556,
          -1.0218654610470015,
          1.216188328057995,
          0.36602873525868307,
          -0.04206253722866737,
          -0.504138977255192,
          0.4470533561000257,
          0.9649794948737593,
          0.7058495957713538,
          -0.9465810738244804,
          -0.07371126955603383,
          1.251547336133497,
          -2.0736322708642083,
          0.11555978219945501,
          -0.03783614416341705,
          -0.2903697562225154,
          -1.088977341454986,
          -1.135312956502815,
          -0.17442341769300082,
          0.5202635952394287,
          -0.24691452846276116,
          -0.13382915012237656,
          0.48545297566592055,
          0.41039449413774176,
          0.28873263493280305,
          -0.8387595200674258,
          2.4328000327798383,
          -0.18471578641497266,
          0.32259728832814766,
          -0.982216085912374,
          -0.15068067141146987,
          0.24049749962091524,
          0.4419380863991527,
          1.815418420087622,
          -1.1486655540832191,
          0.8238794399772241,
          -0.21805122145673023,
          0.8695259754966412,
          0.0846709805993985,
          -0.5056779659883797,
          -0.5481037070327525,
          -0.46466581623716674,
          0.9225448772117156,
          -1.4662409750216734,
          -0.1999400856400257,
          -0.8115108172583112,
          0.12397852989218443,
          0.56609204715325,
          0.3351988818461227,
          1.0637178967303107,
          1.6526894878378782,
          -1.4790950118066495,
          -0.10261674802653346,
          -0.2956729083237752,
          -0.18748856240961745,
          2.180420918749399,
          0.41207565810024677,
          0.4993117779200552,
          0.9484337358875686,
          1.817708891978699,
          -1.367547056288455,
          -0.4222795209346398,
          0.8705762012391222,
          -0.33026278521437336,
          0.3320445392395583,
          -1.5826633681260793,
          -0.4634439124069925,
          0.022534344142100184,
          0.05393478756544293,
          -0.45314670894281395,
          -0.5856801775867423,
          0.4040232286668457,
          0.9457127648011665,
          0.53827141480434,
          0.2597206638247671,
          0.4418659169631524,
          0.5464618225133375,
          0.46339910791145505,
          1.9180711403866888,
          -0.5848582990423815,
          0.34536446975354557,
          1.136277596261647,
          0.967248891045694,
          -1.359893659316058,
          0.9586041241102193,
          -1.082722915105749,
          -1.5170273973065584,
          -0.3113640177319824,
          -0.6227757285501787
         ],
         "xaxis": "x2",
         "y": [
          0.7579622911456884,
          0.5298454226070978,
          0.8156101983220254,
          -0.9454582364645135,
          -0.857994402443206,
          -0.1670467591767333,
          -0.7888114020903332,
          -0.2673561619114749,
          0.768216778986486,
          -0.8638176766596485,
          -0.33843709402835276,
          -0.8604248481790441,
          0.9390817496511193,
          0.4962486167366557,
          -0.342866720058513,
          0.5321154951123271,
          0.08364234862840773,
          -0.24420366347819594,
          -2.5470021690493523,
          0.6501915875974441,
          0.46105121143151684,
          -1.2696445490313397,
          -1.262321855935702,
          0.020590837422995875,
          -1.962164958669862,
          0.1520210913204685,
          -0.32979134502902163,
          0.8401008377275386,
          -0.5082086655426916,
          1.2528721120287196,
          -0.7153155037815715,
          1.4064228445136355,
          1.8710040626067423,
          0.08757345444063647,
          2.041319270677461,
          2.8000560133663024,
          -1.370358468855292,
          -0.3060589595906979,
          0.6755736191112913,
          1.4407258504266733,
          -0.8107992432478025,
          0.5914524531347799,
          0.3879197499827318,
          -1.3226943138065599,
          0.03095980363011386,
          0.35388609090549306,
          -0.7106145582311015,
          -0.6995966631278421,
          -0.01780114613536176,
          -0.23550021237398164,
          -0.9927687863322747,
          -0.8554634929109388,
          -0.2216839561931747,
          0.1935051205325323,
          -0.7550886779996621,
          -0.382930473573882,
          -0.4136431738112617,
          -0.15205974759545637,
          0.7962233695209215,
          0.7256432342089434,
          0.24270585434026598,
          0.13409859606010457,
          -0.556524193528626,
          0.07633036965958356,
          1.1366650674151044,
          1.3415441140499602,
          0.7084176532972084,
          -1.2865302555192233,
          -1.2527010973957653,
          0.8756611197550394,
          1.0631834319317377,
          1.7277189454023956,
          0.3458699972060742,
          -0.45699142615687494,
          1.0790163639283334,
          -0.6944844785820669,
          -2.2895926431144096,
          1.6323818820980218,
          -1.9706328705835687,
          -0.6145302262421422,
          0.4150734969666682,
          0.02447752685552582,
          0.015341516547215574,
          0.6524751897352478,
          0.2162686415482492,
          1.2238682829100826,
          -0.5594810022793774,
          -0.7721879879776039,
          0.7677945424465574,
          -0.44711928380135374,
          0.03485657417707869,
          0.1766223676895384,
          0.07374326243590695,
          -0.23580423331382155,
          -0.48565550121671947,
          -0.6542410195199967,
          1.7015538622803354,
          0.5314220872039849,
          0.2363390667193305,
          -0.8387818864979736
         ],
         "yaxis": "y2"
        },
        {
         "line": {
          "color": "rgba(128, 128, 128, 1.0)",
          "dash": "solid",
          "shape": "linear",
          "width": 1.3
         },
         "marker": {
          "size": 2,
          "symbol": "circle"
         },
         "mode": "markers",
         "name": "A",
         "text": "",
         "type": "scatter",
         "x": [
          1.0020217535640417,
          -1.0709120713481004,
          -0.9936119101433717,
          -2.533599147151511,
          -2.314731661644817,
          -0.544402046158424,
          -1.7989800241411678,
          0.782483626643164,
          0.13771380729408503,
          -0.26912837208801016,
          2.376414403900346,
          0.5630644851976623,
          -2.1042265727699636,
          -1.814687339800105,
          1.6342206394532424,
          0.5975342196859066,
          -0.2377697619797907,
          -1.1473526722044125,
          -0.11183148774247341,
          -0.8718362484157849,
          -1.7467408368798731,
          -1.42620331293831,
          -0.8044090441282832,
          0.41352269122290825,
          0.3284449570478143,
          -1.4167401024679986,
          -0.7643157819784241,
          -1.2326215055186183,
          -1.7979419959605787,
          0.18341159576582408,
          -1.024872977256669,
          0.6716464612752306,
          0.2680784160141836,
          0.8307992566454814,
          -0.07432723810707276,
          -0.2795250124047079,
          -0.4513367033485977,
          -0.2636098717629078,
          1.3409219089641207,
          -0.5905212614700776,
          -0.06921772193076348,
          1.6380554963056684,
          0.8363366001738519,
          -2.056243778451678,
          0.5867692902761166,
          -0.0342123572857976,
          -1.5997378200220695,
          -0.10004504410348357,
          0.5288484923051605,
          0.990455013134741,
          -1.0790887516075034,
          -0.5971327615660645,
          0.29358119256651444,
          -0.4212318061740513,
          0.11691410793563538,
          -0.8008819526632075,
          -1.5290749083465076,
          0.1772883701941325,
          -0.01688038887791492,
          -0.021923467828441658,
          -1.4967190792096503,
          0.15150510466376751,
          0.6693772939887973,
          -0.16311216022659247,
          0.38309674492611456,
          0.43497750900171456,
          0.3476226555561386,
          1.5627156094985022,
          0.1843061100316847,
          1.421765577191801,
          -1.1114120860662586,
          -0.5927862115109154,
          0.12615601309565674,
          0.4959556950701397,
          -1.7347434755358349,
          -2.556510164146063,
          0.521765841402743,
          0.5852910412090544,
          -1.2462232446635684,
          0.5337386968554741,
          0.4973018897679892,
          -1.2526723107502338,
          -0.16303511988251154,
          0.6054280618381143,
          0.8720190318129162,
          -0.2078281720118378,
          0.5926952471378346,
          1.0528280096730862,
          0.05078172862308404,
          -1.664825338290475,
          -1.0103263398425255,
          -0.5982748521452806,
          -0.2710988445712092,
          -0.06659147592753269,
          0.12940752835322614,
          -0.5725834593883529,
          -0.8959167846179494,
          -0.8404684746152375,
          0.1770863263793589,
          0.9550700432506805
         ],
         "xaxis": "x3",
         "y": [
          0.7579622911456884,
          0.5298454226070978,
          0.8156101983220254,
          -0.9454582364645135,
          -0.857994402443206,
          -0.1670467591767333,
          -0.7888114020903332,
          -0.2673561619114749,
          0.768216778986486,
          -0.8638176766596485,
          -0.33843709402835276,
          -0.8604248481790441,
          0.9390817496511193,
          0.4962486167366557,
          -0.342866720058513,
          0.5321154951123271,
          0.08364234862840773,
          -0.24420366347819594,
          -2.5470021690493523,
          0.6501915875974441,
          0.46105121143151684,
          -1.2696445490313397,
          -1.262321855935702,
          0.020590837422995875,
          -1.962164958669862,
          0.1520210913204685,
          -0.32979134502902163,
          0.8401008377275386,
          -0.5082086655426916,
          1.2528721120287196,
          -0.7153155037815715,
          1.4064228445136355,
          1.8710040626067423,
          0.08757345444063647,
          2.041319270677461,
          2.8000560133663024,
          -1.370358468855292,
          -0.3060589595906979,
          0.6755736191112913,
          1.4407258504266733,
          -0.8107992432478025,
          0.5914524531347799,
          0.3879197499827318,
          -1.3226943138065599,
          0.03095980363011386,
          0.35388609090549306,
          -0.7106145582311015,
          -0.6995966631278421,
          -0.01780114613536176,
          -0.23550021237398164,
          -0.9927687863322747,
          -0.8554634929109388,
          -0.2216839561931747,
          0.1935051205325323,
          -0.7550886779996621,
          -0.382930473573882,
          -0.4136431738112617,
          -0.15205974759545637,
          0.7962233695209215,
          0.7256432342089434,
          0.24270585434026598,
          0.13409859606010457,
          -0.556524193528626,
          0.07633036965958356,
          1.1366650674151044,
          1.3415441140499602,
          0.7084176532972084,
          -1.2865302555192233,
          -1.2527010973957653,
          0.8756611197550394,
          1.0631834319317377,
          1.7277189454023956,
          0.3458699972060742,
          -0.45699142615687494,
          1.0790163639283334,
          -0.6944844785820669,
          -2.2895926431144096,
          1.6323818820980218,
          -1.9706328705835687,
          -0.6145302262421422,
          0.4150734969666682,
          0.02447752685552582,
          0.015341516547215574,
          0.6524751897352478,
          0.2162686415482492,
          1.2238682829100826,
          -0.5594810022793774,
          -0.7721879879776039,
          0.7677945424465574,
          -0.44711928380135374,
          0.03485657417707869,
          0.1766223676895384,
          0.07374326243590695,
          -0.23580423331382155,
          -0.48565550121671947,
          -0.6542410195199967,
          1.7015538622803354,
          0.5314220872039849,
          0.2363390667193305,
          -0.8387818864979736
         ],
         "yaxis": "y3"
        },
        {
         "line": {
          "color": "rgba(128, 128, 128, 1.0)",
          "dash": "solid",
          "shape": "linear",
          "width": 1.3
         },
         "marker": {
          "size": 2,
          "symbol": "circle"
         },
         "mode": "markers",
         "name": "A",
         "text": "",
         "type": "scatter",
         "x": [
          0.5016469424237546,
          1.5461024256449314,
          -1.515430754935001,
          -1.1969819308460552,
          -1.2821642556303274,
          -1.32607419862964,
          1.1137171683997595,
          0.859272126095684,
          0.6344480101234863,
          -0.11559713090033623,
          1.0718084014591502,
          0.1742840101142203,
          0.5166855879361155,
          -1.0854229221430316,
          -0.03447866308128951,
          0.15517061967063442,
          -0.7894475900868732,
          0.09543617935624944,
          0.45177180906632064,
          1.1696101468824083,
          -0.043311890707100204,
          1.6571427473565212,
          0.5280278445921563,
          0.6810963828489841,
          0.2977891259733895,
          0.22201272375753953,
          -0.679094912710526,
          -0.6195440193043447,
          0.05728074218985923,
          -0.397444325243679,
          -0.2449987392414877,
          0.3238536498124585,
          0.0999947297956345,
          -0.8953409899852637,
          0.7600318497834284,
          0.574035987683394,
          0.5971309921650964,
          -1.2601874144644434,
          0.7236021641690927,
          -0.15456900240201948,
          1.4538526363842077,
          1.392198528988188,
          0.6564149972780509,
          -0.5132348326197187,
          -1.116673228056018,
          -1.1107777598305526,
          0.6994675470009029,
          0.49418020709582305,
          1.0349694423443077,
          -0.016580139292874982,
          0.5189493193632874,
          0.6938238472257998,
          -0.10657124752182924,
          -0.5301476147096458,
          1.0263088421721898,
          -0.21130004661452512,
          -1.5642104552995117,
          0.8019741574064435,
          -0.36053228022800216,
          -0.7944734793899005,
          0.07260524925412559,
          1.1185794889521081,
          0.335167755073714,
          -1.3994871996451526,
          0.22895292192646716,
          -1.1047814869104593,
          -1.6535105624892523,
          -1.1736268694370566,
          0.3055282790395455,
          1.0602541941979597,
          0.8770400352815519,
          -0.5052684856558837,
          1.1170447163533912,
          2.210214604865789,
          -0.9985161080562468,
          0.27359228831567,
          0.06261800881342981,
          1.020912023869562,
          -0.6003812064685073,
          0.4762040336398097,
          0.45551139867643964,
          1.5541884069075995,
          0.9575096687638155,
          0.2679021455665988,
          -1.8562107587464431,
          1.130377156623166,
          -1.5212369356068927,
          -2.348287045662786,
          1.8044560570029817,
          -1.5433729564647345,
          -0.31206469620866883,
          -0.7571601929739846,
          0.7761959199474827,
          0.6314116816461985,
          -1.776462206095515,
          0.47288058865943794,
          1.1297379468895679,
          -0.9677644478589714,
          0.23234322578701186,
          -1.5242511690132388
         ],
         "xaxis": "x4",
         "y": [
          0.7579622911456884,
          0.5298454226070978,
          0.8156101983220254,
          -0.9454582364645135,
          -0.857994402443206,
          -0.1670467591767333,
          -0.7888114020903332,
          -0.2673561619114749,
          0.768216778986486,
          -0.8638176766596485,
          -0.33843709402835276,
          -0.8604248481790441,
          0.9390817496511193,
          0.4962486167366557,
          -0.342866720058513,
          0.5321154951123271,
          0.08364234862840773,
          -0.24420366347819594,
          -2.5470021690493523,
          0.6501915875974441,
          0.46105121143151684,
          -1.2696445490313397,
          -1.262321855935702,
          0.020590837422995875,
          -1.962164958669862,
          0.1520210913204685,
          -0.32979134502902163,
          0.8401008377275386,
          -0.5082086655426916,
          1.2528721120287196,
          -0.7153155037815715,
          1.4064228445136355,
          1.8710040626067423,
          0.08757345444063647,
          2.041319270677461,
          2.8000560133663024,
          -1.370358468855292,
          -0.3060589595906979,
          0.6755736191112913,
          1.4407258504266733,
          -0.8107992432478025,
          0.5914524531347799,
          0.3879197499827318,
          -1.3226943138065599,
          0.03095980363011386,
          0.35388609090549306,
          -0.7106145582311015,
          -0.6995966631278421,
          -0.01780114613536176,
          -0.23550021237398164,
          -0.9927687863322747,
          -0.8554634929109388,
          -0.2216839561931747,
          0.1935051205325323,
          -0.7550886779996621,
          -0.382930473573882,
          -0.4136431738112617,
          -0.15205974759545637,
          0.7962233695209215,
          0.7256432342089434,
          0.24270585434026598,
          0.13409859606010457,
          -0.556524193528626,
          0.07633036965958356,
          1.1366650674151044,
          1.3415441140499602,
          0.7084176532972084,
          -1.2865302555192233,
          -1.2527010973957653,
          0.8756611197550394,
          1.0631834319317377,
          1.7277189454023956,
          0.3458699972060742,
          -0.45699142615687494,
          1.0790163639283334,
          -0.6944844785820669,
          -2.2895926431144096,
          1.6323818820980218,
          -1.9706328705835687,
          -0.6145302262421422,
          0.4150734969666682,
          0.02447752685552582,
          0.015341516547215574,
          0.6524751897352478,
          0.2162686415482492,
          1.2238682829100826,
          -0.5594810022793774,
          -0.7721879879776039,
          0.7677945424465574,
          -0.44711928380135374,
          0.03485657417707869,
          0.1766223676895384,
          0.07374326243590695,
          -0.23580423331382155,
          -0.48565550121671947,
          -0.6542410195199967,
          1.7015538622803354,
          0.5314220872039849,
          0.2363390667193305,
          -0.8387818864979736
         ],
         "yaxis": "y4"
        },
        {
         "line": {
          "color": "rgba(128, 128, 128, 1.0)",
          "dash": "solid",
          "shape": "linear",
          "width": 1.3
         },
         "marker": {
          "size": 2,
          "symbol": "circle"
         },
         "mode": "markers",
         "name": "B",
         "text": "",
         "type": "scatter",
         "x": [
          0.7579622911456884,
          0.5298454226070978,
          0.8156101983220254,
          -0.9454582364645135,
          -0.857994402443206,
          -0.1670467591767333,
          -0.7888114020903332,
          -0.2673561619114749,
          0.768216778986486,
          -0.8638176766596485,
          -0.33843709402835276,
          -0.8604248481790441,
          0.9390817496511193,
          0.4962486167366557,
          -0.342866720058513,
          0.5321154951123271,
          0.08364234862840773,
          -0.24420366347819594,
          -2.5470021690493523,
          0.6501915875974441,
          0.46105121143151684,
          -1.2696445490313397,
          -1.262321855935702,
          0.020590837422995875,
          -1.962164958669862,
          0.1520210913204685,
          -0.32979134502902163,
          0.8401008377275386,
          -0.5082086655426916,
          1.2528721120287196,
          -0.7153155037815715,
          1.4064228445136355,
          1.8710040626067423,
          0.08757345444063647,
          2.041319270677461,
          2.8000560133663024,
          -1.370358468855292,
          -0.3060589595906979,
          0.6755736191112913,
          1.4407258504266733,
          -0.8107992432478025,
          0.5914524531347799,
          0.3879197499827318,
          -1.3226943138065599,
          0.03095980363011386,
          0.35388609090549306,
          -0.7106145582311015,
          -0.6995966631278421,
          -0.01780114613536176,
          -0.23550021237398164,
          -0.9927687863322747,
          -0.8554634929109388,
          -0.2216839561931747,
          0.1935051205325323,
          -0.7550886779996621,
          -0.382930473573882,
          -0.4136431738112617,
          -0.15205974759545637,
          0.7962233695209215,
          0.7256432342089434,
          0.24270585434026598,
          0.13409859606010457,
          -0.556524193528626,
          0.07633036965958356,
          1.1366650674151044,
          1.3415441140499602,
          0.7084176532972084,
          -1.2865302555192233,
          -1.2527010973957653,
          0.8756611197550394,
          1.0631834319317377,
          1.7277189454023956,
          0.3458699972060742,
          -0.45699142615687494,
          1.0790163639283334,
          -0.6944844785820669,
          -2.2895926431144096,
          1.6323818820980218,
          -1.9706328705835687,
          -0.6145302262421422,
          0.4150734969666682,
          0.02447752685552582,
          0.015341516547215574,
          0.6524751897352478,
          0.2162686415482492,
          1.2238682829100826,
          -0.5594810022793774,
          -0.7721879879776039,
          0.7677945424465574,
          -0.44711928380135374,
          0.03485657417707869,
          0.1766223676895384,
          0.07374326243590695,
          -0.23580423331382155,
          -0.48565550121671947,
          -0.6542410195199967,
          1.7015538622803354,
          0.5314220872039849,
          0.2363390667193305,
          -0.8387818864979736
         ],
         "xaxis": "x5",
         "y": [
          0.06410207357628032,
          0.5988194682426909,
          -2.010053357011642,
          -1.534460534232777,
          -0.2838752137445895,
          -0.4364055158241752,
          -0.062107990124747985,
          1.8291664069893194,
          0.3370186963782379,
          -0.8571716626766643,
          -1.4897033440473515,
          -0.9773804107151556,
          -1.0218654610470015,
          1.216188328057995,
          0.36602873525868307,
          -0.04206253722866737,
          -0.504138977255192,
          0.4470533561000257,
          0.9649794948737593,
          0.7058495957713538,
          -0.9465810738244804,
          -0.07371126955603383,
          1.251547336133497,
          -2.0736322708642083,
          0.11555978219945501,
          -0.03783614416341705,
          -0.2903697562225154,
          -1.088977341454986,
          -1.135312956502815,
          -0.17442341769300082,
          0.5202635952394287,
          -0.24691452846276116,
          -0.13382915012237656,
          0.48545297566592055,
          0.41039449413774176,
          0.28873263493280305,
          -0.8387595200674258,
          2.4328000327798383,
          -0.18471578641497266,
          0.32259728832814766,
          -0.982216085912374,
          -0.15068067141146987,
          0.24049749962091524,
          0.4419380863991527,
          1.815418420087622,
          -1.1486655540832191,
          0.8238794399772241,
          -0.21805122145673023,
          0.8695259754966412,
          0.0846709805993985,
          -0.5056779659883797,
          -0.5481037070327525,
          -0.46466581623716674,
          0.9225448772117156,
          -1.4662409750216734,
          -0.1999400856400257,
          -0.8115108172583112,
          0.12397852989218443,
          0.56609204715325,
          0.3351988818461227,
          1.0637178967303107,
          1.6526894878378782,
          -1.4790950118066495,
          -0.10261674802653346,
          -0.2956729083237752,
          -0.18748856240961745,
          2.180420918749399,
          0.41207565810024677,
          0.4993117779200552,
          0.9484337358875686,
          1.817708891978699,
          -1.367547056288455,
          -0.4222795209346398,
          0.8705762012391222,
          -0.33026278521437336,
          0.3320445392395583,
          -1.5826633681260793,
          -0.4634439124069925,
          0.022534344142100184,
          0.05393478756544293,
          -0.45314670894281395,
          -0.5856801775867423,
          0.4040232286668457,
          0.9457127648011665,
          0.53827141480434,
          0.2597206638247671,
          0.4418659169631524,
          0.5464618225133375,
          0.46339910791145505,
          1.9180711403866888,
          -0.5848582990423815,
          0.34536446975354557,
          1.136277596261647,
          0.967248891045694,
          -1.359893659316058,
          0.9586041241102193,
          -1.082722915105749,
          -1.5170273973065584,
          -0.3113640177319824,
          -0.6227757285501787
         ],
         "yaxis": "y5"
        },
        {
         "histfunc": "count",
         "histnorm": "",
         "marker": {
          "color": "rgba(55, 128, 191, 1.0)",
          "line": {
           "color": "#4D5663",
           "width": 1.3
          }
         },
         "name": "B",
         "nbinsx": 10,
         "opacity": 0.8,
         "orientation": "v",
         "type": "histogram",
         "x": [
          0.06410207357628032,
          0.5988194682426909,
          -2.010053357011642,
          -1.534460534232777,
          -0.2838752137445895,
          -0.4364055158241752,
          -0.062107990124747985,
          1.8291664069893194,
          0.3370186963782379,
          -0.8571716626766643,
          -1.4897033440473515,
          -0.9773804107151556,
          -1.0218654610470015,
          1.216188328057995,
          0.36602873525868307,
          -0.04206253722866737,
          -0.504138977255192,
          0.4470533561000257,
          0.9649794948737593,
          0.7058495957713538,
          -0.9465810738244804,
          -0.07371126955603383,
          1.251547336133497,
          -2.0736322708642083,
          0.11555978219945501,
          -0.03783614416341705,
          -0.2903697562225154,
          -1.088977341454986,
          -1.135312956502815,
          -0.17442341769300082,
          0.5202635952394287,
          -0.24691452846276116,
          -0.13382915012237656,
          0.48545297566592055,
          0.41039449413774176,
          0.28873263493280305,
          -0.8387595200674258,
          2.4328000327798383,
          -0.18471578641497266,
          0.32259728832814766,
          -0.982216085912374,
          -0.15068067141146987,
          0.24049749962091524,
          0.4419380863991527,
          1.815418420087622,
          -1.1486655540832191,
          0.8238794399772241,
          -0.21805122145673023,
          0.8695259754966412,
          0.0846709805993985,
          -0.5056779659883797,
          -0.5481037070327525,
          -0.46466581623716674,
          0.9225448772117156,
          -1.4662409750216734,
          -0.1999400856400257,
          -0.8115108172583112,
          0.12397852989218443,
          0.56609204715325,
          0.3351988818461227,
          1.0637178967303107,
          1.6526894878378782,
          -1.4790950118066495,
          -0.10261674802653346,
          -0.2956729083237752,
          -0.18748856240961745,
          2.180420918749399,
          0.41207565810024677,
          0.4993117779200552,
          0.9484337358875686,
          1.817708891978699,
          -1.367547056288455,
          -0.4222795209346398,
          0.8705762012391222,
          -0.33026278521437336,
          0.3320445392395583,
          -1.5826633681260793,
          -0.4634439124069925,
          0.022534344142100184,
          0.05393478756544293,
          -0.45314670894281395,
          -0.5856801775867423,
          0.4040232286668457,
          0.9457127648011665,
          0.53827141480434,
          0.2597206638247671,
          0.4418659169631524,
          0.5464618225133375,
          0.46339910791145505,
          1.9180711403866888,
          -0.5848582990423815,
          0.34536446975354557,
          1.136277596261647,
          0.967248891045694,
          -1.359893659316058,
          0.9586041241102193,
          -1.082722915105749,
          -1.5170273973065584,
          -0.3113640177319824,
          -0.6227757285501787
         ],
         "xaxis": "x6",
         "yaxis": "y6"
        },
        {
         "line": {
          "color": "rgba(128, 128, 128, 1.0)",
          "dash": "solid",
          "shape": "linear",
          "width": 1.3
         },
         "marker": {
          "size": 2,
          "symbol": "circle"
         },
         "mode": "markers",
         "name": "B",
         "text": "",
         "type": "scatter",
         "x": [
          1.0020217535640417,
          -1.0709120713481004,
          -0.9936119101433717,
          -2.533599147151511,
          -2.314731661644817,
          -0.544402046158424,
          -1.7989800241411678,
          0.782483626643164,
          0.13771380729408503,
          -0.26912837208801016,
          2.376414403900346,
          0.5630644851976623,
          -2.1042265727699636,
          -1.814687339800105,
          1.6342206394532424,
          0.5975342196859066,
          -0.2377697619797907,
          -1.1473526722044125,
          -0.11183148774247341,
          -0.8718362484157849,
          -1.7467408368798731,
          -1.42620331293831,
          -0.8044090441282832,
          0.41352269122290825,
          0.3284449570478143,
          -1.4167401024679986,
          -0.7643157819784241,
          -1.2326215055186183,
          -1.7979419959605787,
          0.18341159576582408,
          -1.024872977256669,
          0.6716464612752306,
          0.2680784160141836,
          0.8307992566454814,
          -0.07432723810707276,
          -0.2795250124047079,
          -0.4513367033485977,
          -0.2636098717629078,
          1.3409219089641207,
          -0.5905212614700776,
          -0.06921772193076348,
          1.6380554963056684,
          0.8363366001738519,
          -2.056243778451678,
          0.5867692902761166,
          -0.0342123572857976,
          -1.5997378200220695,
          -0.10004504410348357,
          0.5288484923051605,
          0.990455013134741,
          -1.0790887516075034,
          -0.5971327615660645,
          0.29358119256651444,
          -0.4212318061740513,
          0.11691410793563538,
          -0.8008819526632075,
          -1.5290749083465076,
          0.1772883701941325,
          -0.01688038887791492,
          -0.021923467828441658,
          -1.4967190792096503,
          0.15150510466376751,
          0.6693772939887973,
          -0.16311216022659247,
          0.38309674492611456,
          0.43497750900171456,
          0.3476226555561386,
          1.5627156094985022,
          0.1843061100316847,
          1.421765577191801,
          -1.1114120860662586,
          -0.5927862115109154,
          0.12615601309565674,
          0.4959556950701397,
          -1.7347434755358349,
          -2.556510164146063,
          0.521765841402743,
          0.5852910412090544,
          -1.2462232446635684,
          0.5337386968554741,
          0.4973018897679892,
          -1.2526723107502338,
          -0.16303511988251154,
          0.6054280618381143,
          0.8720190318129162,
          -0.2078281720118378,
          0.5926952471378346,
          1.0528280096730862,
          0.05078172862308404,
          -1.664825338290475,
          -1.0103263398425255,
          -0.5982748521452806,
          -0.2710988445712092,
          -0.06659147592753269,
          0.12940752835322614,
          -0.5725834593883529,
          -0.8959167846179494,
          -0.8404684746152375,
          0.1770863263793589,
          0.9550700432506805
         ],
         "xaxis": "x7",
         "y": [
          0.06410207357628032,
          0.5988194682426909,
          -2.010053357011642,
          -1.534460534232777,
          -0.2838752137445895,
          -0.4364055158241752,
          -0.062107990124747985,
          1.8291664069893194,
          0.3370186963782379,
          -0.8571716626766643,
          -1.4897033440473515,
          -0.9773804107151556,
          -1.0218654610470015,
          1.216188328057995,
          0.36602873525868307,
          -0.04206253722866737,
          -0.504138977255192,
          0.4470533561000257,
          0.9649794948737593,
          0.7058495957713538,
          -0.9465810738244804,
          -0.07371126955603383,
          1.251547336133497,
          -2.0736322708642083,
          0.11555978219945501,
          -0.03783614416341705,
          -0.2903697562225154,
          -1.088977341454986,
          -1.135312956502815,
          -0.17442341769300082,
          0.5202635952394287,
          -0.24691452846276116,
          -0.13382915012237656,
          0.48545297566592055,
          0.41039449413774176,
          0.28873263493280305,
          -0.8387595200674258,
          2.4328000327798383,
          -0.18471578641497266,
          0.32259728832814766,
          -0.982216085912374,
          -0.15068067141146987,
          0.24049749962091524,
          0.4419380863991527,
          1.815418420087622,
          -1.1486655540832191,
          0.8238794399772241,
          -0.21805122145673023,
          0.8695259754966412,
          0.0846709805993985,
          -0.5056779659883797,
          -0.5481037070327525,
          -0.46466581623716674,
          0.9225448772117156,
          -1.4662409750216734,
          -0.1999400856400257,
          -0.8115108172583112,
          0.12397852989218443,
          0.56609204715325,
          0.3351988818461227,
          1.0637178967303107,
          1.6526894878378782,
          -1.4790950118066495,
          -0.10261674802653346,
          -0.2956729083237752,
          -0.18748856240961745,
          2.180420918749399,
          0.41207565810024677,
          0.4993117779200552,
          0.9484337358875686,
          1.817708891978699,
          -1.367547056288455,
          -0.4222795209346398,
          0.8705762012391222,
          -0.33026278521437336,
          0.3320445392395583,
          -1.5826633681260793,
          -0.4634439124069925,
          0.022534344142100184,
          0.05393478756544293,
          -0.45314670894281395,
          -0.5856801775867423,
          0.4040232286668457,
          0.9457127648011665,
          0.53827141480434,
          0.2597206638247671,
          0.4418659169631524,
          0.5464618225133375,
          0.46339910791145505,
          1.9180711403866888,
          -0.5848582990423815,
          0.34536446975354557,
          1.136277596261647,
          0.967248891045694,
          -1.359893659316058,
          0.9586041241102193,
          -1.082722915105749,
          -1.5170273973065584,
          -0.3113640177319824,
          -0.6227757285501787
         ],
         "yaxis": "y7"
        },
        {
         "line": {
          "color": "rgba(128, 128, 128, 1.0)",
          "dash": "solid",
          "shape": "linear",
          "width": 1.3
         },
         "marker": {
          "size": 2,
          "symbol": "circle"
         },
         "mode": "markers",
         "name": "B",
         "text": "",
         "type": "scatter",
         "x": [
          0.5016469424237546,
          1.5461024256449314,
          -1.515430754935001,
          -1.1969819308460552,
          -1.2821642556303274,
          -1.32607419862964,
          1.1137171683997595,
          0.859272126095684,
          0.6344480101234863,
          -0.11559713090033623,
          1.0718084014591502,
          0.1742840101142203,
          0.5166855879361155,
          -1.0854229221430316,
          -0.03447866308128951,
          0.15517061967063442,
          -0.7894475900868732,
          0.09543617935624944,
          0.45177180906632064,
          1.1696101468824083,
          -0.043311890707100204,
          1.6571427473565212,
          0.5280278445921563,
          0.6810963828489841,
          0.2977891259733895,
          0.22201272375753953,
          -0.679094912710526,
          -0.6195440193043447,
          0.05728074218985923,
          -0.397444325243679,
          -0.2449987392414877,
          0.3238536498124585,
          0.0999947297956345,
          -0.8953409899852637,
          0.7600318497834284,
          0.574035987683394,
          0.5971309921650964,
          -1.2601874144644434,
          0.7236021641690927,
          -0.15456900240201948,
          1.4538526363842077,
          1.392198528988188,
          0.6564149972780509,
          -0.5132348326197187,
          -1.116673228056018,
          -1.1107777598305526,
          0.6994675470009029,
          0.49418020709582305,
          1.0349694423443077,
          -0.016580139292874982,
          0.5189493193632874,
          0.6938238472257998,
          -0.10657124752182924,
          -0.5301476147096458,
          1.0263088421721898,
          -0.21130004661452512,
          -1.5642104552995117,
          0.8019741574064435,
          -0.36053228022800216,
          -0.7944734793899005,
          0.07260524925412559,
          1.1185794889521081,
          0.335167755073714,
          -1.3994871996451526,
          0.22895292192646716,
          -1.1047814869104593,
          -1.6535105624892523,
          -1.1736268694370566,
          0.3055282790395455,
          1.0602541941979597,
          0.8770400352815519,
          -0.5052684856558837,
          1.1170447163533912,
          2.210214604865789,
          -0.9985161080562468,
          0.27359228831567,
          0.06261800881342981,
          1.020912023869562,
          -0.6003812064685073,
          0.4762040336398097,
          0.45551139867643964,
          1.5541884069075995,
          0.9575096687638155,
          0.2679021455665988,
          -1.8562107587464431,
          1.130377156623166,
          -1.5212369356068927,
          -2.348287045662786,
          1.8044560570029817,
          -1.5433729564647345,
          -0.31206469620866883,
          -0.7571601929739846,
          0.7761959199474827,
          0.6314116816461985,
          -1.776462206095515,
          0.47288058865943794,
          1.1297379468895679,
          -0.9677644478589714,
          0.23234322578701186,
          -1.5242511690132388
         ],
         "xaxis": "x8",
         "y": [
          0.06410207357628032,
          0.5988194682426909,
          -2.010053357011642,
          -1.534460534232777,
          -0.2838752137445895,
          -0.4364055158241752,
          -0.062107990124747985,
          1.8291664069893194,
          0.3370186963782379,
          -0.8571716626766643,
          -1.4897033440473515,
          -0.9773804107151556,
          -1.0218654610470015,
          1.216188328057995,
          0.36602873525868307,
          -0.04206253722866737,
          -0.504138977255192,
          0.4470533561000257,
          0.9649794948737593,
          0.7058495957713538,
          -0.9465810738244804,
          -0.07371126955603383,
          1.251547336133497,
          -2.0736322708642083,
          0.11555978219945501,
          -0.03783614416341705,
          -0.2903697562225154,
          -1.088977341454986,
          -1.135312956502815,
          -0.17442341769300082,
          0.5202635952394287,
          -0.24691452846276116,
          -0.13382915012237656,
          0.48545297566592055,
          0.41039449413774176,
          0.28873263493280305,
          -0.8387595200674258,
          2.4328000327798383,
          -0.18471578641497266,
          0.32259728832814766,
          -0.982216085912374,
          -0.15068067141146987,
          0.24049749962091524,
          0.4419380863991527,
          1.815418420087622,
          -1.1486655540832191,
          0.8238794399772241,
          -0.21805122145673023,
          0.8695259754966412,
          0.0846709805993985,
          -0.5056779659883797,
          -0.5481037070327525,
          -0.46466581623716674,
          0.9225448772117156,
          -1.4662409750216734,
          -0.1999400856400257,
          -0.8115108172583112,
          0.12397852989218443,
          0.56609204715325,
          0.3351988818461227,
          1.0637178967303107,
          1.6526894878378782,
          -1.4790950118066495,
          -0.10261674802653346,
          -0.2956729083237752,
          -0.18748856240961745,
          2.180420918749399,
          0.41207565810024677,
          0.4993117779200552,
          0.9484337358875686,
          1.817708891978699,
          -1.367547056288455,
          -0.4222795209346398,
          0.8705762012391222,
          -0.33026278521437336,
          0.3320445392395583,
          -1.5826633681260793,
          -0.4634439124069925,
          0.022534344142100184,
          0.05393478756544293,
          -0.45314670894281395,
          -0.5856801775867423,
          0.4040232286668457,
          0.9457127648011665,
          0.53827141480434,
          0.2597206638247671,
          0.4418659169631524,
          0.5464618225133375,
          0.46339910791145505,
          1.9180711403866888,
          -0.5848582990423815,
          0.34536446975354557,
          1.136277596261647,
          0.967248891045694,
          -1.359893659316058,
          0.9586041241102193,
          -1.082722915105749,
          -1.5170273973065584,
          -0.3113640177319824,
          -0.6227757285501787
         ],
         "yaxis": "y8"
        },
        {
         "line": {
          "color": "rgba(128, 128, 128, 1.0)",
          "dash": "solid",
          "shape": "linear",
          "width": 1.3
         },
         "marker": {
          "size": 2,
          "symbol": "circle"
         },
         "mode": "markers",
         "name": "C",
         "text": "",
         "type": "scatter",
         "x": [
          0.7579622911456884,
          0.5298454226070978,
          0.8156101983220254,
          -0.9454582364645135,
          -0.857994402443206,
          -0.1670467591767333,
          -0.7888114020903332,
          -0.2673561619114749,
          0.768216778986486,
          -0.8638176766596485,
          -0.33843709402835276,
          -0.8604248481790441,
          0.9390817496511193,
          0.4962486167366557,
          -0.342866720058513,
          0.5321154951123271,
          0.08364234862840773,
          -0.24420366347819594,
          -2.5470021690493523,
          0.6501915875974441,
          0.46105121143151684,
          -1.2696445490313397,
          -1.262321855935702,
          0.020590837422995875,
          -1.962164958669862,
          0.1520210913204685,
          -0.32979134502902163,
          0.8401008377275386,
          -0.5082086655426916,
          1.2528721120287196,
          -0.7153155037815715,
          1.4064228445136355,
          1.8710040626067423,
          0.08757345444063647,
          2.041319270677461,
          2.8000560133663024,
          -1.370358468855292,
          -0.3060589595906979,
          0.6755736191112913,
          1.4407258504266733,
          -0.8107992432478025,
          0.5914524531347799,
          0.3879197499827318,
          -1.3226943138065599,
          0.03095980363011386,
          0.35388609090549306,
          -0.7106145582311015,
          -0.6995966631278421,
          -0.01780114613536176,
          -0.23550021237398164,
          -0.9927687863322747,
          -0.8554634929109388,
          -0.2216839561931747,
          0.1935051205325323,
          -0.7550886779996621,
          -0.382930473573882,
          -0.4136431738112617,
          -0.15205974759545637,
          0.7962233695209215,
          0.7256432342089434,
          0.24270585434026598,
          0.13409859606010457,
          -0.556524193528626,
          0.07633036965958356,
          1.1366650674151044,
          1.3415441140499602,
          0.7084176532972084,
          -1.2865302555192233,
          -1.2527010973957653,
          0.8756611197550394,
          1.0631834319317377,
          1.7277189454023956,
          0.3458699972060742,
          -0.45699142615687494,
          1.0790163639283334,
          -0.6944844785820669,
          -2.2895926431144096,
          1.6323818820980218,
          -1.9706328705835687,
          -0.6145302262421422,
          0.4150734969666682,
          0.02447752685552582,
          0.015341516547215574,
          0.6524751897352478,
          0.2162686415482492,
          1.2238682829100826,
          -0.5594810022793774,
          -0.7721879879776039,
          0.7677945424465574,
          -0.44711928380135374,
          0.03485657417707869,
          0.1766223676895384,
          0.07374326243590695,
          -0.23580423331382155,
          -0.48565550121671947,
          -0.6542410195199967,
          1.7015538622803354,
          0.5314220872039849,
          0.2363390667193305,
          -0.8387818864979736
         ],
         "xaxis": "x9",
         "y": [
          1.0020217535640417,
          -1.0709120713481004,
          -0.9936119101433717,
          -2.533599147151511,
          -2.314731661644817,
          -0.544402046158424,
          -1.7989800241411678,
          0.782483626643164,
          0.13771380729408503,
          -0.26912837208801016,
          2.376414403900346,
          0.5630644851976623,
          -2.1042265727699636,
          -1.814687339800105,
          1.6342206394532424,
          0.5975342196859066,
          -0.2377697619797907,
          -1.1473526722044125,
          -0.11183148774247341,
          -0.8718362484157849,
          -1.7467408368798731,
          -1.42620331293831,
          -0.8044090441282832,
          0.41352269122290825,
          0.3284449570478143,
          -1.4167401024679986,
          -0.7643157819784241,
          -1.2326215055186183,
          -1.7979419959605787,
          0.18341159576582408,
          -1.024872977256669,
          0.6716464612752306,
          0.2680784160141836,
          0.8307992566454814,
          -0.07432723810707276,
          -0.2795250124047079,
          -0.4513367033485977,
          -0.2636098717629078,
          1.3409219089641207,
          -0.5905212614700776,
          -0.06921772193076348,
          1.6380554963056684,
          0.8363366001738519,
          -2.056243778451678,
          0.5867692902761166,
          -0.0342123572857976,
          -1.5997378200220695,
          -0.10004504410348357,
          0.5288484923051605,
          0.990455013134741,
          -1.0790887516075034,
          -0.5971327615660645,
          0.29358119256651444,
          -0.4212318061740513,
          0.11691410793563538,
          -0.8008819526632075,
          -1.5290749083465076,
          0.1772883701941325,
          -0.01688038887791492,
          -0.021923467828441658,
          -1.4967190792096503,
          0.15150510466376751,
          0.6693772939887973,
          -0.16311216022659247,
          0.38309674492611456,
          0.43497750900171456,
          0.3476226555561386,
          1.5627156094985022,
          0.1843061100316847,
          1.421765577191801,
          -1.1114120860662586,
          -0.5927862115109154,
          0.12615601309565674,
          0.4959556950701397,
          -1.7347434755358349,
          -2.556510164146063,
          0.521765841402743,
          0.5852910412090544,
          -1.2462232446635684,
          0.5337386968554741,
          0.4973018897679892,
          -1.2526723107502338,
          -0.16303511988251154,
          0.6054280618381143,
          0.8720190318129162,
          -0.2078281720118378,
          0.5926952471378346,
          1.0528280096730862,
          0.05078172862308404,
          -1.664825338290475,
          -1.0103263398425255,
          -0.5982748521452806,
          -0.2710988445712092,
          -0.06659147592753269,
          0.12940752835322614,
          -0.5725834593883529,
          -0.8959167846179494,
          -0.8404684746152375,
          0.1770863263793589,
          0.9550700432506805
         ],
         "yaxis": "y9"
        },
        {
         "line": {
          "color": "rgba(128, 128, 128, 1.0)",
          "dash": "solid",
          "shape": "linear",
          "width": 1.3
         },
         "marker": {
          "size": 2,
          "symbol": "circle"
         },
         "mode": "markers",
         "name": "C",
         "text": "",
         "type": "scatter",
         "x": [
          0.06410207357628032,
          0.5988194682426909,
          -2.010053357011642,
          -1.534460534232777,
          -0.2838752137445895,
          -0.4364055158241752,
          -0.062107990124747985,
          1.8291664069893194,
          0.3370186963782379,
          -0.8571716626766643,
          -1.4897033440473515,
          -0.9773804107151556,
          -1.0218654610470015,
          1.216188328057995,
          0.36602873525868307,
          -0.04206253722866737,
          -0.504138977255192,
          0.4470533561000257,
          0.9649794948737593,
          0.7058495957713538,
          -0.9465810738244804,
          -0.07371126955603383,
          1.251547336133497,
          -2.0736322708642083,
          0.11555978219945501,
          -0.03783614416341705,
          -0.2903697562225154,
          -1.088977341454986,
          -1.135312956502815,
          -0.17442341769300082,
          0.5202635952394287,
          -0.24691452846276116,
          -0.13382915012237656,
          0.48545297566592055,
          0.41039449413774176,
          0.28873263493280305,
          -0.8387595200674258,
          2.4328000327798383,
          -0.18471578641497266,
          0.32259728832814766,
          -0.982216085912374,
          -0.15068067141146987,
          0.24049749962091524,
          0.4419380863991527,
          1.815418420087622,
          -1.1486655540832191,
          0.8238794399772241,
          -0.21805122145673023,
          0.8695259754966412,
          0.0846709805993985,
          -0.5056779659883797,
          -0.5481037070327525,
          -0.46466581623716674,
          0.9225448772117156,
          -1.4662409750216734,
          -0.1999400856400257,
          -0.8115108172583112,
          0.12397852989218443,
          0.56609204715325,
          0.3351988818461227,
          1.0637178967303107,
          1.6526894878378782,
          -1.4790950118066495,
          -0.10261674802653346,
          -0.2956729083237752,
          -0.18748856240961745,
          2.180420918749399,
          0.41207565810024677,
          0.4993117779200552,
          0.9484337358875686,
          1.817708891978699,
          -1.367547056288455,
          -0.4222795209346398,
          0.8705762012391222,
          -0.33026278521437336,
          0.3320445392395583,
          -1.5826633681260793,
          -0.4634439124069925,
          0.022534344142100184,
          0.05393478756544293,
          -0.45314670894281395,
          -0.5856801775867423,
          0.4040232286668457,
          0.9457127648011665,
          0.53827141480434,
          0.2597206638247671,
          0.4418659169631524,
          0.5464618225133375,
          0.46339910791145505,
          1.9180711403866888,
          -0.5848582990423815,
          0.34536446975354557,
          1.136277596261647,
          0.967248891045694,
          -1.359893659316058,
          0.9586041241102193,
          -1.082722915105749,
          -1.5170273973065584,
          -0.3113640177319824,
          -0.6227757285501787
         ],
         "xaxis": "x10",
         "y": [
          1.0020217535640417,
          -1.0709120713481004,
          -0.9936119101433717,
          -2.533599147151511,
          -2.314731661644817,
          -0.544402046158424,
          -1.7989800241411678,
          0.782483626643164,
          0.13771380729408503,
          -0.26912837208801016,
          2.376414403900346,
          0.5630644851976623,
          -2.1042265727699636,
          -1.814687339800105,
          1.6342206394532424,
          0.5975342196859066,
          -0.2377697619797907,
          -1.1473526722044125,
          -0.11183148774247341,
          -0.8718362484157849,
          -1.7467408368798731,
          -1.42620331293831,
          -0.8044090441282832,
          0.41352269122290825,
          0.3284449570478143,
          -1.4167401024679986,
          -0.7643157819784241,
          -1.2326215055186183,
          -1.7979419959605787,
          0.18341159576582408,
          -1.024872977256669,
          0.6716464612752306,
          0.2680784160141836,
          0.8307992566454814,
          -0.07432723810707276,
          -0.2795250124047079,
          -0.4513367033485977,
          -0.2636098717629078,
          1.3409219089641207,
          -0.5905212614700776,
          -0.06921772193076348,
          1.6380554963056684,
          0.8363366001738519,
          -2.056243778451678,
          0.5867692902761166,
          -0.0342123572857976,
          -1.5997378200220695,
          -0.10004504410348357,
          0.5288484923051605,
          0.990455013134741,
          -1.0790887516075034,
          -0.5971327615660645,
          0.29358119256651444,
          -0.4212318061740513,
          0.11691410793563538,
          -0.8008819526632075,
          -1.5290749083465076,
          0.1772883701941325,
          -0.01688038887791492,
          -0.021923467828441658,
          -1.4967190792096503,
          0.15150510466376751,
          0.6693772939887973,
          -0.16311216022659247,
          0.38309674492611456,
          0.43497750900171456,
          0.3476226555561386,
          1.5627156094985022,
          0.1843061100316847,
          1.421765577191801,
          -1.1114120860662586,
          -0.5927862115109154,
          0.12615601309565674,
          0.4959556950701397,
          -1.7347434755358349,
          -2.556510164146063,
          0.521765841402743,
          0.5852910412090544,
          -1.2462232446635684,
          0.5337386968554741,
          0.4973018897679892,
          -1.2526723107502338,
          -0.16303511988251154,
          0.6054280618381143,
          0.8720190318129162,
          -0.2078281720118378,
          0.5926952471378346,
          1.0528280096730862,
          0.05078172862308404,
          -1.664825338290475,
          -1.0103263398425255,
          -0.5982748521452806,
          -0.2710988445712092,
          -0.06659147592753269,
          0.12940752835322614,
          -0.5725834593883529,
          -0.8959167846179494,
          -0.8404684746152375,
          0.1770863263793589,
          0.9550700432506805
         ],
         "yaxis": "y10"
        },
        {
         "histfunc": "count",
         "histnorm": "",
         "marker": {
          "color": "rgba(50, 171, 96, 1.0)",
          "line": {
           "color": "#4D5663",
           "width": 1.3
          }
         },
         "name": "C",
         "nbinsx": 10,
         "opacity": 0.8,
         "orientation": "v",
         "type": "histogram",
         "x": [
          1.0020217535640417,
          -1.0709120713481004,
          -0.9936119101433717,
          -2.533599147151511,
          -2.314731661644817,
          -0.544402046158424,
          -1.7989800241411678,
          0.782483626643164,
          0.13771380729408503,
          -0.26912837208801016,
          2.376414403900346,
          0.5630644851976623,
          -2.1042265727699636,
          -1.814687339800105,
          1.6342206394532424,
          0.5975342196859066,
          -0.2377697619797907,
          -1.1473526722044125,
          -0.11183148774247341,
          -0.8718362484157849,
          -1.7467408368798731,
          -1.42620331293831,
          -0.8044090441282832,
          0.41352269122290825,
          0.3284449570478143,
          -1.4167401024679986,
          -0.7643157819784241,
          -1.2326215055186183,
          -1.7979419959605787,
          0.18341159576582408,
          -1.024872977256669,
          0.6716464612752306,
          0.2680784160141836,
          0.8307992566454814,
          -0.07432723810707276,
          -0.2795250124047079,
          -0.4513367033485977,
          -0.2636098717629078,
          1.3409219089641207,
          -0.5905212614700776,
          -0.06921772193076348,
          1.6380554963056684,
          0.8363366001738519,
          -2.056243778451678,
          0.5867692902761166,
          -0.0342123572857976,
          -1.5997378200220695,
          -0.10004504410348357,
          0.5288484923051605,
          0.990455013134741,
          -1.0790887516075034,
          -0.5971327615660645,
          0.29358119256651444,
          -0.4212318061740513,
          0.11691410793563538,
          -0.8008819526632075,
          -1.5290749083465076,
          0.1772883701941325,
          -0.01688038887791492,
          -0.021923467828441658,
          -1.4967190792096503,
          0.15150510466376751,
          0.6693772939887973,
          -0.16311216022659247,
          0.38309674492611456,
          0.43497750900171456,
          0.3476226555561386,
          1.5627156094985022,
          0.1843061100316847,
          1.421765577191801,
          -1.1114120860662586,
          -0.5927862115109154,
          0.12615601309565674,
          0.4959556950701397,
          -1.7347434755358349,
          -2.556510164146063,
          0.521765841402743,
          0.5852910412090544,
          -1.2462232446635684,
          0.5337386968554741,
          0.4973018897679892,
          -1.2526723107502338,
          -0.16303511988251154,
          0.6054280618381143,
          0.8720190318129162,
          -0.2078281720118378,
          0.5926952471378346,
          1.0528280096730862,
          0.05078172862308404,
          -1.664825338290475,
          -1.0103263398425255,
          -0.5982748521452806,
          -0.2710988445712092,
          -0.06659147592753269,
          0.12940752835322614,
          -0.5725834593883529,
          -0.8959167846179494,
          -0.8404684746152375,
          0.1770863263793589,
          0.9550700432506805
         ],
         "xaxis": "x11",
         "yaxis": "y11"
        },
        {
         "line": {
          "color": "rgba(128, 128, 128, 1.0)",
          "dash": "solid",
          "shape": "linear",
          "width": 1.3
         },
         "marker": {
          "size": 2,
          "symbol": "circle"
         },
         "mode": "markers",
         "name": "C",
         "text": "",
         "type": "scatter",
         "x": [
          0.5016469424237546,
          1.5461024256449314,
          -1.515430754935001,
          -1.1969819308460552,
          -1.2821642556303274,
          -1.32607419862964,
          1.1137171683997595,
          0.859272126095684,
          0.6344480101234863,
          -0.11559713090033623,
          1.0718084014591502,
          0.1742840101142203,
          0.5166855879361155,
          -1.0854229221430316,
          -0.03447866308128951,
          0.15517061967063442,
          -0.7894475900868732,
          0.09543617935624944,
          0.45177180906632064,
          1.1696101468824083,
          -0.043311890707100204,
          1.6571427473565212,
          0.5280278445921563,
          0.6810963828489841,
          0.2977891259733895,
          0.22201272375753953,
          -0.679094912710526,
          -0.6195440193043447,
          0.05728074218985923,
          -0.397444325243679,
          -0.2449987392414877,
          0.3238536498124585,
          0.0999947297956345,
          -0.8953409899852637,
          0.7600318497834284,
          0.574035987683394,
          0.5971309921650964,
          -1.2601874144644434,
          0.7236021641690927,
          -0.15456900240201948,
          1.4538526363842077,
          1.392198528988188,
          0.6564149972780509,
          -0.5132348326197187,
          -1.116673228056018,
          -1.1107777598305526,
          0.6994675470009029,
          0.49418020709582305,
          1.0349694423443077,
          -0.016580139292874982,
          0.5189493193632874,
          0.6938238472257998,
          -0.10657124752182924,
          -0.5301476147096458,
          1.0263088421721898,
          -0.21130004661452512,
          -1.5642104552995117,
          0.8019741574064435,
          -0.36053228022800216,
          -0.7944734793899005,
          0.07260524925412559,
          1.1185794889521081,
          0.335167755073714,
          -1.3994871996451526,
          0.22895292192646716,
          -1.1047814869104593,
          -1.6535105624892523,
          -1.1736268694370566,
          0.3055282790395455,
          1.0602541941979597,
          0.8770400352815519,
          -0.5052684856558837,
          1.1170447163533912,
          2.210214604865789,
          -0.9985161080562468,
          0.27359228831567,
          0.06261800881342981,
          1.020912023869562,
          -0.6003812064685073,
          0.4762040336398097,
          0.45551139867643964,
          1.5541884069075995,
          0.9575096687638155,
          0.2679021455665988,
          -1.8562107587464431,
          1.130377156623166,
          -1.5212369356068927,
          -2.348287045662786,
          1.8044560570029817,
          -1.5433729564647345,
          -0.31206469620866883,
          -0.7571601929739846,
          0.7761959199474827,
          0.6314116816461985,
          -1.776462206095515,
          0.47288058865943794,
          1.1297379468895679,
          -0.9677644478589714,
          0.23234322578701186,
          -1.5242511690132388
         ],
         "xaxis": "x12",
         "y": [
          1.0020217535640417,
          -1.0709120713481004,
          -0.9936119101433717,
          -2.533599147151511,
          -2.314731661644817,
          -0.544402046158424,
          -1.7989800241411678,
          0.782483626643164,
          0.13771380729408503,
          -0.26912837208801016,
          2.376414403900346,
          0.5630644851976623,
          -2.1042265727699636,
          -1.814687339800105,
          1.6342206394532424,
          0.5975342196859066,
          -0.2377697619797907,
          -1.1473526722044125,
          -0.11183148774247341,
          -0.8718362484157849,
          -1.7467408368798731,
          -1.42620331293831,
          -0.8044090441282832,
          0.41352269122290825,
          0.3284449570478143,
          -1.4167401024679986,
          -0.7643157819784241,
          -1.2326215055186183,
          -1.7979419959605787,
          0.18341159576582408,
          -1.024872977256669,
          0.6716464612752306,
          0.2680784160141836,
          0.8307992566454814,
          -0.07432723810707276,
          -0.2795250124047079,
          -0.4513367033485977,
          -0.2636098717629078,
          1.3409219089641207,
          -0.5905212614700776,
          -0.06921772193076348,
          1.6380554963056684,
          0.8363366001738519,
          -2.056243778451678,
          0.5867692902761166,
          -0.0342123572857976,
          -1.5997378200220695,
          -0.10004504410348357,
          0.5288484923051605,
          0.990455013134741,
          -1.0790887516075034,
          -0.5971327615660645,
          0.29358119256651444,
          -0.4212318061740513,
          0.11691410793563538,
          -0.8008819526632075,
          -1.5290749083465076,
          0.1772883701941325,
          -0.01688038887791492,
          -0.021923467828441658,
          -1.4967190792096503,
          0.15150510466376751,
          0.6693772939887973,
          -0.16311216022659247,
          0.38309674492611456,
          0.43497750900171456,
          0.3476226555561386,
          1.5627156094985022,
          0.1843061100316847,
          1.421765577191801,
          -1.1114120860662586,
          -0.5927862115109154,
          0.12615601309565674,
          0.4959556950701397,
          -1.7347434755358349,
          -2.556510164146063,
          0.521765841402743,
          0.5852910412090544,
          -1.2462232446635684,
          0.5337386968554741,
          0.4973018897679892,
          -1.2526723107502338,
          -0.16303511988251154,
          0.6054280618381143,
          0.8720190318129162,
          -0.2078281720118378,
          0.5926952471378346,
          1.0528280096730862,
          0.05078172862308404,
          -1.664825338290475,
          -1.0103263398425255,
          -0.5982748521452806,
          -0.2710988445712092,
          -0.06659147592753269,
          0.12940752835322614,
          -0.5725834593883529,
          -0.8959167846179494,
          -0.8404684746152375,
          0.1770863263793589,
          0.9550700432506805
         ],
         "yaxis": "y12"
        },
        {
         "line": {
          "color": "rgba(128, 128, 128, 1.0)",
          "dash": "solid",
          "shape": "linear",
          "width": 1.3
         },
         "marker": {
          "size": 2,
          "symbol": "circle"
         },
         "mode": "markers",
         "name": "D",
         "text": "",
         "type": "scatter",
         "x": [
          0.7579622911456884,
          0.5298454226070978,
          0.8156101983220254,
          -0.9454582364645135,
          -0.857994402443206,
          -0.1670467591767333,
          -0.7888114020903332,
          -0.2673561619114749,
          0.768216778986486,
          -0.8638176766596485,
          -0.33843709402835276,
          -0.8604248481790441,
          0.9390817496511193,
          0.4962486167366557,
          -0.342866720058513,
          0.5321154951123271,
          0.08364234862840773,
          -0.24420366347819594,
          -2.5470021690493523,
          0.6501915875974441,
          0.46105121143151684,
          -1.2696445490313397,
          -1.262321855935702,
          0.020590837422995875,
          -1.962164958669862,
          0.1520210913204685,
          -0.32979134502902163,
          0.8401008377275386,
          -0.5082086655426916,
          1.2528721120287196,
          -0.7153155037815715,
          1.4064228445136355,
          1.8710040626067423,
          0.08757345444063647,
          2.041319270677461,
          2.8000560133663024,
          -1.370358468855292,
          -0.3060589595906979,
          0.6755736191112913,
          1.4407258504266733,
          -0.8107992432478025,
          0.5914524531347799,
          0.3879197499827318,
          -1.3226943138065599,
          0.03095980363011386,
          0.35388609090549306,
          -0.7106145582311015,
          -0.6995966631278421,
          -0.01780114613536176,
          -0.23550021237398164,
          -0.9927687863322747,
          -0.8554634929109388,
          -0.2216839561931747,
          0.1935051205325323,
          -0.7550886779996621,
          -0.382930473573882,
          -0.4136431738112617,
          -0.15205974759545637,
          0.7962233695209215,
          0.7256432342089434,
          0.24270585434026598,
          0.13409859606010457,
          -0.556524193528626,
          0.07633036965958356,
          1.1366650674151044,
          1.3415441140499602,
          0.7084176532972084,
          -1.2865302555192233,
          -1.2527010973957653,
          0.8756611197550394,
          1.0631834319317377,
          1.7277189454023956,
          0.3458699972060742,
          -0.45699142615687494,
          1.0790163639283334,
          -0.6944844785820669,
          -2.2895926431144096,
          1.6323818820980218,
          -1.9706328705835687,
          -0.6145302262421422,
          0.4150734969666682,
          0.02447752685552582,
          0.015341516547215574,
          0.6524751897352478,
          0.2162686415482492,
          1.2238682829100826,
          -0.5594810022793774,
          -0.7721879879776039,
          0.7677945424465574,
          -0.44711928380135374,
          0.03485657417707869,
          0.1766223676895384,
          0.07374326243590695,
          -0.23580423331382155,
          -0.48565550121671947,
          -0.6542410195199967,
          1.7015538622803354,
          0.5314220872039849,
          0.2363390667193305,
          -0.8387818864979736
         ],
         "xaxis": "x13",
         "y": [
          0.5016469424237546,
          1.5461024256449314,
          -1.515430754935001,
          -1.1969819308460552,
          -1.2821642556303274,
          -1.32607419862964,
          1.1137171683997595,
          0.859272126095684,
          0.6344480101234863,
          -0.11559713090033623,
          1.0718084014591502,
          0.1742840101142203,
          0.5166855879361155,
          -1.0854229221430316,
          -0.03447866308128951,
          0.15517061967063442,
          -0.7894475900868732,
          0.09543617935624944,
          0.45177180906632064,
          1.1696101468824083,
          -0.043311890707100204,
          1.6571427473565212,
          0.5280278445921563,
          0.6810963828489841,
          0.2977891259733895,
          0.22201272375753953,
          -0.679094912710526,
          -0.6195440193043447,
          0.05728074218985923,
          -0.397444325243679,
          -0.2449987392414877,
          0.3238536498124585,
          0.0999947297956345,
          -0.8953409899852637,
          0.7600318497834284,
          0.574035987683394,
          0.5971309921650964,
          -1.2601874144644434,
          0.7236021641690927,
          -0.15456900240201948,
          1.4538526363842077,
          1.392198528988188,
          0.6564149972780509,
          -0.5132348326197187,
          -1.116673228056018,
          -1.1107777598305526,
          0.6994675470009029,
          0.49418020709582305,
          1.0349694423443077,
          -0.016580139292874982,
          0.5189493193632874,
          0.6938238472257998,
          -0.10657124752182924,
          -0.5301476147096458,
          1.0263088421721898,
          -0.21130004661452512,
          -1.5642104552995117,
          0.8019741574064435,
          -0.36053228022800216,
          -0.7944734793899005,
          0.07260524925412559,
          1.1185794889521081,
          0.335167755073714,
          -1.3994871996451526,
          0.22895292192646716,
          -1.1047814869104593,
          -1.6535105624892523,
          -1.1736268694370566,
          0.3055282790395455,
          1.0602541941979597,
          0.8770400352815519,
          -0.5052684856558837,
          1.1170447163533912,
          2.210214604865789,
          -0.9985161080562468,
          0.27359228831567,
          0.06261800881342981,
          1.020912023869562,
          -0.6003812064685073,
          0.4762040336398097,
          0.45551139867643964,
          1.5541884069075995,
          0.9575096687638155,
          0.2679021455665988,
          -1.8562107587464431,
          1.130377156623166,
          -1.5212369356068927,
          -2.348287045662786,
          1.8044560570029817,
          -1.5433729564647345,
          -0.31206469620866883,
          -0.7571601929739846,
          0.7761959199474827,
          0.6314116816461985,
          -1.776462206095515,
          0.47288058865943794,
          1.1297379468895679,
          -0.9677644478589714,
          0.23234322578701186,
          -1.5242511690132388
         ],
         "yaxis": "y13"
        },
        {
         "line": {
          "color": "rgba(128, 128, 128, 1.0)",
          "dash": "solid",
          "shape": "linear",
          "width": 1.3
         },
         "marker": {
          "size": 2,
          "symbol": "circle"
         },
         "mode": "markers",
         "name": "D",
         "text": "",
         "type": "scatter",
         "x": [
          0.06410207357628032,
          0.5988194682426909,
          -2.010053357011642,
          -1.534460534232777,
          -0.2838752137445895,
          -0.4364055158241752,
          -0.062107990124747985,
          1.8291664069893194,
          0.3370186963782379,
          -0.8571716626766643,
          -1.4897033440473515,
          -0.9773804107151556,
          -1.0218654610470015,
          1.216188328057995,
          0.36602873525868307,
          -0.04206253722866737,
          -0.504138977255192,
          0.4470533561000257,
          0.9649794948737593,
          0.7058495957713538,
          -0.9465810738244804,
          -0.07371126955603383,
          1.251547336133497,
          -2.0736322708642083,
          0.11555978219945501,
          -0.03783614416341705,
          -0.2903697562225154,
          -1.088977341454986,
          -1.135312956502815,
          -0.17442341769300082,
          0.5202635952394287,
          -0.24691452846276116,
          -0.13382915012237656,
          0.48545297566592055,
          0.41039449413774176,
          0.28873263493280305,
          -0.8387595200674258,
          2.4328000327798383,
          -0.18471578641497266,
          0.32259728832814766,
          -0.982216085912374,
          -0.15068067141146987,
          0.24049749962091524,
          0.4419380863991527,
          1.815418420087622,
          -1.1486655540832191,
          0.8238794399772241,
          -0.21805122145673023,
          0.8695259754966412,
          0.0846709805993985,
          -0.5056779659883797,
          -0.5481037070327525,
          -0.46466581623716674,
          0.9225448772117156,
          -1.4662409750216734,
          -0.1999400856400257,
          -0.8115108172583112,
          0.12397852989218443,
          0.56609204715325,
          0.3351988818461227,
          1.0637178967303107,
          1.6526894878378782,
          -1.4790950118066495,
          -0.10261674802653346,
          -0.2956729083237752,
          -0.18748856240961745,
          2.180420918749399,
          0.41207565810024677,
          0.4993117779200552,
          0.9484337358875686,
          1.817708891978699,
          -1.367547056288455,
          -0.4222795209346398,
          0.8705762012391222,
          -0.33026278521437336,
          0.3320445392395583,
          -1.5826633681260793,
          -0.4634439124069925,
          0.022534344142100184,
          0.05393478756544293,
          -0.45314670894281395,
          -0.5856801775867423,
          0.4040232286668457,
          0.9457127648011665,
          0.53827141480434,
          0.2597206638247671,
          0.4418659169631524,
          0.5464618225133375,
          0.46339910791145505,
          1.9180711403866888,
          -0.5848582990423815,
          0.34536446975354557,
          1.136277596261647,
          0.967248891045694,
          -1.359893659316058,
          0.9586041241102193,
          -1.082722915105749,
          -1.5170273973065584,
          -0.3113640177319824,
          -0.6227757285501787
         ],
         "xaxis": "x14",
         "y": [
          0.5016469424237546,
          1.5461024256449314,
          -1.515430754935001,
          -1.1969819308460552,
          -1.2821642556303274,
          -1.32607419862964,
          1.1137171683997595,
          0.859272126095684,
          0.6344480101234863,
          -0.11559713090033623,
          1.0718084014591502,
          0.1742840101142203,
          0.5166855879361155,
          -1.0854229221430316,
          -0.03447866308128951,
          0.15517061967063442,
          -0.7894475900868732,
          0.09543617935624944,
          0.45177180906632064,
          1.1696101468824083,
          -0.043311890707100204,
          1.6571427473565212,
          0.5280278445921563,
          0.6810963828489841,
          0.2977891259733895,
          0.22201272375753953,
          -0.679094912710526,
          -0.6195440193043447,
          0.05728074218985923,
          -0.397444325243679,
          -0.2449987392414877,
          0.3238536498124585,
          0.0999947297956345,
          -0.8953409899852637,
          0.7600318497834284,
          0.574035987683394,
          0.5971309921650964,
          -1.2601874144644434,
          0.7236021641690927,
          -0.15456900240201948,
          1.4538526363842077,
          1.392198528988188,
          0.6564149972780509,
          -0.5132348326197187,
          -1.116673228056018,
          -1.1107777598305526,
          0.6994675470009029,
          0.49418020709582305,
          1.0349694423443077,
          -0.016580139292874982,
          0.5189493193632874,
          0.6938238472257998,
          -0.10657124752182924,
          -0.5301476147096458,
          1.0263088421721898,
          -0.21130004661452512,
          -1.5642104552995117,
          0.8019741574064435,
          -0.36053228022800216,
          -0.7944734793899005,
          0.07260524925412559,
          1.1185794889521081,
          0.335167755073714,
          -1.3994871996451526,
          0.22895292192646716,
          -1.1047814869104593,
          -1.6535105624892523,
          -1.1736268694370566,
          0.3055282790395455,
          1.0602541941979597,
          0.8770400352815519,
          -0.5052684856558837,
          1.1170447163533912,
          2.210214604865789,
          -0.9985161080562468,
          0.27359228831567,
          0.06261800881342981,
          1.020912023869562,
          -0.6003812064685073,
          0.4762040336398097,
          0.45551139867643964,
          1.5541884069075995,
          0.9575096687638155,
          0.2679021455665988,
          -1.8562107587464431,
          1.130377156623166,
          -1.5212369356068927,
          -2.348287045662786,
          1.8044560570029817,
          -1.5433729564647345,
          -0.31206469620866883,
          -0.7571601929739846,
          0.7761959199474827,
          0.6314116816461985,
          -1.776462206095515,
          0.47288058865943794,
          1.1297379468895679,
          -0.9677644478589714,
          0.23234322578701186,
          -1.5242511690132388
         ],
         "yaxis": "y14"
        },
        {
         "line": {
          "color": "rgba(128, 128, 128, 1.0)",
          "dash": "solid",
          "shape": "linear",
          "width": 1.3
         },
         "marker": {
          "size": 2,
          "symbol": "circle"
         },
         "mode": "markers",
         "name": "D",
         "text": "",
         "type": "scatter",
         "x": [
          1.0020217535640417,
          -1.0709120713481004,
          -0.9936119101433717,
          -2.533599147151511,
          -2.314731661644817,
          -0.544402046158424,
          -1.7989800241411678,
          0.782483626643164,
          0.13771380729408503,
          -0.26912837208801016,
          2.376414403900346,
          0.5630644851976623,
          -2.1042265727699636,
          -1.814687339800105,
          1.6342206394532424,
          0.5975342196859066,
          -0.2377697619797907,
          -1.1473526722044125,
          -0.11183148774247341,
          -0.8718362484157849,
          -1.7467408368798731,
          -1.42620331293831,
          -0.8044090441282832,
          0.41352269122290825,
          0.3284449570478143,
          -1.4167401024679986,
          -0.7643157819784241,
          -1.2326215055186183,
          -1.7979419959605787,
          0.18341159576582408,
          -1.024872977256669,
          0.6716464612752306,
          0.2680784160141836,
          0.8307992566454814,
          -0.07432723810707276,
          -0.2795250124047079,
          -0.4513367033485977,
          -0.2636098717629078,
          1.3409219089641207,
          -0.5905212614700776,
          -0.06921772193076348,
          1.6380554963056684,
          0.8363366001738519,
          -2.056243778451678,
          0.5867692902761166,
          -0.0342123572857976,
          -1.5997378200220695,
          -0.10004504410348357,
          0.5288484923051605,
          0.990455013134741,
          -1.0790887516075034,
          -0.5971327615660645,
          0.29358119256651444,
          -0.4212318061740513,
          0.11691410793563538,
          -0.8008819526632075,
          -1.5290749083465076,
          0.1772883701941325,
          -0.01688038887791492,
          -0.021923467828441658,
          -1.4967190792096503,
          0.15150510466376751,
          0.6693772939887973,
          -0.16311216022659247,
          0.38309674492611456,
          0.43497750900171456,
          0.3476226555561386,
          1.5627156094985022,
          0.1843061100316847,
          1.421765577191801,
          -1.1114120860662586,
          -0.5927862115109154,
          0.12615601309565674,
          0.4959556950701397,
          -1.7347434755358349,
          -2.556510164146063,
          0.521765841402743,
          0.5852910412090544,
          -1.2462232446635684,
          0.5337386968554741,
          0.4973018897679892,
          -1.2526723107502338,
          -0.16303511988251154,
          0.6054280618381143,
          0.8720190318129162,
          -0.2078281720118378,
          0.5926952471378346,
          1.0528280096730862,
          0.05078172862308404,
          -1.664825338290475,
          -1.0103263398425255,
          -0.5982748521452806,
          -0.2710988445712092,
          -0.06659147592753269,
          0.12940752835322614,
          -0.5725834593883529,
          -0.8959167846179494,
          -0.8404684746152375,
          0.1770863263793589,
          0.9550700432506805
         ],
         "xaxis": "x15",
         "y": [
          0.5016469424237546,
          1.5461024256449314,
          -1.515430754935001,
          -1.1969819308460552,
          -1.2821642556303274,
          -1.32607419862964,
          1.1137171683997595,
          0.859272126095684,
          0.6344480101234863,
          -0.11559713090033623,
          1.0718084014591502,
          0.1742840101142203,
          0.5166855879361155,
          -1.0854229221430316,
          -0.03447866308128951,
          0.15517061967063442,
          -0.7894475900868732,
          0.09543617935624944,
          0.45177180906632064,
          1.1696101468824083,
          -0.043311890707100204,
          1.6571427473565212,
          0.5280278445921563,
          0.6810963828489841,
          0.2977891259733895,
          0.22201272375753953,
          -0.679094912710526,
          -0.6195440193043447,
          0.05728074218985923,
          -0.397444325243679,
          -0.2449987392414877,
          0.3238536498124585,
          0.0999947297956345,
          -0.8953409899852637,
          0.7600318497834284,
          0.574035987683394,
          0.5971309921650964,
          -1.2601874144644434,
          0.7236021641690927,
          -0.15456900240201948,
          1.4538526363842077,
          1.392198528988188,
          0.6564149972780509,
          -0.5132348326197187,
          -1.116673228056018,
          -1.1107777598305526,
          0.6994675470009029,
          0.49418020709582305,
          1.0349694423443077,
          -0.016580139292874982,
          0.5189493193632874,
          0.6938238472257998,
          -0.10657124752182924,
          -0.5301476147096458,
          1.0263088421721898,
          -0.21130004661452512,
          -1.5642104552995117,
          0.8019741574064435,
          -0.36053228022800216,
          -0.7944734793899005,
          0.07260524925412559,
          1.1185794889521081,
          0.335167755073714,
          -1.3994871996451526,
          0.22895292192646716,
          -1.1047814869104593,
          -1.6535105624892523,
          -1.1736268694370566,
          0.3055282790395455,
          1.0602541941979597,
          0.8770400352815519,
          -0.5052684856558837,
          1.1170447163533912,
          2.210214604865789,
          -0.9985161080562468,
          0.27359228831567,
          0.06261800881342981,
          1.020912023869562,
          -0.6003812064685073,
          0.4762040336398097,
          0.45551139867643964,
          1.5541884069075995,
          0.9575096687638155,
          0.2679021455665988,
          -1.8562107587464431,
          1.130377156623166,
          -1.5212369356068927,
          -2.348287045662786,
          1.8044560570029817,
          -1.5433729564647345,
          -0.31206469620866883,
          -0.7571601929739846,
          0.7761959199474827,
          0.6314116816461985,
          -1.776462206095515,
          0.47288058865943794,
          1.1297379468895679,
          -0.9677644478589714,
          0.23234322578701186,
          -1.5242511690132388
         ],
         "yaxis": "y15"
        },
        {
         "histfunc": "count",
         "histnorm": "",
         "marker": {
          "color": "rgba(128, 0, 128, 1.0)",
          "line": {
           "color": "#4D5663",
           "width": 1.3
          }
         },
         "name": "D",
         "nbinsx": 10,
         "opacity": 0.8,
         "orientation": "v",
         "type": "histogram",
         "x": [
          0.5016469424237546,
          1.5461024256449314,
          -1.515430754935001,
          -1.1969819308460552,
          -1.2821642556303274,
          -1.32607419862964,
          1.1137171683997595,
          0.859272126095684,
          0.6344480101234863,
          -0.11559713090033623,
          1.0718084014591502,
          0.1742840101142203,
          0.5166855879361155,
          -1.0854229221430316,
          -0.03447866308128951,
          0.15517061967063442,
          -0.7894475900868732,
          0.09543617935624944,
          0.45177180906632064,
          1.1696101468824083,
          -0.043311890707100204,
          1.6571427473565212,
          0.5280278445921563,
          0.6810963828489841,
          0.2977891259733895,
          0.22201272375753953,
          -0.679094912710526,
          -0.6195440193043447,
          0.05728074218985923,
          -0.397444325243679,
          -0.2449987392414877,
          0.3238536498124585,
          0.0999947297956345,
          -0.8953409899852637,
          0.7600318497834284,
          0.574035987683394,
          0.5971309921650964,
          -1.2601874144644434,
          0.7236021641690927,
          -0.15456900240201948,
          1.4538526363842077,
          1.392198528988188,
          0.6564149972780509,
          -0.5132348326197187,
          -1.116673228056018,
          -1.1107777598305526,
          0.6994675470009029,
          0.49418020709582305,
          1.0349694423443077,
          -0.016580139292874982,
          0.5189493193632874,
          0.6938238472257998,
          -0.10657124752182924,
          -0.5301476147096458,
          1.0263088421721898,
          -0.21130004661452512,
          -1.5642104552995117,
          0.8019741574064435,
          -0.36053228022800216,
          -0.7944734793899005,
          0.07260524925412559,
          1.1185794889521081,
          0.335167755073714,
          -1.3994871996451526,
          0.22895292192646716,
          -1.1047814869104593,
          -1.6535105624892523,
          -1.1736268694370566,
          0.3055282790395455,
          1.0602541941979597,
          0.8770400352815519,
          -0.5052684856558837,
          1.1170447163533912,
          2.210214604865789,
          -0.9985161080562468,
          0.27359228831567,
          0.06261800881342981,
          1.020912023869562,
          -0.6003812064685073,
          0.4762040336398097,
          0.45551139867643964,
          1.5541884069075995,
          0.9575096687638155,
          0.2679021455665988,
          -1.8562107587464431,
          1.130377156623166,
          -1.5212369356068927,
          -2.348287045662786,
          1.8044560570029817,
          -1.5433729564647345,
          -0.31206469620866883,
          -0.7571601929739846,
          0.7761959199474827,
          0.6314116816461985,
          -1.776462206095515,
          0.47288058865943794,
          1.1297379468895679,
          -0.9677644478589714,
          0.23234322578701186,
          -1.5242511690132388
         ],
         "xaxis": "x16",
         "yaxis": "y16"
        }
       ],
       "layout": {
        "bargap": 0.02,
        "legend": {
         "bgcolor": "#F5F6F9",
         "font": {
          "color": "#4D5663"
         }
        },
        "paper_bgcolor": "#F5F6F9",
        "plot_bgcolor": "#F5F6F9",
        "showlegend": false,
        "template": {
         "data": {
          "bar": [
           {
            "error_x": {
             "color": "#2a3f5f"
            },
            "error_y": {
             "color": "#2a3f5f"
            },
            "marker": {
             "line": {
              "color": "#E5ECF6",
              "width": 0.5
             }
            },
            "type": "bar"
           }
          ],
          "barpolar": [
           {
            "marker": {
             "line": {
              "color": "#E5ECF6",
              "width": 0.5
             }
            },
            "type": "barpolar"
           }
          ],
          "carpet": [
           {
            "aaxis": {
             "endlinecolor": "#2a3f5f",
             "gridcolor": "white",
             "linecolor": "white",
             "minorgridcolor": "white",
             "startlinecolor": "#2a3f5f"
            },
            "baxis": {
             "endlinecolor": "#2a3f5f",
             "gridcolor": "white",
             "linecolor": "white",
             "minorgridcolor": "white",
             "startlinecolor": "#2a3f5f"
            },
            "type": "carpet"
           }
          ],
          "choropleth": [
           {
            "colorbar": {
             "outlinewidth": 0,
             "ticks": ""
            },
            "type": "choropleth"
           }
          ],
          "contour": [
           {
            "colorbar": {
             "outlinewidth": 0,
             "ticks": ""
            },
            "colorscale": [
             [
              0,
              "#0d0887"
             ],
             [
              0.1111111111111111,
              "#46039f"
             ],
             [
              0.2222222222222222,
              "#7201a8"
             ],
             [
              0.3333333333333333,
              "#9c179e"
             ],
             [
              0.4444444444444444,
              "#bd3786"
             ],
             [
              0.5555555555555556,
              "#d8576b"
             ],
             [
              0.6666666666666666,
              "#ed7953"
             ],
             [
              0.7777777777777778,
              "#fb9f3a"
             ],
             [
              0.8888888888888888,
              "#fdca26"
             ],
             [
              1,
              "#f0f921"
             ]
            ],
            "type": "contour"
           }
          ],
          "contourcarpet": [
           {
            "colorbar": {
             "outlinewidth": 0,
             "ticks": ""
            },
            "type": "contourcarpet"
           }
          ],
          "heatmap": [
           {
            "colorbar": {
             "outlinewidth": 0,
             "ticks": ""
            },
            "colorscale": [
             [
              0,
              "#0d0887"
             ],
             [
              0.1111111111111111,
              "#46039f"
             ],
             [
              0.2222222222222222,
              "#7201a8"
             ],
             [
              0.3333333333333333,
              "#9c179e"
             ],
             [
              0.4444444444444444,
              "#bd3786"
             ],
             [
              0.5555555555555556,
              "#d8576b"
             ],
             [
              0.6666666666666666,
              "#ed7953"
             ],
             [
              0.7777777777777778,
              "#fb9f3a"
             ],
             [
              0.8888888888888888,
              "#fdca26"
             ],
             [
              1,
              "#f0f921"
             ]
            ],
            "type": "heatmap"
           }
          ],
          "heatmapgl": [
           {
            "colorbar": {
             "outlinewidth": 0,
             "ticks": ""
            },
            "colorscale": [
             [
              0,
              "#0d0887"
             ],
             [
              0.1111111111111111,
              "#46039f"
             ],
             [
              0.2222222222222222,
              "#7201a8"
             ],
             [
              0.3333333333333333,
              "#9c179e"
             ],
             [
              0.4444444444444444,
              "#bd3786"
             ],
             [
              0.5555555555555556,
              "#d8576b"
             ],
             [
              0.6666666666666666,
              "#ed7953"
             ],
             [
              0.7777777777777778,
              "#fb9f3a"
             ],
             [
              0.8888888888888888,
              "#fdca26"
             ],
             [
              1,
              "#f0f921"
             ]
            ],
            "type": "heatmapgl"
           }
          ],
          "histogram": [
           {
            "marker": {
             "colorbar": {
              "outlinewidth": 0,
              "ticks": ""
             }
            },
            "type": "histogram"
           }
          ],
          "histogram2d": [
           {
            "colorbar": {
             "outlinewidth": 0,
             "ticks": ""
            },
            "colorscale": [
             [
              0,
              "#0d0887"
             ],
             [
              0.1111111111111111,
              "#46039f"
             ],
             [
              0.2222222222222222,
              "#7201a8"
             ],
             [
              0.3333333333333333,
              "#9c179e"
             ],
             [
              0.4444444444444444,
              "#bd3786"
             ],
             [
              0.5555555555555556,
              "#d8576b"
             ],
             [
              0.6666666666666666,
              "#ed7953"
             ],
             [
              0.7777777777777778,
              "#fb9f3a"
             ],
             [
              0.8888888888888888,
              "#fdca26"
             ],
             [
              1,
              "#f0f921"
             ]
            ],
            "type": "histogram2d"
           }
          ],
          "histogram2dcontour": [
           {
            "colorbar": {
             "outlinewidth": 0,
             "ticks": ""
            },
            "colorscale": [
             [
              0,
              "#0d0887"
             ],
             [
              0.1111111111111111,
              "#46039f"
             ],
             [
              0.2222222222222222,
              "#7201a8"
             ],
             [
              0.3333333333333333,
              "#9c179e"
             ],
             [
              0.4444444444444444,
              "#bd3786"
             ],
             [
              0.5555555555555556,
              "#d8576b"
             ],
             [
              0.6666666666666666,
              "#ed7953"
             ],
             [
              0.7777777777777778,
              "#fb9f3a"
             ],
             [
              0.8888888888888888,
              "#fdca26"
             ],
             [
              1,
              "#f0f921"
             ]
            ],
            "type": "histogram2dcontour"
           }
          ],
          "mesh3d": [
           {
            "colorbar": {
             "outlinewidth": 0,
             "ticks": ""
            },
            "type": "mesh3d"
           }
          ],
          "parcoords": [
           {
            "line": {
             "colorbar": {
              "outlinewidth": 0,
              "ticks": ""
             }
            },
            "type": "parcoords"
           }
          ],
          "pie": [
           {
            "automargin": true,
            "type": "pie"
           }
          ],
          "scatter": [
           {
            "marker": {
             "colorbar": {
              "outlinewidth": 0,
              "ticks": ""
             }
            },
            "type": "scatter"
           }
          ],
          "scatter3d": [
           {
            "line": {
             "colorbar": {
              "outlinewidth": 0,
              "ticks": ""
             }
            },
            "marker": {
             "colorbar": {
              "outlinewidth": 0,
              "ticks": ""
             }
            },
            "type": "scatter3d"
           }
          ],
          "scattercarpet": [
           {
            "marker": {
             "colorbar": {
              "outlinewidth": 0,
              "ticks": ""
             }
            },
            "type": "scattercarpet"
           }
          ],
          "scattergeo": [
           {
            "marker": {
             "colorbar": {
              "outlinewidth": 0,
              "ticks": ""
             }
            },
            "type": "scattergeo"
           }
          ],
          "scattergl": [
           {
            "marker": {
             "colorbar": {
              "outlinewidth": 0,
              "ticks": ""
             }
            },
            "type": "scattergl"
           }
          ],
          "scattermapbox": [
           {
            "marker": {
             "colorbar": {
              "outlinewidth": 0,
              "ticks": ""
             }
            },
            "type": "scattermapbox"
           }
          ],
          "scatterpolar": [
           {
            "marker": {
             "colorbar": {
              "outlinewidth": 0,
              "ticks": ""
             }
            },
            "type": "scatterpolar"
           }
          ],
          "scatterpolargl": [
           {
            "marker": {
             "colorbar": {
              "outlinewidth": 0,
              "ticks": ""
             }
            },
            "type": "scatterpolargl"
           }
          ],
          "scatterternary": [
           {
            "marker": {
             "colorbar": {
              "outlinewidth": 0,
              "ticks": ""
             }
            },
            "type": "scatterternary"
           }
          ],
          "surface": [
           {
            "colorbar": {
             "outlinewidth": 0,
             "ticks": ""
            },
            "colorscale": [
             [
              0,
              "#0d0887"
             ],
             [
              0.1111111111111111,
              "#46039f"
             ],
             [
              0.2222222222222222,
              "#7201a8"
             ],
             [
              0.3333333333333333,
              "#9c179e"
             ],
             [
              0.4444444444444444,
              "#bd3786"
             ],
             [
              0.5555555555555556,
              "#d8576b"
             ],
             [
              0.6666666666666666,
              "#ed7953"
             ],
             [
              0.7777777777777778,
              "#fb9f3a"
             ],
             [
              0.8888888888888888,
              "#fdca26"
             ],
             [
              1,
              "#f0f921"
             ]
            ],
            "type": "surface"
           }
          ],
          "table": [
           {
            "cells": {
             "fill": {
              "color": "#EBF0F8"
             },
             "line": {
              "color": "white"
             }
            },
            "header": {
             "fill": {
              "color": "#C8D4E3"
             },
             "line": {
              "color": "white"
             }
            },
            "type": "table"
           }
          ]
         },
         "layout": {
          "annotationdefaults": {
           "arrowcolor": "#2a3f5f",
           "arrowhead": 0,
           "arrowwidth": 1
          },
          "coloraxis": {
           "colorbar": {
            "outlinewidth": 0,
            "ticks": ""
           }
          },
          "colorscale": {
           "diverging": [
            [
             0,
             "#8e0152"
            ],
            [
             0.1,
             "#c51b7d"
            ],
            [
             0.2,
             "#de77ae"
            ],
            [
             0.3,
             "#f1b6da"
            ],
            [
             0.4,
             "#fde0ef"
            ],
            [
             0.5,
             "#f7f7f7"
            ],
            [
             0.6,
             "#e6f5d0"
            ],
            [
             0.7,
             "#b8e186"
            ],
            [
             0.8,
             "#7fbc41"
            ],
            [
             0.9,
             "#4d9221"
            ],
            [
             1,
             "#276419"
            ]
           ],
           "sequential": [
            [
             0,
             "#0d0887"
            ],
            [
             0.1111111111111111,
             "#46039f"
            ],
            [
             0.2222222222222222,
             "#7201a8"
            ],
            [
             0.3333333333333333,
             "#9c179e"
            ],
            [
             0.4444444444444444,
             "#bd3786"
            ],
            [
             0.5555555555555556,
             "#d8576b"
            ],
            [
             0.6666666666666666,
             "#ed7953"
            ],
            [
             0.7777777777777778,
             "#fb9f3a"
            ],
            [
             0.8888888888888888,
             "#fdca26"
            ],
            [
             1,
             "#f0f921"
            ]
           ],
           "sequentialminus": [
            [
             0,
             "#0d0887"
            ],
            [
             0.1111111111111111,
             "#46039f"
            ],
            [
             0.2222222222222222,
             "#7201a8"
            ],
            [
             0.3333333333333333,
             "#9c179e"
            ],
            [
             0.4444444444444444,
             "#bd3786"
            ],
            [
             0.5555555555555556,
             "#d8576b"
            ],
            [
             0.6666666666666666,
             "#ed7953"
            ],
            [
             0.7777777777777778,
             "#fb9f3a"
            ],
            [
             0.8888888888888888,
             "#fdca26"
            ],
            [
             1,
             "#f0f921"
            ]
           ]
          },
          "colorway": [
           "#636efa",
           "#EF553B",
           "#00cc96",
           "#ab63fa",
           "#FFA15A",
           "#19d3f3",
           "#FF6692",
           "#B6E880",
           "#FF97FF",
           "#FECB52"
          ],
          "font": {
           "color": "#2a3f5f"
          },
          "geo": {
           "bgcolor": "white",
           "lakecolor": "white",
           "landcolor": "#E5ECF6",
           "showlakes": true,
           "showland": true,
           "subunitcolor": "white"
          },
          "hoverlabel": {
           "align": "left"
          },
          "hovermode": "closest",
          "mapbox": {
           "style": "light"
          },
          "paper_bgcolor": "white",
          "plot_bgcolor": "#E5ECF6",
          "polar": {
           "angularaxis": {
            "gridcolor": "white",
            "linecolor": "white",
            "ticks": ""
           },
           "bgcolor": "#E5ECF6",
           "radialaxis": {
            "gridcolor": "white",
            "linecolor": "white",
            "ticks": ""
           }
          },
          "scene": {
           "xaxis": {
            "backgroundcolor": "#E5ECF6",
            "gridcolor": "white",
            "gridwidth": 2,
            "linecolor": "white",
            "showbackground": true,
            "ticks": "",
            "zerolinecolor": "white"
           },
           "yaxis": {
            "backgroundcolor": "#E5ECF6",
            "gridcolor": "white",
            "gridwidth": 2,
            "linecolor": "white",
            "showbackground": true,
            "ticks": "",
            "zerolinecolor": "white"
           },
           "zaxis": {
            "backgroundcolor": "#E5ECF6",
            "gridcolor": "white",
            "gridwidth": 2,
            "linecolor": "white",
            "showbackground": true,
            "ticks": "",
            "zerolinecolor": "white"
           }
          },
          "shapedefaults": {
           "line": {
            "color": "#2a3f5f"
           }
          },
          "ternary": {
           "aaxis": {
            "gridcolor": "white",
            "linecolor": "white",
            "ticks": ""
           },
           "baxis": {
            "gridcolor": "white",
            "linecolor": "white",
            "ticks": ""
           },
           "bgcolor": "#E5ECF6",
           "caxis": {
            "gridcolor": "white",
            "linecolor": "white",
            "ticks": ""
           }
          },
          "title": {
           "x": 0.05
          },
          "xaxis": {
           "automargin": true,
           "gridcolor": "white",
           "linecolor": "white",
           "ticks": "",
           "title": {
            "standoff": 15
           },
           "zerolinecolor": "white",
           "zerolinewidth": 2
          },
          "yaxis": {
           "automargin": true,
           "gridcolor": "white",
           "linecolor": "white",
           "ticks": "",
           "title": {
            "standoff": 15
           },
           "zerolinecolor": "white",
           "zerolinewidth": 2
          }
         }
        },
        "title": {
         "font": {
          "color": "#4D5663"
         }
        },
        "xaxis": {
         "anchor": "y",
         "domain": [
          0,
          0.2125
         ],
         "gridcolor": "#E1E5ED",
         "showgrid": false,
         "tickfont": {
          "color": "#4D5663"
         },
         "title": {
          "font": {
           "color": "#4D5663"
          },
          "text": ""
         },
         "zerolinecolor": "#E1E5ED"
        },
        "xaxis10": {
         "anchor": "y10",
         "domain": [
          0.2625,
          0.475
         ],
         "gridcolor": "#E1E5ED",
         "showgrid": false,
         "tickfont": {
          "color": "#4D5663"
         },
         "title": {
          "font": {
           "color": "#4D5663"
          },
          "text": ""
         },
         "zerolinecolor": "#E1E5ED"
        },
        "xaxis11": {
         "anchor": "y11",
         "domain": [
          0.525,
          0.7375
         ],
         "gridcolor": "#E1E5ED",
         "showgrid": false,
         "tickfont": {
          "color": "#4D5663"
         },
         "title": {
          "font": {
           "color": "#4D5663"
          },
          "text": ""
         },
         "zerolinecolor": "#E1E5ED"
        },
        "xaxis12": {
         "anchor": "y12",
         "domain": [
          0.7875,
          1
         ],
         "gridcolor": "#E1E5ED",
         "showgrid": false,
         "tickfont": {
          "color": "#4D5663"
         },
         "title": {
          "font": {
           "color": "#4D5663"
          },
          "text": ""
         },
         "zerolinecolor": "#E1E5ED"
        },
        "xaxis13": {
         "anchor": "y13",
         "domain": [
          0,
          0.2125
         ],
         "gridcolor": "#E1E5ED",
         "showgrid": false,
         "tickfont": {
          "color": "#4D5663"
         },
         "title": {
          "font": {
           "color": "#4D5663"
          },
          "text": ""
         },
         "zerolinecolor": "#E1E5ED"
        },
        "xaxis14": {
         "anchor": "y14",
         "domain": [
          0.2625,
          0.475
         ],
         "gridcolor": "#E1E5ED",
         "showgrid": false,
         "tickfont": {
          "color": "#4D5663"
         },
         "title": {
          "font": {
           "color": "#4D5663"
          },
          "text": ""
         },
         "zerolinecolor": "#E1E5ED"
        },
        "xaxis15": {
         "anchor": "y15",
         "domain": [
          0.525,
          0.7375
         ],
         "gridcolor": "#E1E5ED",
         "showgrid": false,
         "tickfont": {
          "color": "#4D5663"
         },
         "title": {
          "font": {
           "color": "#4D5663"
          },
          "text": ""
         },
         "zerolinecolor": "#E1E5ED"
        },
        "xaxis16": {
         "anchor": "y16",
         "domain": [
          0.7875,
          1
         ],
         "gridcolor": "#E1E5ED",
         "showgrid": false,
         "tickfont": {
          "color": "#4D5663"
         },
         "title": {
          "font": {
           "color": "#4D5663"
          },
          "text": ""
         },
         "zerolinecolor": "#E1E5ED"
        },
        "xaxis2": {
         "anchor": "y2",
         "domain": [
          0.2625,
          0.475
         ],
         "gridcolor": "#E1E5ED",
         "showgrid": false,
         "tickfont": {
          "color": "#4D5663"
         },
         "title": {
          "font": {
           "color": "#4D5663"
          },
          "text": ""
         },
         "zerolinecolor": "#E1E5ED"
        },
        "xaxis3": {
         "anchor": "y3",
         "domain": [
          0.525,
          0.7375
         ],
         "gridcolor": "#E1E5ED",
         "showgrid": false,
         "tickfont": {
          "color": "#4D5663"
         },
         "title": {
          "font": {
           "color": "#4D5663"
          },
          "text": ""
         },
         "zerolinecolor": "#E1E5ED"
        },
        "xaxis4": {
         "anchor": "y4",
         "domain": [
          0.7875,
          1
         ],
         "gridcolor": "#E1E5ED",
         "showgrid": false,
         "tickfont": {
          "color": "#4D5663"
         },
         "title": {
          "font": {
           "color": "#4D5663"
          },
          "text": ""
         },
         "zerolinecolor": "#E1E5ED"
        },
        "xaxis5": {
         "anchor": "y5",
         "domain": [
          0,
          0.2125
         ],
         "gridcolor": "#E1E5ED",
         "showgrid": false,
         "tickfont": {
          "color": "#4D5663"
         },
         "title": {
          "font": {
           "color": "#4D5663"
          },
          "text": ""
         },
         "zerolinecolor": "#E1E5ED"
        },
        "xaxis6": {
         "anchor": "y6",
         "domain": [
          0.2625,
          0.475
         ],
         "gridcolor": "#E1E5ED",
         "showgrid": false,
         "tickfont": {
          "color": "#4D5663"
         },
         "title": {
          "font": {
           "color": "#4D5663"
          },
          "text": ""
         },
         "zerolinecolor": "#E1E5ED"
        },
        "xaxis7": {
         "anchor": "y7",
         "domain": [
          0.525,
          0.7375
         ],
         "gridcolor": "#E1E5ED",
         "showgrid": false,
         "tickfont": {
          "color": "#4D5663"
         },
         "title": {
          "font": {
           "color": "#4D5663"
          },
          "text": ""
         },
         "zerolinecolor": "#E1E5ED"
        },
        "xaxis8": {
         "anchor": "y8",
         "domain": [
          0.7875,
          1
         ],
         "gridcolor": "#E1E5ED",
         "showgrid": false,
         "tickfont": {
          "color": "#4D5663"
         },
         "title": {
          "font": {
           "color": "#4D5663"
          },
          "text": ""
         },
         "zerolinecolor": "#E1E5ED"
        },
        "xaxis9": {
         "anchor": "y9",
         "domain": [
          0,
          0.2125
         ],
         "gridcolor": "#E1E5ED",
         "showgrid": false,
         "tickfont": {
          "color": "#4D5663"
         },
         "title": {
          "font": {
           "color": "#4D5663"
          },
          "text": ""
         },
         "zerolinecolor": "#E1E5ED"
        },
        "yaxis": {
         "anchor": "x",
         "domain": [
          0.8025,
          1
         ],
         "gridcolor": "#E1E5ED",
         "showgrid": false,
         "tickfont": {
          "color": "#4D5663"
         },
         "title": {
          "font": {
           "color": "#4D5663"
          },
          "text": ""
         },
         "zerolinecolor": "#E1E5ED"
        },
        "yaxis10": {
         "anchor": "x10",
         "domain": [
          0.2675,
          0.465
         ],
         "gridcolor": "#E1E5ED",
         "showgrid": false,
         "tickfont": {
          "color": "#4D5663"
         },
         "title": {
          "font": {
           "color": "#4D5663"
          },
          "text": ""
         },
         "zerolinecolor": "#E1E5ED"
        },
        "yaxis11": {
         "anchor": "x11",
         "domain": [
          0.2675,
          0.465
         ],
         "gridcolor": "#E1E5ED",
         "showgrid": false,
         "tickfont": {
          "color": "#4D5663"
         },
         "title": {
          "font": {
           "color": "#4D5663"
          },
          "text": ""
         },
         "zerolinecolor": "#E1E5ED"
        },
        "yaxis12": {
         "anchor": "x12",
         "domain": [
          0.2675,
          0.465
         ],
         "gridcolor": "#E1E5ED",
         "showgrid": false,
         "tickfont": {
          "color": "#4D5663"
         },
         "title": {
          "font": {
           "color": "#4D5663"
          },
          "text": ""
         },
         "zerolinecolor": "#E1E5ED"
        },
        "yaxis13": {
         "anchor": "x13",
         "domain": [
          0,
          0.1975
         ],
         "gridcolor": "#E1E5ED",
         "showgrid": false,
         "tickfont": {
          "color": "#4D5663"
         },
         "title": {
          "font": {
           "color": "#4D5663"
          },
          "text": ""
         },
         "zerolinecolor": "#E1E5ED"
        },
        "yaxis14": {
         "anchor": "x14",
         "domain": [
          0,
          0.1975
         ],
         "gridcolor": "#E1E5ED",
         "showgrid": false,
         "tickfont": {
          "color": "#4D5663"
         },
         "title": {
          "font": {
           "color": "#4D5663"
          },
          "text": ""
         },
         "zerolinecolor": "#E1E5ED"
        },
        "yaxis15": {
         "anchor": "x15",
         "domain": [
          0,
          0.1975
         ],
         "gridcolor": "#E1E5ED",
         "showgrid": false,
         "tickfont": {
          "color": "#4D5663"
         },
         "title": {
          "font": {
           "color": "#4D5663"
          },
          "text": ""
         },
         "zerolinecolor": "#E1E5ED"
        },
        "yaxis16": {
         "anchor": "x16",
         "domain": [
          0,
          0.1975
         ],
         "gridcolor": "#E1E5ED",
         "showgrid": false,
         "tickfont": {
          "color": "#4D5663"
         },
         "title": {
          "font": {
           "color": "#4D5663"
          },
          "text": ""
         },
         "zerolinecolor": "#E1E5ED"
        },
        "yaxis2": {
         "anchor": "x2",
         "domain": [
          0.8025,
          1
         ],
         "gridcolor": "#E1E5ED",
         "showgrid": false,
         "tickfont": {
          "color": "#4D5663"
         },
         "title": {
          "font": {
           "color": "#4D5663"
          },
          "text": ""
         },
         "zerolinecolor": "#E1E5ED"
        },
        "yaxis3": {
         "anchor": "x3",
         "domain": [
          0.8025,
          1
         ],
         "gridcolor": "#E1E5ED",
         "showgrid": false,
         "tickfont": {
          "color": "#4D5663"
         },
         "title": {
          "font": {
           "color": "#4D5663"
          },
          "text": ""
         },
         "zerolinecolor": "#E1E5ED"
        },
        "yaxis4": {
         "anchor": "x4",
         "domain": [
          0.8025,
          1
         ],
         "gridcolor": "#E1E5ED",
         "showgrid": false,
         "tickfont": {
          "color": "#4D5663"
         },
         "title": {
          "font": {
           "color": "#4D5663"
          },
          "text": ""
         },
         "zerolinecolor": "#E1E5ED"
        },
        "yaxis5": {
         "anchor": "x5",
         "domain": [
          0.535,
          0.7325
         ],
         "gridcolor": "#E1E5ED",
         "showgrid": false,
         "tickfont": {
          "color": "#4D5663"
         },
         "title": {
          "font": {
           "color": "#4D5663"
          },
          "text": ""
         },
         "zerolinecolor": "#E1E5ED"
        },
        "yaxis6": {
         "anchor": "x6",
         "domain": [
          0.535,
          0.7325
         ],
         "gridcolor": "#E1E5ED",
         "showgrid": false,
         "tickfont": {
          "color": "#4D5663"
         },
         "title": {
          "font": {
           "color": "#4D5663"
          },
          "text": ""
         },
         "zerolinecolor": "#E1E5ED"
        },
        "yaxis7": {
         "anchor": "x7",
         "domain": [
          0.535,
          0.7325
         ],
         "gridcolor": "#E1E5ED",
         "showgrid": false,
         "tickfont": {
          "color": "#4D5663"
         },
         "title": {
          "font": {
           "color": "#4D5663"
          },
          "text": ""
         },
         "zerolinecolor": "#E1E5ED"
        },
        "yaxis8": {
         "anchor": "x8",
         "domain": [
          0.535,
          0.7325
         ],
         "gridcolor": "#E1E5ED",
         "showgrid": false,
         "tickfont": {
          "color": "#4D5663"
         },
         "title": {
          "font": {
           "color": "#4D5663"
          },
          "text": ""
         },
         "zerolinecolor": "#E1E5ED"
        },
        "yaxis9": {
         "anchor": "x9",
         "domain": [
          0.2675,
          0.465
         ],
         "gridcolor": "#E1E5ED",
         "showgrid": false,
         "tickfont": {
          "color": "#4D5663"
         },
         "title": {
          "font": {
           "color": "#4D5663"
          },
          "text": ""
         },
         "zerolinecolor": "#E1E5ED"
        }
       }
      },
      "text/html": [
       "<div>\n",
       "        \n",
       "        \n",
       "            <div id=\"53dbfeea-7fe2-4f4a-9106-03b33027b97a\" class=\"plotly-graph-div\" style=\"height:525px; width:100%;\"></div>\n",
       "            <script type=\"text/javascript\">\n",
       "                require([\"plotly\"], function(Plotly) {\n",
       "                    window.PLOTLYENV=window.PLOTLYENV || {};\n",
       "                    window.PLOTLYENV.BASE_URL='https://plot.ly';\n",
       "                    \n",
       "                if (document.getElementById(\"53dbfeea-7fe2-4f4a-9106-03b33027b97a\")) {\n",
       "                    Plotly.newPlot(\n",
       "                        '53dbfeea-7fe2-4f4a-9106-03b33027b97a',\n",
       "                        [{\"histfunc\": \"count\", \"histnorm\": \"\", \"marker\": {\"color\": \"rgba(255, 153, 51, 1.0)\", \"line\": {\"color\": \"#4D5663\", \"width\": 1.3}}, \"name\": \"A\", \"nbinsx\": 10, \"opacity\": 0.8, \"orientation\": \"v\", \"type\": \"histogram\", \"x\": [0.7579622911456884, 0.5298454226070978, 0.8156101983220254, -0.9454582364645135, -0.857994402443206, -0.1670467591767333, -0.7888114020903332, -0.2673561619114749, 0.768216778986486, -0.8638176766596485, -0.33843709402835276, -0.8604248481790441, 0.9390817496511193, 0.4962486167366557, -0.342866720058513, 0.5321154951123271, 0.08364234862840773, -0.24420366347819594, -2.5470021690493523, 0.6501915875974441, 0.46105121143151684, -1.2696445490313397, -1.262321855935702, 0.020590837422995875, -1.962164958669862, 0.1520210913204685, -0.32979134502902163, 0.8401008377275386, -0.5082086655426916, 1.2528721120287196, -0.7153155037815715, 1.4064228445136355, 1.8710040626067423, 0.08757345444063647, 2.041319270677461, 2.8000560133663024, -1.370358468855292, -0.3060589595906979, 0.6755736191112913, 1.4407258504266733, -0.8107992432478025, 0.5914524531347799, 0.3879197499827318, -1.3226943138065599, 0.03095980363011386, 0.35388609090549306, -0.7106145582311015, -0.6995966631278421, -0.01780114613536176, -0.23550021237398164, -0.9927687863322747, -0.8554634929109388, -0.2216839561931747, 0.1935051205325323, -0.7550886779996621, -0.382930473573882, -0.4136431738112617, -0.15205974759545637, 0.7962233695209215, 0.7256432342089434, 0.24270585434026598, 0.13409859606010457, -0.556524193528626, 0.07633036965958356, 1.1366650674151044, 1.3415441140499602, 0.7084176532972084, -1.2865302555192233, -1.2527010973957653, 0.8756611197550394, 1.0631834319317377, 1.7277189454023956, 0.3458699972060742, -0.45699142615687494, 1.0790163639283334, -0.6944844785820669, -2.2895926431144096, 1.6323818820980218, -1.9706328705835687, -0.6145302262421422, 0.4150734969666682, 0.02447752685552582, 0.015341516547215574, 0.6524751897352478, 0.2162686415482492, 1.2238682829100826, -0.5594810022793774, -0.7721879879776039, 0.7677945424465574, -0.44711928380135374, 0.03485657417707869, 0.1766223676895384, 0.07374326243590695, -0.23580423331382155, -0.48565550121671947, -0.6542410195199967, 1.7015538622803354, 0.5314220872039849, 0.2363390667193305, -0.8387818864979736], \"xaxis\": \"x\", \"yaxis\": \"y\"}, {\"line\": {\"color\": \"rgba(128, 128, 128, 1.0)\", \"dash\": \"solid\", \"shape\": \"linear\", \"width\": 1.3}, \"marker\": {\"size\": 2, \"symbol\": \"circle\"}, \"mode\": \"markers\", \"name\": \"A\", \"text\": \"\", \"type\": \"scatter\", \"x\": [0.06410207357628032, 0.5988194682426909, -2.010053357011642, -1.534460534232777, -0.2838752137445895, -0.4364055158241752, -0.062107990124747985, 1.8291664069893194, 0.3370186963782379, -0.8571716626766643, -1.4897033440473515, -0.9773804107151556, -1.0218654610470015, 1.216188328057995, 0.36602873525868307, -0.04206253722866737, -0.504138977255192, 0.4470533561000257, 0.9649794948737593, 0.7058495957713538, -0.9465810738244804, -0.07371126955603383, 1.251547336133497, -2.0736322708642083, 0.11555978219945501, -0.03783614416341705, -0.2903697562225154, -1.088977341454986, -1.135312956502815, -0.17442341769300082, 0.5202635952394287, -0.24691452846276116, -0.13382915012237656, 0.48545297566592055, 0.41039449413774176, 0.28873263493280305, -0.8387595200674258, 2.4328000327798383, -0.18471578641497266, 0.32259728832814766, -0.982216085912374, -0.15068067141146987, 0.24049749962091524, 0.4419380863991527, 1.815418420087622, -1.1486655540832191, 0.8238794399772241, -0.21805122145673023, 0.8695259754966412, 0.0846709805993985, -0.5056779659883797, -0.5481037070327525, -0.46466581623716674, 0.9225448772117156, -1.4662409750216734, -0.1999400856400257, -0.8115108172583112, 0.12397852989218443, 0.56609204715325, 0.3351988818461227, 1.0637178967303107, 1.6526894878378782, -1.4790950118066495, -0.10261674802653346, -0.2956729083237752, -0.18748856240961745, 2.180420918749399, 0.41207565810024677, 0.4993117779200552, 0.9484337358875686, 1.817708891978699, -1.367547056288455, -0.4222795209346398, 0.8705762012391222, -0.33026278521437336, 0.3320445392395583, -1.5826633681260793, -0.4634439124069925, 0.022534344142100184, 0.05393478756544293, -0.45314670894281395, -0.5856801775867423, 0.4040232286668457, 0.9457127648011665, 0.53827141480434, 0.2597206638247671, 0.4418659169631524, 0.5464618225133375, 0.46339910791145505, 1.9180711403866888, -0.5848582990423815, 0.34536446975354557, 1.136277596261647, 0.967248891045694, -1.359893659316058, 0.9586041241102193, -1.082722915105749, -1.5170273973065584, -0.3113640177319824, -0.6227757285501787], \"xaxis\": \"x2\", \"y\": [0.7579622911456884, 0.5298454226070978, 0.8156101983220254, -0.9454582364645135, -0.857994402443206, -0.1670467591767333, -0.7888114020903332, -0.2673561619114749, 0.768216778986486, -0.8638176766596485, -0.33843709402835276, -0.8604248481790441, 0.9390817496511193, 0.4962486167366557, -0.342866720058513, 0.5321154951123271, 0.08364234862840773, -0.24420366347819594, -2.5470021690493523, 0.6501915875974441, 0.46105121143151684, -1.2696445490313397, -1.262321855935702, 0.020590837422995875, -1.962164958669862, 0.1520210913204685, -0.32979134502902163, 0.8401008377275386, -0.5082086655426916, 1.2528721120287196, -0.7153155037815715, 1.4064228445136355, 1.8710040626067423, 0.08757345444063647, 2.041319270677461, 2.8000560133663024, -1.370358468855292, -0.3060589595906979, 0.6755736191112913, 1.4407258504266733, -0.8107992432478025, 0.5914524531347799, 0.3879197499827318, -1.3226943138065599, 0.03095980363011386, 0.35388609090549306, -0.7106145582311015, -0.6995966631278421, -0.01780114613536176, -0.23550021237398164, -0.9927687863322747, -0.8554634929109388, -0.2216839561931747, 0.1935051205325323, -0.7550886779996621, -0.382930473573882, -0.4136431738112617, -0.15205974759545637, 0.7962233695209215, 0.7256432342089434, 0.24270585434026598, 0.13409859606010457, -0.556524193528626, 0.07633036965958356, 1.1366650674151044, 1.3415441140499602, 0.7084176532972084, -1.2865302555192233, -1.2527010973957653, 0.8756611197550394, 1.0631834319317377, 1.7277189454023956, 0.3458699972060742, -0.45699142615687494, 1.0790163639283334, -0.6944844785820669, -2.2895926431144096, 1.6323818820980218, -1.9706328705835687, -0.6145302262421422, 0.4150734969666682, 0.02447752685552582, 0.015341516547215574, 0.6524751897352478, 0.2162686415482492, 1.2238682829100826, -0.5594810022793774, -0.7721879879776039, 0.7677945424465574, -0.44711928380135374, 0.03485657417707869, 0.1766223676895384, 0.07374326243590695, -0.23580423331382155, -0.48565550121671947, -0.6542410195199967, 1.7015538622803354, 0.5314220872039849, 0.2363390667193305, -0.8387818864979736], \"yaxis\": \"y2\"}, {\"line\": {\"color\": \"rgba(128, 128, 128, 1.0)\", \"dash\": \"solid\", \"shape\": \"linear\", \"width\": 1.3}, \"marker\": {\"size\": 2, \"symbol\": \"circle\"}, \"mode\": \"markers\", \"name\": \"A\", \"text\": \"\", \"type\": \"scatter\", \"x\": [1.0020217535640417, -1.0709120713481004, -0.9936119101433717, -2.533599147151511, -2.314731661644817, -0.544402046158424, -1.7989800241411678, 0.782483626643164, 0.13771380729408503, -0.26912837208801016, 2.376414403900346, 0.5630644851976623, -2.1042265727699636, -1.814687339800105, 1.6342206394532424, 0.5975342196859066, -0.2377697619797907, -1.1473526722044125, -0.11183148774247341, -0.8718362484157849, -1.7467408368798731, -1.42620331293831, -0.8044090441282832, 0.41352269122290825, 0.3284449570478143, -1.4167401024679986, -0.7643157819784241, -1.2326215055186183, -1.7979419959605787, 0.18341159576582408, -1.024872977256669, 0.6716464612752306, 0.2680784160141836, 0.8307992566454814, -0.07432723810707276, -0.2795250124047079, -0.4513367033485977, -0.2636098717629078, 1.3409219089641207, -0.5905212614700776, -0.06921772193076348, 1.6380554963056684, 0.8363366001738519, -2.056243778451678, 0.5867692902761166, -0.0342123572857976, -1.5997378200220695, -0.10004504410348357, 0.5288484923051605, 0.990455013134741, -1.0790887516075034, -0.5971327615660645, 0.29358119256651444, -0.4212318061740513, 0.11691410793563538, -0.8008819526632075, -1.5290749083465076, 0.1772883701941325, -0.01688038887791492, -0.021923467828441658, -1.4967190792096503, 0.15150510466376751, 0.6693772939887973, -0.16311216022659247, 0.38309674492611456, 0.43497750900171456, 0.3476226555561386, 1.5627156094985022, 0.1843061100316847, 1.421765577191801, -1.1114120860662586, -0.5927862115109154, 0.12615601309565674, 0.4959556950701397, -1.7347434755358349, -2.556510164146063, 0.521765841402743, 0.5852910412090544, -1.2462232446635684, 0.5337386968554741, 0.4973018897679892, -1.2526723107502338, -0.16303511988251154, 0.6054280618381143, 0.8720190318129162, -0.2078281720118378, 0.5926952471378346, 1.0528280096730862, 0.05078172862308404, -1.664825338290475, -1.0103263398425255, -0.5982748521452806, -0.2710988445712092, -0.06659147592753269, 0.12940752835322614, -0.5725834593883529, -0.8959167846179494, -0.8404684746152375, 0.1770863263793589, 0.9550700432506805], \"xaxis\": \"x3\", \"y\": [0.7579622911456884, 0.5298454226070978, 0.8156101983220254, -0.9454582364645135, -0.857994402443206, -0.1670467591767333, -0.7888114020903332, -0.2673561619114749, 0.768216778986486, -0.8638176766596485, -0.33843709402835276, -0.8604248481790441, 0.9390817496511193, 0.4962486167366557, -0.342866720058513, 0.5321154951123271, 0.08364234862840773, -0.24420366347819594, -2.5470021690493523, 0.6501915875974441, 0.46105121143151684, -1.2696445490313397, -1.262321855935702, 0.020590837422995875, -1.962164958669862, 0.1520210913204685, -0.32979134502902163, 0.8401008377275386, -0.5082086655426916, 1.2528721120287196, -0.7153155037815715, 1.4064228445136355, 1.8710040626067423, 0.08757345444063647, 2.041319270677461, 2.8000560133663024, -1.370358468855292, -0.3060589595906979, 0.6755736191112913, 1.4407258504266733, -0.8107992432478025, 0.5914524531347799, 0.3879197499827318, -1.3226943138065599, 0.03095980363011386, 0.35388609090549306, -0.7106145582311015, -0.6995966631278421, -0.01780114613536176, -0.23550021237398164, -0.9927687863322747, -0.8554634929109388, -0.2216839561931747, 0.1935051205325323, -0.7550886779996621, -0.382930473573882, -0.4136431738112617, -0.15205974759545637, 0.7962233695209215, 0.7256432342089434, 0.24270585434026598, 0.13409859606010457, -0.556524193528626, 0.07633036965958356, 1.1366650674151044, 1.3415441140499602, 0.7084176532972084, -1.2865302555192233, -1.2527010973957653, 0.8756611197550394, 1.0631834319317377, 1.7277189454023956, 0.3458699972060742, -0.45699142615687494, 1.0790163639283334, -0.6944844785820669, -2.2895926431144096, 1.6323818820980218, -1.9706328705835687, -0.6145302262421422, 0.4150734969666682, 0.02447752685552582, 0.015341516547215574, 0.6524751897352478, 0.2162686415482492, 1.2238682829100826, -0.5594810022793774, -0.7721879879776039, 0.7677945424465574, -0.44711928380135374, 0.03485657417707869, 0.1766223676895384, 0.07374326243590695, -0.23580423331382155, -0.48565550121671947, -0.6542410195199967, 1.7015538622803354, 0.5314220872039849, 0.2363390667193305, -0.8387818864979736], \"yaxis\": \"y3\"}, {\"line\": {\"color\": \"rgba(128, 128, 128, 1.0)\", \"dash\": \"solid\", \"shape\": \"linear\", \"width\": 1.3}, \"marker\": {\"size\": 2, \"symbol\": \"circle\"}, \"mode\": \"markers\", \"name\": \"A\", \"text\": \"\", \"type\": \"scatter\", \"x\": [0.5016469424237546, 1.5461024256449314, -1.515430754935001, -1.1969819308460552, -1.2821642556303274, -1.32607419862964, 1.1137171683997595, 0.859272126095684, 0.6344480101234863, -0.11559713090033623, 1.0718084014591502, 0.1742840101142203, 0.5166855879361155, -1.0854229221430316, -0.03447866308128951, 0.15517061967063442, -0.7894475900868732, 0.09543617935624944, 0.45177180906632064, 1.1696101468824083, -0.043311890707100204, 1.6571427473565212, 0.5280278445921563, 0.6810963828489841, 0.2977891259733895, 0.22201272375753953, -0.679094912710526, -0.6195440193043447, 0.05728074218985923, -0.397444325243679, -0.2449987392414877, 0.3238536498124585, 0.0999947297956345, -0.8953409899852637, 0.7600318497834284, 0.574035987683394, 0.5971309921650964, -1.2601874144644434, 0.7236021641690927, -0.15456900240201948, 1.4538526363842077, 1.392198528988188, 0.6564149972780509, -0.5132348326197187, -1.116673228056018, -1.1107777598305526, 0.6994675470009029, 0.49418020709582305, 1.0349694423443077, -0.016580139292874982, 0.5189493193632874, 0.6938238472257998, -0.10657124752182924, -0.5301476147096458, 1.0263088421721898, -0.21130004661452512, -1.5642104552995117, 0.8019741574064435, -0.36053228022800216, -0.7944734793899005, 0.07260524925412559, 1.1185794889521081, 0.335167755073714, -1.3994871996451526, 0.22895292192646716, -1.1047814869104593, -1.6535105624892523, -1.1736268694370566, 0.3055282790395455, 1.0602541941979597, 0.8770400352815519, -0.5052684856558837, 1.1170447163533912, 2.210214604865789, -0.9985161080562468, 0.27359228831567, 0.06261800881342981, 1.020912023869562, -0.6003812064685073, 0.4762040336398097, 0.45551139867643964, 1.5541884069075995, 0.9575096687638155, 0.2679021455665988, -1.8562107587464431, 1.130377156623166, -1.5212369356068927, -2.348287045662786, 1.8044560570029817, -1.5433729564647345, -0.31206469620866883, -0.7571601929739846, 0.7761959199474827, 0.6314116816461985, -1.776462206095515, 0.47288058865943794, 1.1297379468895679, -0.9677644478589714, 0.23234322578701186, -1.5242511690132388], \"xaxis\": \"x4\", \"y\": [0.7579622911456884, 0.5298454226070978, 0.8156101983220254, -0.9454582364645135, -0.857994402443206, -0.1670467591767333, -0.7888114020903332, -0.2673561619114749, 0.768216778986486, -0.8638176766596485, -0.33843709402835276, -0.8604248481790441, 0.9390817496511193, 0.4962486167366557, -0.342866720058513, 0.5321154951123271, 0.08364234862840773, -0.24420366347819594, -2.5470021690493523, 0.6501915875974441, 0.46105121143151684, -1.2696445490313397, -1.262321855935702, 0.020590837422995875, -1.962164958669862, 0.1520210913204685, -0.32979134502902163, 0.8401008377275386, -0.5082086655426916, 1.2528721120287196, -0.7153155037815715, 1.4064228445136355, 1.8710040626067423, 0.08757345444063647, 2.041319270677461, 2.8000560133663024, -1.370358468855292, -0.3060589595906979, 0.6755736191112913, 1.4407258504266733, -0.8107992432478025, 0.5914524531347799, 0.3879197499827318, -1.3226943138065599, 0.03095980363011386, 0.35388609090549306, -0.7106145582311015, -0.6995966631278421, -0.01780114613536176, -0.23550021237398164, -0.9927687863322747, -0.8554634929109388, -0.2216839561931747, 0.1935051205325323, -0.7550886779996621, -0.382930473573882, -0.4136431738112617, -0.15205974759545637, 0.7962233695209215, 0.7256432342089434, 0.24270585434026598, 0.13409859606010457, -0.556524193528626, 0.07633036965958356, 1.1366650674151044, 1.3415441140499602, 0.7084176532972084, -1.2865302555192233, -1.2527010973957653, 0.8756611197550394, 1.0631834319317377, 1.7277189454023956, 0.3458699972060742, -0.45699142615687494, 1.0790163639283334, -0.6944844785820669, -2.2895926431144096, 1.6323818820980218, -1.9706328705835687, -0.6145302262421422, 0.4150734969666682, 0.02447752685552582, 0.015341516547215574, 0.6524751897352478, 0.2162686415482492, 1.2238682829100826, -0.5594810022793774, -0.7721879879776039, 0.7677945424465574, -0.44711928380135374, 0.03485657417707869, 0.1766223676895384, 0.07374326243590695, -0.23580423331382155, -0.48565550121671947, -0.6542410195199967, 1.7015538622803354, 0.5314220872039849, 0.2363390667193305, -0.8387818864979736], \"yaxis\": \"y4\"}, {\"line\": {\"color\": \"rgba(128, 128, 128, 1.0)\", \"dash\": \"solid\", \"shape\": \"linear\", \"width\": 1.3}, \"marker\": {\"size\": 2, \"symbol\": \"circle\"}, \"mode\": \"markers\", \"name\": \"B\", \"text\": \"\", \"type\": \"scatter\", \"x\": [0.7579622911456884, 0.5298454226070978, 0.8156101983220254, -0.9454582364645135, -0.857994402443206, -0.1670467591767333, -0.7888114020903332, -0.2673561619114749, 0.768216778986486, -0.8638176766596485, -0.33843709402835276, -0.8604248481790441, 0.9390817496511193, 0.4962486167366557, -0.342866720058513, 0.5321154951123271, 0.08364234862840773, -0.24420366347819594, -2.5470021690493523, 0.6501915875974441, 0.46105121143151684, -1.2696445490313397, -1.262321855935702, 0.020590837422995875, -1.962164958669862, 0.1520210913204685, -0.32979134502902163, 0.8401008377275386, -0.5082086655426916, 1.2528721120287196, -0.7153155037815715, 1.4064228445136355, 1.8710040626067423, 0.08757345444063647, 2.041319270677461, 2.8000560133663024, -1.370358468855292, -0.3060589595906979, 0.6755736191112913, 1.4407258504266733, -0.8107992432478025, 0.5914524531347799, 0.3879197499827318, -1.3226943138065599, 0.03095980363011386, 0.35388609090549306, -0.7106145582311015, -0.6995966631278421, -0.01780114613536176, -0.23550021237398164, -0.9927687863322747, -0.8554634929109388, -0.2216839561931747, 0.1935051205325323, -0.7550886779996621, -0.382930473573882, -0.4136431738112617, -0.15205974759545637, 0.7962233695209215, 0.7256432342089434, 0.24270585434026598, 0.13409859606010457, -0.556524193528626, 0.07633036965958356, 1.1366650674151044, 1.3415441140499602, 0.7084176532972084, -1.2865302555192233, -1.2527010973957653, 0.8756611197550394, 1.0631834319317377, 1.7277189454023956, 0.3458699972060742, -0.45699142615687494, 1.0790163639283334, -0.6944844785820669, -2.2895926431144096, 1.6323818820980218, -1.9706328705835687, -0.6145302262421422, 0.4150734969666682, 0.02447752685552582, 0.015341516547215574, 0.6524751897352478, 0.2162686415482492, 1.2238682829100826, -0.5594810022793774, -0.7721879879776039, 0.7677945424465574, -0.44711928380135374, 0.03485657417707869, 0.1766223676895384, 0.07374326243590695, -0.23580423331382155, -0.48565550121671947, -0.6542410195199967, 1.7015538622803354, 0.5314220872039849, 0.2363390667193305, -0.8387818864979736], \"xaxis\": \"x5\", \"y\": [0.06410207357628032, 0.5988194682426909, -2.010053357011642, -1.534460534232777, -0.2838752137445895, -0.4364055158241752, -0.062107990124747985, 1.8291664069893194, 0.3370186963782379, -0.8571716626766643, -1.4897033440473515, -0.9773804107151556, -1.0218654610470015, 1.216188328057995, 0.36602873525868307, -0.04206253722866737, -0.504138977255192, 0.4470533561000257, 0.9649794948737593, 0.7058495957713538, -0.9465810738244804, -0.07371126955603383, 1.251547336133497, -2.0736322708642083, 0.11555978219945501, -0.03783614416341705, -0.2903697562225154, -1.088977341454986, -1.135312956502815, -0.17442341769300082, 0.5202635952394287, -0.24691452846276116, -0.13382915012237656, 0.48545297566592055, 0.41039449413774176, 0.28873263493280305, -0.8387595200674258, 2.4328000327798383, -0.18471578641497266, 0.32259728832814766, -0.982216085912374, -0.15068067141146987, 0.24049749962091524, 0.4419380863991527, 1.815418420087622, -1.1486655540832191, 0.8238794399772241, -0.21805122145673023, 0.8695259754966412, 0.0846709805993985, -0.5056779659883797, -0.5481037070327525, -0.46466581623716674, 0.9225448772117156, -1.4662409750216734, -0.1999400856400257, -0.8115108172583112, 0.12397852989218443, 0.56609204715325, 0.3351988818461227, 1.0637178967303107, 1.6526894878378782, -1.4790950118066495, -0.10261674802653346, -0.2956729083237752, -0.18748856240961745, 2.180420918749399, 0.41207565810024677, 0.4993117779200552, 0.9484337358875686, 1.817708891978699, -1.367547056288455, -0.4222795209346398, 0.8705762012391222, -0.33026278521437336, 0.3320445392395583, -1.5826633681260793, -0.4634439124069925, 0.022534344142100184, 0.05393478756544293, -0.45314670894281395, -0.5856801775867423, 0.4040232286668457, 0.9457127648011665, 0.53827141480434, 0.2597206638247671, 0.4418659169631524, 0.5464618225133375, 0.46339910791145505, 1.9180711403866888, -0.5848582990423815, 0.34536446975354557, 1.136277596261647, 0.967248891045694, -1.359893659316058, 0.9586041241102193, -1.082722915105749, -1.5170273973065584, -0.3113640177319824, -0.6227757285501787], \"yaxis\": \"y5\"}, {\"histfunc\": \"count\", \"histnorm\": \"\", \"marker\": {\"color\": \"rgba(55, 128, 191, 1.0)\", \"line\": {\"color\": \"#4D5663\", \"width\": 1.3}}, \"name\": \"B\", \"nbinsx\": 10, \"opacity\": 0.8, \"orientation\": \"v\", \"type\": \"histogram\", \"x\": [0.06410207357628032, 0.5988194682426909, -2.010053357011642, -1.534460534232777, -0.2838752137445895, -0.4364055158241752, -0.062107990124747985, 1.8291664069893194, 0.3370186963782379, -0.8571716626766643, -1.4897033440473515, -0.9773804107151556, -1.0218654610470015, 1.216188328057995, 0.36602873525868307, -0.04206253722866737, -0.504138977255192, 0.4470533561000257, 0.9649794948737593, 0.7058495957713538, -0.9465810738244804, -0.07371126955603383, 1.251547336133497, -2.0736322708642083, 0.11555978219945501, -0.03783614416341705, -0.2903697562225154, -1.088977341454986, -1.135312956502815, -0.17442341769300082, 0.5202635952394287, -0.24691452846276116, -0.13382915012237656, 0.48545297566592055, 0.41039449413774176, 0.28873263493280305, -0.8387595200674258, 2.4328000327798383, -0.18471578641497266, 0.32259728832814766, -0.982216085912374, -0.15068067141146987, 0.24049749962091524, 0.4419380863991527, 1.815418420087622, -1.1486655540832191, 0.8238794399772241, -0.21805122145673023, 0.8695259754966412, 0.0846709805993985, -0.5056779659883797, -0.5481037070327525, -0.46466581623716674, 0.9225448772117156, -1.4662409750216734, -0.1999400856400257, -0.8115108172583112, 0.12397852989218443, 0.56609204715325, 0.3351988818461227, 1.0637178967303107, 1.6526894878378782, -1.4790950118066495, -0.10261674802653346, -0.2956729083237752, -0.18748856240961745, 2.180420918749399, 0.41207565810024677, 0.4993117779200552, 0.9484337358875686, 1.817708891978699, -1.367547056288455, -0.4222795209346398, 0.8705762012391222, -0.33026278521437336, 0.3320445392395583, -1.5826633681260793, -0.4634439124069925, 0.022534344142100184, 0.05393478756544293, -0.45314670894281395, -0.5856801775867423, 0.4040232286668457, 0.9457127648011665, 0.53827141480434, 0.2597206638247671, 0.4418659169631524, 0.5464618225133375, 0.46339910791145505, 1.9180711403866888, -0.5848582990423815, 0.34536446975354557, 1.136277596261647, 0.967248891045694, -1.359893659316058, 0.9586041241102193, -1.082722915105749, -1.5170273973065584, -0.3113640177319824, -0.6227757285501787], \"xaxis\": \"x6\", \"yaxis\": \"y6\"}, {\"line\": {\"color\": \"rgba(128, 128, 128, 1.0)\", \"dash\": \"solid\", \"shape\": \"linear\", \"width\": 1.3}, \"marker\": {\"size\": 2, \"symbol\": \"circle\"}, \"mode\": \"markers\", \"name\": \"B\", \"text\": \"\", \"type\": \"scatter\", \"x\": [1.0020217535640417, -1.0709120713481004, -0.9936119101433717, -2.533599147151511, -2.314731661644817, -0.544402046158424, -1.7989800241411678, 0.782483626643164, 0.13771380729408503, -0.26912837208801016, 2.376414403900346, 0.5630644851976623, -2.1042265727699636, -1.814687339800105, 1.6342206394532424, 0.5975342196859066, -0.2377697619797907, -1.1473526722044125, -0.11183148774247341, -0.8718362484157849, -1.7467408368798731, -1.42620331293831, -0.8044090441282832, 0.41352269122290825, 0.3284449570478143, -1.4167401024679986, -0.7643157819784241, -1.2326215055186183, -1.7979419959605787, 0.18341159576582408, -1.024872977256669, 0.6716464612752306, 0.2680784160141836, 0.8307992566454814, -0.07432723810707276, -0.2795250124047079, -0.4513367033485977, -0.2636098717629078, 1.3409219089641207, -0.5905212614700776, -0.06921772193076348, 1.6380554963056684, 0.8363366001738519, -2.056243778451678, 0.5867692902761166, -0.0342123572857976, -1.5997378200220695, -0.10004504410348357, 0.5288484923051605, 0.990455013134741, -1.0790887516075034, -0.5971327615660645, 0.29358119256651444, -0.4212318061740513, 0.11691410793563538, -0.8008819526632075, -1.5290749083465076, 0.1772883701941325, -0.01688038887791492, -0.021923467828441658, -1.4967190792096503, 0.15150510466376751, 0.6693772939887973, -0.16311216022659247, 0.38309674492611456, 0.43497750900171456, 0.3476226555561386, 1.5627156094985022, 0.1843061100316847, 1.421765577191801, -1.1114120860662586, -0.5927862115109154, 0.12615601309565674, 0.4959556950701397, -1.7347434755358349, -2.556510164146063, 0.521765841402743, 0.5852910412090544, -1.2462232446635684, 0.5337386968554741, 0.4973018897679892, -1.2526723107502338, -0.16303511988251154, 0.6054280618381143, 0.8720190318129162, -0.2078281720118378, 0.5926952471378346, 1.0528280096730862, 0.05078172862308404, -1.664825338290475, -1.0103263398425255, -0.5982748521452806, -0.2710988445712092, -0.06659147592753269, 0.12940752835322614, -0.5725834593883529, -0.8959167846179494, -0.8404684746152375, 0.1770863263793589, 0.9550700432506805], \"xaxis\": \"x7\", \"y\": [0.06410207357628032, 0.5988194682426909, -2.010053357011642, -1.534460534232777, -0.2838752137445895, -0.4364055158241752, -0.062107990124747985, 1.8291664069893194, 0.3370186963782379, -0.8571716626766643, -1.4897033440473515, -0.9773804107151556, -1.0218654610470015, 1.216188328057995, 0.36602873525868307, -0.04206253722866737, -0.504138977255192, 0.4470533561000257, 0.9649794948737593, 0.7058495957713538, -0.9465810738244804, -0.07371126955603383, 1.251547336133497, -2.0736322708642083, 0.11555978219945501, -0.03783614416341705, -0.2903697562225154, -1.088977341454986, -1.135312956502815, -0.17442341769300082, 0.5202635952394287, -0.24691452846276116, -0.13382915012237656, 0.48545297566592055, 0.41039449413774176, 0.28873263493280305, -0.8387595200674258, 2.4328000327798383, -0.18471578641497266, 0.32259728832814766, -0.982216085912374, -0.15068067141146987, 0.24049749962091524, 0.4419380863991527, 1.815418420087622, -1.1486655540832191, 0.8238794399772241, -0.21805122145673023, 0.8695259754966412, 0.0846709805993985, -0.5056779659883797, -0.5481037070327525, -0.46466581623716674, 0.9225448772117156, -1.4662409750216734, -0.1999400856400257, -0.8115108172583112, 0.12397852989218443, 0.56609204715325, 0.3351988818461227, 1.0637178967303107, 1.6526894878378782, -1.4790950118066495, -0.10261674802653346, -0.2956729083237752, -0.18748856240961745, 2.180420918749399, 0.41207565810024677, 0.4993117779200552, 0.9484337358875686, 1.817708891978699, -1.367547056288455, -0.4222795209346398, 0.8705762012391222, -0.33026278521437336, 0.3320445392395583, -1.5826633681260793, -0.4634439124069925, 0.022534344142100184, 0.05393478756544293, -0.45314670894281395, -0.5856801775867423, 0.4040232286668457, 0.9457127648011665, 0.53827141480434, 0.2597206638247671, 0.4418659169631524, 0.5464618225133375, 0.46339910791145505, 1.9180711403866888, -0.5848582990423815, 0.34536446975354557, 1.136277596261647, 0.967248891045694, -1.359893659316058, 0.9586041241102193, -1.082722915105749, -1.5170273973065584, -0.3113640177319824, -0.6227757285501787], \"yaxis\": \"y7\"}, {\"line\": {\"color\": \"rgba(128, 128, 128, 1.0)\", \"dash\": \"solid\", \"shape\": \"linear\", \"width\": 1.3}, \"marker\": {\"size\": 2, \"symbol\": \"circle\"}, \"mode\": \"markers\", \"name\": \"B\", \"text\": \"\", \"type\": \"scatter\", \"x\": [0.5016469424237546, 1.5461024256449314, -1.515430754935001, -1.1969819308460552, -1.2821642556303274, -1.32607419862964, 1.1137171683997595, 0.859272126095684, 0.6344480101234863, -0.11559713090033623, 1.0718084014591502, 0.1742840101142203, 0.5166855879361155, -1.0854229221430316, -0.03447866308128951, 0.15517061967063442, -0.7894475900868732, 0.09543617935624944, 0.45177180906632064, 1.1696101468824083, -0.043311890707100204, 1.6571427473565212, 0.5280278445921563, 0.6810963828489841, 0.2977891259733895, 0.22201272375753953, -0.679094912710526, -0.6195440193043447, 0.05728074218985923, -0.397444325243679, -0.2449987392414877, 0.3238536498124585, 0.0999947297956345, -0.8953409899852637, 0.7600318497834284, 0.574035987683394, 0.5971309921650964, -1.2601874144644434, 0.7236021641690927, -0.15456900240201948, 1.4538526363842077, 1.392198528988188, 0.6564149972780509, -0.5132348326197187, -1.116673228056018, -1.1107777598305526, 0.6994675470009029, 0.49418020709582305, 1.0349694423443077, -0.016580139292874982, 0.5189493193632874, 0.6938238472257998, -0.10657124752182924, -0.5301476147096458, 1.0263088421721898, -0.21130004661452512, -1.5642104552995117, 0.8019741574064435, -0.36053228022800216, -0.7944734793899005, 0.07260524925412559, 1.1185794889521081, 0.335167755073714, -1.3994871996451526, 0.22895292192646716, -1.1047814869104593, -1.6535105624892523, -1.1736268694370566, 0.3055282790395455, 1.0602541941979597, 0.8770400352815519, -0.5052684856558837, 1.1170447163533912, 2.210214604865789, -0.9985161080562468, 0.27359228831567, 0.06261800881342981, 1.020912023869562, -0.6003812064685073, 0.4762040336398097, 0.45551139867643964, 1.5541884069075995, 0.9575096687638155, 0.2679021455665988, -1.8562107587464431, 1.130377156623166, -1.5212369356068927, -2.348287045662786, 1.8044560570029817, -1.5433729564647345, -0.31206469620866883, -0.7571601929739846, 0.7761959199474827, 0.6314116816461985, -1.776462206095515, 0.47288058865943794, 1.1297379468895679, -0.9677644478589714, 0.23234322578701186, -1.5242511690132388], \"xaxis\": \"x8\", \"y\": [0.06410207357628032, 0.5988194682426909, -2.010053357011642, -1.534460534232777, -0.2838752137445895, -0.4364055158241752, -0.062107990124747985, 1.8291664069893194, 0.3370186963782379, -0.8571716626766643, -1.4897033440473515, -0.9773804107151556, -1.0218654610470015, 1.216188328057995, 0.36602873525868307, -0.04206253722866737, -0.504138977255192, 0.4470533561000257, 0.9649794948737593, 0.7058495957713538, -0.9465810738244804, -0.07371126955603383, 1.251547336133497, -2.0736322708642083, 0.11555978219945501, -0.03783614416341705, -0.2903697562225154, -1.088977341454986, -1.135312956502815, -0.17442341769300082, 0.5202635952394287, -0.24691452846276116, -0.13382915012237656, 0.48545297566592055, 0.41039449413774176, 0.28873263493280305, -0.8387595200674258, 2.4328000327798383, -0.18471578641497266, 0.32259728832814766, -0.982216085912374, -0.15068067141146987, 0.24049749962091524, 0.4419380863991527, 1.815418420087622, -1.1486655540832191, 0.8238794399772241, -0.21805122145673023, 0.8695259754966412, 0.0846709805993985, -0.5056779659883797, -0.5481037070327525, -0.46466581623716674, 0.9225448772117156, -1.4662409750216734, -0.1999400856400257, -0.8115108172583112, 0.12397852989218443, 0.56609204715325, 0.3351988818461227, 1.0637178967303107, 1.6526894878378782, -1.4790950118066495, -0.10261674802653346, -0.2956729083237752, -0.18748856240961745, 2.180420918749399, 0.41207565810024677, 0.4993117779200552, 0.9484337358875686, 1.817708891978699, -1.367547056288455, -0.4222795209346398, 0.8705762012391222, -0.33026278521437336, 0.3320445392395583, -1.5826633681260793, -0.4634439124069925, 0.022534344142100184, 0.05393478756544293, -0.45314670894281395, -0.5856801775867423, 0.4040232286668457, 0.9457127648011665, 0.53827141480434, 0.2597206638247671, 0.4418659169631524, 0.5464618225133375, 0.46339910791145505, 1.9180711403866888, -0.5848582990423815, 0.34536446975354557, 1.136277596261647, 0.967248891045694, -1.359893659316058, 0.9586041241102193, -1.082722915105749, -1.5170273973065584, -0.3113640177319824, -0.6227757285501787], \"yaxis\": \"y8\"}, {\"line\": {\"color\": \"rgba(128, 128, 128, 1.0)\", \"dash\": \"solid\", \"shape\": \"linear\", \"width\": 1.3}, \"marker\": {\"size\": 2, \"symbol\": \"circle\"}, \"mode\": \"markers\", \"name\": \"C\", \"text\": \"\", \"type\": \"scatter\", \"x\": [0.7579622911456884, 0.5298454226070978, 0.8156101983220254, -0.9454582364645135, -0.857994402443206, -0.1670467591767333, -0.7888114020903332, -0.2673561619114749, 0.768216778986486, -0.8638176766596485, -0.33843709402835276, -0.8604248481790441, 0.9390817496511193, 0.4962486167366557, -0.342866720058513, 0.5321154951123271, 0.08364234862840773, -0.24420366347819594, -2.5470021690493523, 0.6501915875974441, 0.46105121143151684, -1.2696445490313397, -1.262321855935702, 0.020590837422995875, -1.962164958669862, 0.1520210913204685, -0.32979134502902163, 0.8401008377275386, -0.5082086655426916, 1.2528721120287196, -0.7153155037815715, 1.4064228445136355, 1.8710040626067423, 0.08757345444063647, 2.041319270677461, 2.8000560133663024, -1.370358468855292, -0.3060589595906979, 0.6755736191112913, 1.4407258504266733, -0.8107992432478025, 0.5914524531347799, 0.3879197499827318, -1.3226943138065599, 0.03095980363011386, 0.35388609090549306, -0.7106145582311015, -0.6995966631278421, -0.01780114613536176, -0.23550021237398164, -0.9927687863322747, -0.8554634929109388, -0.2216839561931747, 0.1935051205325323, -0.7550886779996621, -0.382930473573882, -0.4136431738112617, -0.15205974759545637, 0.7962233695209215, 0.7256432342089434, 0.24270585434026598, 0.13409859606010457, -0.556524193528626, 0.07633036965958356, 1.1366650674151044, 1.3415441140499602, 0.7084176532972084, -1.2865302555192233, -1.2527010973957653, 0.8756611197550394, 1.0631834319317377, 1.7277189454023956, 0.3458699972060742, -0.45699142615687494, 1.0790163639283334, -0.6944844785820669, -2.2895926431144096, 1.6323818820980218, -1.9706328705835687, -0.6145302262421422, 0.4150734969666682, 0.02447752685552582, 0.015341516547215574, 0.6524751897352478, 0.2162686415482492, 1.2238682829100826, -0.5594810022793774, -0.7721879879776039, 0.7677945424465574, -0.44711928380135374, 0.03485657417707869, 0.1766223676895384, 0.07374326243590695, -0.23580423331382155, -0.48565550121671947, -0.6542410195199967, 1.7015538622803354, 0.5314220872039849, 0.2363390667193305, -0.8387818864979736], \"xaxis\": \"x9\", \"y\": [1.0020217535640417, -1.0709120713481004, -0.9936119101433717, -2.533599147151511, -2.314731661644817, -0.544402046158424, -1.7989800241411678, 0.782483626643164, 0.13771380729408503, -0.26912837208801016, 2.376414403900346, 0.5630644851976623, -2.1042265727699636, -1.814687339800105, 1.6342206394532424, 0.5975342196859066, -0.2377697619797907, -1.1473526722044125, -0.11183148774247341, -0.8718362484157849, -1.7467408368798731, -1.42620331293831, -0.8044090441282832, 0.41352269122290825, 0.3284449570478143, -1.4167401024679986, -0.7643157819784241, -1.2326215055186183, -1.7979419959605787, 0.18341159576582408, -1.024872977256669, 0.6716464612752306, 0.2680784160141836, 0.8307992566454814, -0.07432723810707276, -0.2795250124047079, -0.4513367033485977, -0.2636098717629078, 1.3409219089641207, -0.5905212614700776, -0.06921772193076348, 1.6380554963056684, 0.8363366001738519, -2.056243778451678, 0.5867692902761166, -0.0342123572857976, -1.5997378200220695, -0.10004504410348357, 0.5288484923051605, 0.990455013134741, -1.0790887516075034, -0.5971327615660645, 0.29358119256651444, -0.4212318061740513, 0.11691410793563538, -0.8008819526632075, -1.5290749083465076, 0.1772883701941325, -0.01688038887791492, -0.021923467828441658, -1.4967190792096503, 0.15150510466376751, 0.6693772939887973, -0.16311216022659247, 0.38309674492611456, 0.43497750900171456, 0.3476226555561386, 1.5627156094985022, 0.1843061100316847, 1.421765577191801, -1.1114120860662586, -0.5927862115109154, 0.12615601309565674, 0.4959556950701397, -1.7347434755358349, -2.556510164146063, 0.521765841402743, 0.5852910412090544, -1.2462232446635684, 0.5337386968554741, 0.4973018897679892, -1.2526723107502338, -0.16303511988251154, 0.6054280618381143, 0.8720190318129162, -0.2078281720118378, 0.5926952471378346, 1.0528280096730862, 0.05078172862308404, -1.664825338290475, -1.0103263398425255, -0.5982748521452806, -0.2710988445712092, -0.06659147592753269, 0.12940752835322614, -0.5725834593883529, -0.8959167846179494, -0.8404684746152375, 0.1770863263793589, 0.9550700432506805], \"yaxis\": \"y9\"}, {\"line\": {\"color\": \"rgba(128, 128, 128, 1.0)\", \"dash\": \"solid\", \"shape\": \"linear\", \"width\": 1.3}, \"marker\": {\"size\": 2, \"symbol\": \"circle\"}, \"mode\": \"markers\", \"name\": \"C\", \"text\": \"\", \"type\": \"scatter\", \"x\": [0.06410207357628032, 0.5988194682426909, -2.010053357011642, -1.534460534232777, -0.2838752137445895, -0.4364055158241752, -0.062107990124747985, 1.8291664069893194, 0.3370186963782379, -0.8571716626766643, -1.4897033440473515, -0.9773804107151556, -1.0218654610470015, 1.216188328057995, 0.36602873525868307, -0.04206253722866737, -0.504138977255192, 0.4470533561000257, 0.9649794948737593, 0.7058495957713538, -0.9465810738244804, -0.07371126955603383, 1.251547336133497, -2.0736322708642083, 0.11555978219945501, -0.03783614416341705, -0.2903697562225154, -1.088977341454986, -1.135312956502815, -0.17442341769300082, 0.5202635952394287, -0.24691452846276116, -0.13382915012237656, 0.48545297566592055, 0.41039449413774176, 0.28873263493280305, -0.8387595200674258, 2.4328000327798383, -0.18471578641497266, 0.32259728832814766, -0.982216085912374, -0.15068067141146987, 0.24049749962091524, 0.4419380863991527, 1.815418420087622, -1.1486655540832191, 0.8238794399772241, -0.21805122145673023, 0.8695259754966412, 0.0846709805993985, -0.5056779659883797, -0.5481037070327525, -0.46466581623716674, 0.9225448772117156, -1.4662409750216734, -0.1999400856400257, -0.8115108172583112, 0.12397852989218443, 0.56609204715325, 0.3351988818461227, 1.0637178967303107, 1.6526894878378782, -1.4790950118066495, -0.10261674802653346, -0.2956729083237752, -0.18748856240961745, 2.180420918749399, 0.41207565810024677, 0.4993117779200552, 0.9484337358875686, 1.817708891978699, -1.367547056288455, -0.4222795209346398, 0.8705762012391222, -0.33026278521437336, 0.3320445392395583, -1.5826633681260793, -0.4634439124069925, 0.022534344142100184, 0.05393478756544293, -0.45314670894281395, -0.5856801775867423, 0.4040232286668457, 0.9457127648011665, 0.53827141480434, 0.2597206638247671, 0.4418659169631524, 0.5464618225133375, 0.46339910791145505, 1.9180711403866888, -0.5848582990423815, 0.34536446975354557, 1.136277596261647, 0.967248891045694, -1.359893659316058, 0.9586041241102193, -1.082722915105749, -1.5170273973065584, -0.3113640177319824, -0.6227757285501787], \"xaxis\": \"x10\", \"y\": [1.0020217535640417, -1.0709120713481004, -0.9936119101433717, -2.533599147151511, -2.314731661644817, -0.544402046158424, -1.7989800241411678, 0.782483626643164, 0.13771380729408503, -0.26912837208801016, 2.376414403900346, 0.5630644851976623, -2.1042265727699636, -1.814687339800105, 1.6342206394532424, 0.5975342196859066, -0.2377697619797907, -1.1473526722044125, -0.11183148774247341, -0.8718362484157849, -1.7467408368798731, -1.42620331293831, -0.8044090441282832, 0.41352269122290825, 0.3284449570478143, -1.4167401024679986, -0.7643157819784241, -1.2326215055186183, -1.7979419959605787, 0.18341159576582408, -1.024872977256669, 0.6716464612752306, 0.2680784160141836, 0.8307992566454814, -0.07432723810707276, -0.2795250124047079, -0.4513367033485977, -0.2636098717629078, 1.3409219089641207, -0.5905212614700776, -0.06921772193076348, 1.6380554963056684, 0.8363366001738519, -2.056243778451678, 0.5867692902761166, -0.0342123572857976, -1.5997378200220695, -0.10004504410348357, 0.5288484923051605, 0.990455013134741, -1.0790887516075034, -0.5971327615660645, 0.29358119256651444, -0.4212318061740513, 0.11691410793563538, -0.8008819526632075, -1.5290749083465076, 0.1772883701941325, -0.01688038887791492, -0.021923467828441658, -1.4967190792096503, 0.15150510466376751, 0.6693772939887973, -0.16311216022659247, 0.38309674492611456, 0.43497750900171456, 0.3476226555561386, 1.5627156094985022, 0.1843061100316847, 1.421765577191801, -1.1114120860662586, -0.5927862115109154, 0.12615601309565674, 0.4959556950701397, -1.7347434755358349, -2.556510164146063, 0.521765841402743, 0.5852910412090544, -1.2462232446635684, 0.5337386968554741, 0.4973018897679892, -1.2526723107502338, -0.16303511988251154, 0.6054280618381143, 0.8720190318129162, -0.2078281720118378, 0.5926952471378346, 1.0528280096730862, 0.05078172862308404, -1.664825338290475, -1.0103263398425255, -0.5982748521452806, -0.2710988445712092, -0.06659147592753269, 0.12940752835322614, -0.5725834593883529, -0.8959167846179494, -0.8404684746152375, 0.1770863263793589, 0.9550700432506805], \"yaxis\": \"y10\"}, {\"histfunc\": \"count\", \"histnorm\": \"\", \"marker\": {\"color\": \"rgba(50, 171, 96, 1.0)\", \"line\": {\"color\": \"#4D5663\", \"width\": 1.3}}, \"name\": \"C\", \"nbinsx\": 10, \"opacity\": 0.8, \"orientation\": \"v\", \"type\": \"histogram\", \"x\": [1.0020217535640417, -1.0709120713481004, -0.9936119101433717, -2.533599147151511, -2.314731661644817, -0.544402046158424, -1.7989800241411678, 0.782483626643164, 0.13771380729408503, -0.26912837208801016, 2.376414403900346, 0.5630644851976623, -2.1042265727699636, -1.814687339800105, 1.6342206394532424, 0.5975342196859066, -0.2377697619797907, -1.1473526722044125, -0.11183148774247341, -0.8718362484157849, -1.7467408368798731, -1.42620331293831, -0.8044090441282832, 0.41352269122290825, 0.3284449570478143, -1.4167401024679986, -0.7643157819784241, -1.2326215055186183, -1.7979419959605787, 0.18341159576582408, -1.024872977256669, 0.6716464612752306, 0.2680784160141836, 0.8307992566454814, -0.07432723810707276, -0.2795250124047079, -0.4513367033485977, -0.2636098717629078, 1.3409219089641207, -0.5905212614700776, -0.06921772193076348, 1.6380554963056684, 0.8363366001738519, -2.056243778451678, 0.5867692902761166, -0.0342123572857976, -1.5997378200220695, -0.10004504410348357, 0.5288484923051605, 0.990455013134741, -1.0790887516075034, -0.5971327615660645, 0.29358119256651444, -0.4212318061740513, 0.11691410793563538, -0.8008819526632075, -1.5290749083465076, 0.1772883701941325, -0.01688038887791492, -0.021923467828441658, -1.4967190792096503, 0.15150510466376751, 0.6693772939887973, -0.16311216022659247, 0.38309674492611456, 0.43497750900171456, 0.3476226555561386, 1.5627156094985022, 0.1843061100316847, 1.421765577191801, -1.1114120860662586, -0.5927862115109154, 0.12615601309565674, 0.4959556950701397, -1.7347434755358349, -2.556510164146063, 0.521765841402743, 0.5852910412090544, -1.2462232446635684, 0.5337386968554741, 0.4973018897679892, -1.2526723107502338, -0.16303511988251154, 0.6054280618381143, 0.8720190318129162, -0.2078281720118378, 0.5926952471378346, 1.0528280096730862, 0.05078172862308404, -1.664825338290475, -1.0103263398425255, -0.5982748521452806, -0.2710988445712092, -0.06659147592753269, 0.12940752835322614, -0.5725834593883529, -0.8959167846179494, -0.8404684746152375, 0.1770863263793589, 0.9550700432506805], \"xaxis\": \"x11\", \"yaxis\": \"y11\"}, {\"line\": {\"color\": \"rgba(128, 128, 128, 1.0)\", \"dash\": \"solid\", \"shape\": \"linear\", \"width\": 1.3}, \"marker\": {\"size\": 2, \"symbol\": \"circle\"}, \"mode\": \"markers\", \"name\": \"C\", \"text\": \"\", \"type\": \"scatter\", \"x\": [0.5016469424237546, 1.5461024256449314, -1.515430754935001, -1.1969819308460552, -1.2821642556303274, -1.32607419862964, 1.1137171683997595, 0.859272126095684, 0.6344480101234863, -0.11559713090033623, 1.0718084014591502, 0.1742840101142203, 0.5166855879361155, -1.0854229221430316, -0.03447866308128951, 0.15517061967063442, -0.7894475900868732, 0.09543617935624944, 0.45177180906632064, 1.1696101468824083, -0.043311890707100204, 1.6571427473565212, 0.5280278445921563, 0.6810963828489841, 0.2977891259733895, 0.22201272375753953, -0.679094912710526, -0.6195440193043447, 0.05728074218985923, -0.397444325243679, -0.2449987392414877, 0.3238536498124585, 0.0999947297956345, -0.8953409899852637, 0.7600318497834284, 0.574035987683394, 0.5971309921650964, -1.2601874144644434, 0.7236021641690927, -0.15456900240201948, 1.4538526363842077, 1.392198528988188, 0.6564149972780509, -0.5132348326197187, -1.116673228056018, -1.1107777598305526, 0.6994675470009029, 0.49418020709582305, 1.0349694423443077, -0.016580139292874982, 0.5189493193632874, 0.6938238472257998, -0.10657124752182924, -0.5301476147096458, 1.0263088421721898, -0.21130004661452512, -1.5642104552995117, 0.8019741574064435, -0.36053228022800216, -0.7944734793899005, 0.07260524925412559, 1.1185794889521081, 0.335167755073714, -1.3994871996451526, 0.22895292192646716, -1.1047814869104593, -1.6535105624892523, -1.1736268694370566, 0.3055282790395455, 1.0602541941979597, 0.8770400352815519, -0.5052684856558837, 1.1170447163533912, 2.210214604865789, -0.9985161080562468, 0.27359228831567, 0.06261800881342981, 1.020912023869562, -0.6003812064685073, 0.4762040336398097, 0.45551139867643964, 1.5541884069075995, 0.9575096687638155, 0.2679021455665988, -1.8562107587464431, 1.130377156623166, -1.5212369356068927, -2.348287045662786, 1.8044560570029817, -1.5433729564647345, -0.31206469620866883, -0.7571601929739846, 0.7761959199474827, 0.6314116816461985, -1.776462206095515, 0.47288058865943794, 1.1297379468895679, -0.9677644478589714, 0.23234322578701186, -1.5242511690132388], \"xaxis\": \"x12\", \"y\": [1.0020217535640417, -1.0709120713481004, -0.9936119101433717, -2.533599147151511, -2.314731661644817, -0.544402046158424, -1.7989800241411678, 0.782483626643164, 0.13771380729408503, -0.26912837208801016, 2.376414403900346, 0.5630644851976623, -2.1042265727699636, -1.814687339800105, 1.6342206394532424, 0.5975342196859066, -0.2377697619797907, -1.1473526722044125, -0.11183148774247341, -0.8718362484157849, -1.7467408368798731, -1.42620331293831, -0.8044090441282832, 0.41352269122290825, 0.3284449570478143, -1.4167401024679986, -0.7643157819784241, -1.2326215055186183, -1.7979419959605787, 0.18341159576582408, -1.024872977256669, 0.6716464612752306, 0.2680784160141836, 0.8307992566454814, -0.07432723810707276, -0.2795250124047079, -0.4513367033485977, -0.2636098717629078, 1.3409219089641207, -0.5905212614700776, -0.06921772193076348, 1.6380554963056684, 0.8363366001738519, -2.056243778451678, 0.5867692902761166, -0.0342123572857976, -1.5997378200220695, -0.10004504410348357, 0.5288484923051605, 0.990455013134741, -1.0790887516075034, -0.5971327615660645, 0.29358119256651444, -0.4212318061740513, 0.11691410793563538, -0.8008819526632075, -1.5290749083465076, 0.1772883701941325, -0.01688038887791492, -0.021923467828441658, -1.4967190792096503, 0.15150510466376751, 0.6693772939887973, -0.16311216022659247, 0.38309674492611456, 0.43497750900171456, 0.3476226555561386, 1.5627156094985022, 0.1843061100316847, 1.421765577191801, -1.1114120860662586, -0.5927862115109154, 0.12615601309565674, 0.4959556950701397, -1.7347434755358349, -2.556510164146063, 0.521765841402743, 0.5852910412090544, -1.2462232446635684, 0.5337386968554741, 0.4973018897679892, -1.2526723107502338, -0.16303511988251154, 0.6054280618381143, 0.8720190318129162, -0.2078281720118378, 0.5926952471378346, 1.0528280096730862, 0.05078172862308404, -1.664825338290475, -1.0103263398425255, -0.5982748521452806, -0.2710988445712092, -0.06659147592753269, 0.12940752835322614, -0.5725834593883529, -0.8959167846179494, -0.8404684746152375, 0.1770863263793589, 0.9550700432506805], \"yaxis\": \"y12\"}, {\"line\": {\"color\": \"rgba(128, 128, 128, 1.0)\", \"dash\": \"solid\", \"shape\": \"linear\", \"width\": 1.3}, \"marker\": {\"size\": 2, \"symbol\": \"circle\"}, \"mode\": \"markers\", \"name\": \"D\", \"text\": \"\", \"type\": \"scatter\", \"x\": [0.7579622911456884, 0.5298454226070978, 0.8156101983220254, -0.9454582364645135, -0.857994402443206, -0.1670467591767333, -0.7888114020903332, -0.2673561619114749, 0.768216778986486, -0.8638176766596485, -0.33843709402835276, -0.8604248481790441, 0.9390817496511193, 0.4962486167366557, -0.342866720058513, 0.5321154951123271, 0.08364234862840773, -0.24420366347819594, -2.5470021690493523, 0.6501915875974441, 0.46105121143151684, -1.2696445490313397, -1.262321855935702, 0.020590837422995875, -1.962164958669862, 0.1520210913204685, -0.32979134502902163, 0.8401008377275386, -0.5082086655426916, 1.2528721120287196, -0.7153155037815715, 1.4064228445136355, 1.8710040626067423, 0.08757345444063647, 2.041319270677461, 2.8000560133663024, -1.370358468855292, -0.3060589595906979, 0.6755736191112913, 1.4407258504266733, -0.8107992432478025, 0.5914524531347799, 0.3879197499827318, -1.3226943138065599, 0.03095980363011386, 0.35388609090549306, -0.7106145582311015, -0.6995966631278421, -0.01780114613536176, -0.23550021237398164, -0.9927687863322747, -0.8554634929109388, -0.2216839561931747, 0.1935051205325323, -0.7550886779996621, -0.382930473573882, -0.4136431738112617, -0.15205974759545637, 0.7962233695209215, 0.7256432342089434, 0.24270585434026598, 0.13409859606010457, -0.556524193528626, 0.07633036965958356, 1.1366650674151044, 1.3415441140499602, 0.7084176532972084, -1.2865302555192233, -1.2527010973957653, 0.8756611197550394, 1.0631834319317377, 1.7277189454023956, 0.3458699972060742, -0.45699142615687494, 1.0790163639283334, -0.6944844785820669, -2.2895926431144096, 1.6323818820980218, -1.9706328705835687, -0.6145302262421422, 0.4150734969666682, 0.02447752685552582, 0.015341516547215574, 0.6524751897352478, 0.2162686415482492, 1.2238682829100826, -0.5594810022793774, -0.7721879879776039, 0.7677945424465574, -0.44711928380135374, 0.03485657417707869, 0.1766223676895384, 0.07374326243590695, -0.23580423331382155, -0.48565550121671947, -0.6542410195199967, 1.7015538622803354, 0.5314220872039849, 0.2363390667193305, -0.8387818864979736], \"xaxis\": \"x13\", \"y\": [0.5016469424237546, 1.5461024256449314, -1.515430754935001, -1.1969819308460552, -1.2821642556303274, -1.32607419862964, 1.1137171683997595, 0.859272126095684, 0.6344480101234863, -0.11559713090033623, 1.0718084014591502, 0.1742840101142203, 0.5166855879361155, -1.0854229221430316, -0.03447866308128951, 0.15517061967063442, -0.7894475900868732, 0.09543617935624944, 0.45177180906632064, 1.1696101468824083, -0.043311890707100204, 1.6571427473565212, 0.5280278445921563, 0.6810963828489841, 0.2977891259733895, 0.22201272375753953, -0.679094912710526, -0.6195440193043447, 0.05728074218985923, -0.397444325243679, -0.2449987392414877, 0.3238536498124585, 0.0999947297956345, -0.8953409899852637, 0.7600318497834284, 0.574035987683394, 0.5971309921650964, -1.2601874144644434, 0.7236021641690927, -0.15456900240201948, 1.4538526363842077, 1.392198528988188, 0.6564149972780509, -0.5132348326197187, -1.116673228056018, -1.1107777598305526, 0.6994675470009029, 0.49418020709582305, 1.0349694423443077, -0.016580139292874982, 0.5189493193632874, 0.6938238472257998, -0.10657124752182924, -0.5301476147096458, 1.0263088421721898, -0.21130004661452512, -1.5642104552995117, 0.8019741574064435, -0.36053228022800216, -0.7944734793899005, 0.07260524925412559, 1.1185794889521081, 0.335167755073714, -1.3994871996451526, 0.22895292192646716, -1.1047814869104593, -1.6535105624892523, -1.1736268694370566, 0.3055282790395455, 1.0602541941979597, 0.8770400352815519, -0.5052684856558837, 1.1170447163533912, 2.210214604865789, -0.9985161080562468, 0.27359228831567, 0.06261800881342981, 1.020912023869562, -0.6003812064685073, 0.4762040336398097, 0.45551139867643964, 1.5541884069075995, 0.9575096687638155, 0.2679021455665988, -1.8562107587464431, 1.130377156623166, -1.5212369356068927, -2.348287045662786, 1.8044560570029817, -1.5433729564647345, -0.31206469620866883, -0.7571601929739846, 0.7761959199474827, 0.6314116816461985, -1.776462206095515, 0.47288058865943794, 1.1297379468895679, -0.9677644478589714, 0.23234322578701186, -1.5242511690132388], \"yaxis\": \"y13\"}, {\"line\": {\"color\": \"rgba(128, 128, 128, 1.0)\", \"dash\": \"solid\", \"shape\": \"linear\", \"width\": 1.3}, \"marker\": {\"size\": 2, \"symbol\": \"circle\"}, \"mode\": \"markers\", \"name\": \"D\", \"text\": \"\", \"type\": \"scatter\", \"x\": [0.06410207357628032, 0.5988194682426909, -2.010053357011642, -1.534460534232777, -0.2838752137445895, -0.4364055158241752, -0.062107990124747985, 1.8291664069893194, 0.3370186963782379, -0.8571716626766643, -1.4897033440473515, -0.9773804107151556, -1.0218654610470015, 1.216188328057995, 0.36602873525868307, -0.04206253722866737, -0.504138977255192, 0.4470533561000257, 0.9649794948737593, 0.7058495957713538, -0.9465810738244804, -0.07371126955603383, 1.251547336133497, -2.0736322708642083, 0.11555978219945501, -0.03783614416341705, -0.2903697562225154, -1.088977341454986, -1.135312956502815, -0.17442341769300082, 0.5202635952394287, -0.24691452846276116, -0.13382915012237656, 0.48545297566592055, 0.41039449413774176, 0.28873263493280305, -0.8387595200674258, 2.4328000327798383, -0.18471578641497266, 0.32259728832814766, -0.982216085912374, -0.15068067141146987, 0.24049749962091524, 0.4419380863991527, 1.815418420087622, -1.1486655540832191, 0.8238794399772241, -0.21805122145673023, 0.8695259754966412, 0.0846709805993985, -0.5056779659883797, -0.5481037070327525, -0.46466581623716674, 0.9225448772117156, -1.4662409750216734, -0.1999400856400257, -0.8115108172583112, 0.12397852989218443, 0.56609204715325, 0.3351988818461227, 1.0637178967303107, 1.6526894878378782, -1.4790950118066495, -0.10261674802653346, -0.2956729083237752, -0.18748856240961745, 2.180420918749399, 0.41207565810024677, 0.4993117779200552, 0.9484337358875686, 1.817708891978699, -1.367547056288455, -0.4222795209346398, 0.8705762012391222, -0.33026278521437336, 0.3320445392395583, -1.5826633681260793, -0.4634439124069925, 0.022534344142100184, 0.05393478756544293, -0.45314670894281395, -0.5856801775867423, 0.4040232286668457, 0.9457127648011665, 0.53827141480434, 0.2597206638247671, 0.4418659169631524, 0.5464618225133375, 0.46339910791145505, 1.9180711403866888, -0.5848582990423815, 0.34536446975354557, 1.136277596261647, 0.967248891045694, -1.359893659316058, 0.9586041241102193, -1.082722915105749, -1.5170273973065584, -0.3113640177319824, -0.6227757285501787], \"xaxis\": \"x14\", \"y\": [0.5016469424237546, 1.5461024256449314, -1.515430754935001, -1.1969819308460552, -1.2821642556303274, -1.32607419862964, 1.1137171683997595, 0.859272126095684, 0.6344480101234863, -0.11559713090033623, 1.0718084014591502, 0.1742840101142203, 0.5166855879361155, -1.0854229221430316, -0.03447866308128951, 0.15517061967063442, -0.7894475900868732, 0.09543617935624944, 0.45177180906632064, 1.1696101468824083, -0.043311890707100204, 1.6571427473565212, 0.5280278445921563, 0.6810963828489841, 0.2977891259733895, 0.22201272375753953, -0.679094912710526, -0.6195440193043447, 0.05728074218985923, -0.397444325243679, -0.2449987392414877, 0.3238536498124585, 0.0999947297956345, -0.8953409899852637, 0.7600318497834284, 0.574035987683394, 0.5971309921650964, -1.2601874144644434, 0.7236021641690927, -0.15456900240201948, 1.4538526363842077, 1.392198528988188, 0.6564149972780509, -0.5132348326197187, -1.116673228056018, -1.1107777598305526, 0.6994675470009029, 0.49418020709582305, 1.0349694423443077, -0.016580139292874982, 0.5189493193632874, 0.6938238472257998, -0.10657124752182924, -0.5301476147096458, 1.0263088421721898, -0.21130004661452512, -1.5642104552995117, 0.8019741574064435, -0.36053228022800216, -0.7944734793899005, 0.07260524925412559, 1.1185794889521081, 0.335167755073714, -1.3994871996451526, 0.22895292192646716, -1.1047814869104593, -1.6535105624892523, -1.1736268694370566, 0.3055282790395455, 1.0602541941979597, 0.8770400352815519, -0.5052684856558837, 1.1170447163533912, 2.210214604865789, -0.9985161080562468, 0.27359228831567, 0.06261800881342981, 1.020912023869562, -0.6003812064685073, 0.4762040336398097, 0.45551139867643964, 1.5541884069075995, 0.9575096687638155, 0.2679021455665988, -1.8562107587464431, 1.130377156623166, -1.5212369356068927, -2.348287045662786, 1.8044560570029817, -1.5433729564647345, -0.31206469620866883, -0.7571601929739846, 0.7761959199474827, 0.6314116816461985, -1.776462206095515, 0.47288058865943794, 1.1297379468895679, -0.9677644478589714, 0.23234322578701186, -1.5242511690132388], \"yaxis\": \"y14\"}, {\"line\": {\"color\": \"rgba(128, 128, 128, 1.0)\", \"dash\": \"solid\", \"shape\": \"linear\", \"width\": 1.3}, \"marker\": {\"size\": 2, \"symbol\": \"circle\"}, \"mode\": \"markers\", \"name\": \"D\", \"text\": \"\", \"type\": \"scatter\", \"x\": [1.0020217535640417, -1.0709120713481004, -0.9936119101433717, -2.533599147151511, -2.314731661644817, -0.544402046158424, -1.7989800241411678, 0.782483626643164, 0.13771380729408503, -0.26912837208801016, 2.376414403900346, 0.5630644851976623, -2.1042265727699636, -1.814687339800105, 1.6342206394532424, 0.5975342196859066, -0.2377697619797907, -1.1473526722044125, -0.11183148774247341, -0.8718362484157849, -1.7467408368798731, -1.42620331293831, -0.8044090441282832, 0.41352269122290825, 0.3284449570478143, -1.4167401024679986, -0.7643157819784241, -1.2326215055186183, -1.7979419959605787, 0.18341159576582408, -1.024872977256669, 0.6716464612752306, 0.2680784160141836, 0.8307992566454814, -0.07432723810707276, -0.2795250124047079, -0.4513367033485977, -0.2636098717629078, 1.3409219089641207, -0.5905212614700776, -0.06921772193076348, 1.6380554963056684, 0.8363366001738519, -2.056243778451678, 0.5867692902761166, -0.0342123572857976, -1.5997378200220695, -0.10004504410348357, 0.5288484923051605, 0.990455013134741, -1.0790887516075034, -0.5971327615660645, 0.29358119256651444, -0.4212318061740513, 0.11691410793563538, -0.8008819526632075, -1.5290749083465076, 0.1772883701941325, -0.01688038887791492, -0.021923467828441658, -1.4967190792096503, 0.15150510466376751, 0.6693772939887973, -0.16311216022659247, 0.38309674492611456, 0.43497750900171456, 0.3476226555561386, 1.5627156094985022, 0.1843061100316847, 1.421765577191801, -1.1114120860662586, -0.5927862115109154, 0.12615601309565674, 0.4959556950701397, -1.7347434755358349, -2.556510164146063, 0.521765841402743, 0.5852910412090544, -1.2462232446635684, 0.5337386968554741, 0.4973018897679892, -1.2526723107502338, -0.16303511988251154, 0.6054280618381143, 0.8720190318129162, -0.2078281720118378, 0.5926952471378346, 1.0528280096730862, 0.05078172862308404, -1.664825338290475, -1.0103263398425255, -0.5982748521452806, -0.2710988445712092, -0.06659147592753269, 0.12940752835322614, -0.5725834593883529, -0.8959167846179494, -0.8404684746152375, 0.1770863263793589, 0.9550700432506805], \"xaxis\": \"x15\", \"y\": [0.5016469424237546, 1.5461024256449314, -1.515430754935001, -1.1969819308460552, -1.2821642556303274, -1.32607419862964, 1.1137171683997595, 0.859272126095684, 0.6344480101234863, -0.11559713090033623, 1.0718084014591502, 0.1742840101142203, 0.5166855879361155, -1.0854229221430316, -0.03447866308128951, 0.15517061967063442, -0.7894475900868732, 0.09543617935624944, 0.45177180906632064, 1.1696101468824083, -0.043311890707100204, 1.6571427473565212, 0.5280278445921563, 0.6810963828489841, 0.2977891259733895, 0.22201272375753953, -0.679094912710526, -0.6195440193043447, 0.05728074218985923, -0.397444325243679, -0.2449987392414877, 0.3238536498124585, 0.0999947297956345, -0.8953409899852637, 0.7600318497834284, 0.574035987683394, 0.5971309921650964, -1.2601874144644434, 0.7236021641690927, -0.15456900240201948, 1.4538526363842077, 1.392198528988188, 0.6564149972780509, -0.5132348326197187, -1.116673228056018, -1.1107777598305526, 0.6994675470009029, 0.49418020709582305, 1.0349694423443077, -0.016580139292874982, 0.5189493193632874, 0.6938238472257998, -0.10657124752182924, -0.5301476147096458, 1.0263088421721898, -0.21130004661452512, -1.5642104552995117, 0.8019741574064435, -0.36053228022800216, -0.7944734793899005, 0.07260524925412559, 1.1185794889521081, 0.335167755073714, -1.3994871996451526, 0.22895292192646716, -1.1047814869104593, -1.6535105624892523, -1.1736268694370566, 0.3055282790395455, 1.0602541941979597, 0.8770400352815519, -0.5052684856558837, 1.1170447163533912, 2.210214604865789, -0.9985161080562468, 0.27359228831567, 0.06261800881342981, 1.020912023869562, -0.6003812064685073, 0.4762040336398097, 0.45551139867643964, 1.5541884069075995, 0.9575096687638155, 0.2679021455665988, -1.8562107587464431, 1.130377156623166, -1.5212369356068927, -2.348287045662786, 1.8044560570029817, -1.5433729564647345, -0.31206469620866883, -0.7571601929739846, 0.7761959199474827, 0.6314116816461985, -1.776462206095515, 0.47288058865943794, 1.1297379468895679, -0.9677644478589714, 0.23234322578701186, -1.5242511690132388], \"yaxis\": \"y15\"}, {\"histfunc\": \"count\", \"histnorm\": \"\", \"marker\": {\"color\": \"rgba(128, 0, 128, 1.0)\", \"line\": {\"color\": \"#4D5663\", \"width\": 1.3}}, \"name\": \"D\", \"nbinsx\": 10, \"opacity\": 0.8, \"orientation\": \"v\", \"type\": \"histogram\", \"x\": [0.5016469424237546, 1.5461024256449314, -1.515430754935001, -1.1969819308460552, -1.2821642556303274, -1.32607419862964, 1.1137171683997595, 0.859272126095684, 0.6344480101234863, -0.11559713090033623, 1.0718084014591502, 0.1742840101142203, 0.5166855879361155, -1.0854229221430316, -0.03447866308128951, 0.15517061967063442, -0.7894475900868732, 0.09543617935624944, 0.45177180906632064, 1.1696101468824083, -0.043311890707100204, 1.6571427473565212, 0.5280278445921563, 0.6810963828489841, 0.2977891259733895, 0.22201272375753953, -0.679094912710526, -0.6195440193043447, 0.05728074218985923, -0.397444325243679, -0.2449987392414877, 0.3238536498124585, 0.0999947297956345, -0.8953409899852637, 0.7600318497834284, 0.574035987683394, 0.5971309921650964, -1.2601874144644434, 0.7236021641690927, -0.15456900240201948, 1.4538526363842077, 1.392198528988188, 0.6564149972780509, -0.5132348326197187, -1.116673228056018, -1.1107777598305526, 0.6994675470009029, 0.49418020709582305, 1.0349694423443077, -0.016580139292874982, 0.5189493193632874, 0.6938238472257998, -0.10657124752182924, -0.5301476147096458, 1.0263088421721898, -0.21130004661452512, -1.5642104552995117, 0.8019741574064435, -0.36053228022800216, -0.7944734793899005, 0.07260524925412559, 1.1185794889521081, 0.335167755073714, -1.3994871996451526, 0.22895292192646716, -1.1047814869104593, -1.6535105624892523, -1.1736268694370566, 0.3055282790395455, 1.0602541941979597, 0.8770400352815519, -0.5052684856558837, 1.1170447163533912, 2.210214604865789, -0.9985161080562468, 0.27359228831567, 0.06261800881342981, 1.020912023869562, -0.6003812064685073, 0.4762040336398097, 0.45551139867643964, 1.5541884069075995, 0.9575096687638155, 0.2679021455665988, -1.8562107587464431, 1.130377156623166, -1.5212369356068927, -2.348287045662786, 1.8044560570029817, -1.5433729564647345, -0.31206469620866883, -0.7571601929739846, 0.7761959199474827, 0.6314116816461985, -1.776462206095515, 0.47288058865943794, 1.1297379468895679, -0.9677644478589714, 0.23234322578701186, -1.5242511690132388], \"xaxis\": \"x16\", \"yaxis\": \"y16\"}],\n",
       "                        {\"bargap\": 0.02, \"legend\": {\"bgcolor\": \"#F5F6F9\", \"font\": {\"color\": \"#4D5663\"}}, \"paper_bgcolor\": \"#F5F6F9\", \"plot_bgcolor\": \"#F5F6F9\", \"showlegend\": false, \"template\": {\"data\": {\"bar\": [{\"error_x\": {\"color\": \"#2a3f5f\"}, \"error_y\": {\"color\": \"#2a3f5f\"}, \"marker\": {\"line\": {\"color\": \"#E5ECF6\", \"width\": 0.5}}, \"type\": \"bar\"}], \"barpolar\": [{\"marker\": {\"line\": {\"color\": \"#E5ECF6\", \"width\": 0.5}}, \"type\": \"barpolar\"}], \"carpet\": [{\"aaxis\": {\"endlinecolor\": \"#2a3f5f\", \"gridcolor\": \"white\", \"linecolor\": \"white\", \"minorgridcolor\": \"white\", \"startlinecolor\": \"#2a3f5f\"}, \"baxis\": {\"endlinecolor\": \"#2a3f5f\", \"gridcolor\": \"white\", \"linecolor\": \"white\", \"minorgridcolor\": \"white\", \"startlinecolor\": \"#2a3f5f\"}, \"type\": \"carpet\"}], \"choropleth\": [{\"colorbar\": {\"outlinewidth\": 0, \"ticks\": \"\"}, \"type\": \"choropleth\"}], \"contour\": [{\"colorbar\": {\"outlinewidth\": 0, \"ticks\": \"\"}, \"colorscale\": [[0.0, \"#0d0887\"], [0.1111111111111111, \"#46039f\"], [0.2222222222222222, \"#7201a8\"], [0.3333333333333333, \"#9c179e\"], [0.4444444444444444, \"#bd3786\"], [0.5555555555555556, \"#d8576b\"], [0.6666666666666666, \"#ed7953\"], [0.7777777777777778, \"#fb9f3a\"], [0.8888888888888888, \"#fdca26\"], [1.0, \"#f0f921\"]], \"type\": \"contour\"}], \"contourcarpet\": [{\"colorbar\": {\"outlinewidth\": 0, \"ticks\": \"\"}, \"type\": \"contourcarpet\"}], \"heatmap\": [{\"colorbar\": {\"outlinewidth\": 0, \"ticks\": \"\"}, \"colorscale\": [[0.0, \"#0d0887\"], [0.1111111111111111, \"#46039f\"], [0.2222222222222222, \"#7201a8\"], [0.3333333333333333, \"#9c179e\"], [0.4444444444444444, \"#bd3786\"], [0.5555555555555556, \"#d8576b\"], [0.6666666666666666, \"#ed7953\"], [0.7777777777777778, \"#fb9f3a\"], [0.8888888888888888, \"#fdca26\"], [1.0, \"#f0f921\"]], \"type\": \"heatmap\"}], \"heatmapgl\": [{\"colorbar\": {\"outlinewidth\": 0, \"ticks\": \"\"}, \"colorscale\": [[0.0, \"#0d0887\"], [0.1111111111111111, \"#46039f\"], [0.2222222222222222, \"#7201a8\"], [0.3333333333333333, \"#9c179e\"], [0.4444444444444444, \"#bd3786\"], [0.5555555555555556, \"#d8576b\"], [0.6666666666666666, \"#ed7953\"], [0.7777777777777778, \"#fb9f3a\"], [0.8888888888888888, \"#fdca26\"], [1.0, \"#f0f921\"]], \"type\": \"heatmapgl\"}], \"histogram\": [{\"marker\": {\"colorbar\": {\"outlinewidth\": 0, \"ticks\": \"\"}}, \"type\": \"histogram\"}], \"histogram2d\": [{\"colorbar\": {\"outlinewidth\": 0, \"ticks\": \"\"}, \"colorscale\": [[0.0, \"#0d0887\"], [0.1111111111111111, \"#46039f\"], [0.2222222222222222, \"#7201a8\"], [0.3333333333333333, \"#9c179e\"], [0.4444444444444444, \"#bd3786\"], [0.5555555555555556, \"#d8576b\"], [0.6666666666666666, \"#ed7953\"], [0.7777777777777778, \"#fb9f3a\"], [0.8888888888888888, \"#fdca26\"], [1.0, \"#f0f921\"]], \"type\": \"histogram2d\"}], \"histogram2dcontour\": [{\"colorbar\": {\"outlinewidth\": 0, \"ticks\": \"\"}, \"colorscale\": [[0.0, \"#0d0887\"], [0.1111111111111111, \"#46039f\"], [0.2222222222222222, \"#7201a8\"], [0.3333333333333333, \"#9c179e\"], [0.4444444444444444, \"#bd3786\"], [0.5555555555555556, \"#d8576b\"], [0.6666666666666666, \"#ed7953\"], [0.7777777777777778, \"#fb9f3a\"], [0.8888888888888888, \"#fdca26\"], [1.0, \"#f0f921\"]], \"type\": \"histogram2dcontour\"}], \"mesh3d\": [{\"colorbar\": {\"outlinewidth\": 0, \"ticks\": \"\"}, \"type\": \"mesh3d\"}], \"parcoords\": [{\"line\": {\"colorbar\": {\"outlinewidth\": 0, \"ticks\": \"\"}}, \"type\": \"parcoords\"}], \"pie\": [{\"automargin\": true, \"type\": \"pie\"}], \"scatter\": [{\"marker\": {\"colorbar\": {\"outlinewidth\": 0, \"ticks\": \"\"}}, \"type\": \"scatter\"}], \"scatter3d\": [{\"line\": {\"colorbar\": {\"outlinewidth\": 0, \"ticks\": \"\"}}, \"marker\": {\"colorbar\": {\"outlinewidth\": 0, \"ticks\": \"\"}}, \"type\": \"scatter3d\"}], \"scattercarpet\": [{\"marker\": {\"colorbar\": {\"outlinewidth\": 0, \"ticks\": \"\"}}, \"type\": \"scattercarpet\"}], \"scattergeo\": [{\"marker\": {\"colorbar\": {\"outlinewidth\": 0, \"ticks\": \"\"}}, \"type\": \"scattergeo\"}], \"scattergl\": [{\"marker\": {\"colorbar\": {\"outlinewidth\": 0, \"ticks\": \"\"}}, \"type\": \"scattergl\"}], \"scattermapbox\": [{\"marker\": {\"colorbar\": {\"outlinewidth\": 0, \"ticks\": \"\"}}, \"type\": \"scattermapbox\"}], \"scatterpolar\": [{\"marker\": {\"colorbar\": {\"outlinewidth\": 0, \"ticks\": \"\"}}, \"type\": \"scatterpolar\"}], \"scatterpolargl\": [{\"marker\": {\"colorbar\": {\"outlinewidth\": 0, \"ticks\": \"\"}}, \"type\": \"scatterpolargl\"}], \"scatterternary\": [{\"marker\": {\"colorbar\": {\"outlinewidth\": 0, \"ticks\": \"\"}}, \"type\": \"scatterternary\"}], \"surface\": [{\"colorbar\": {\"outlinewidth\": 0, \"ticks\": \"\"}, \"colorscale\": [[0.0, \"#0d0887\"], [0.1111111111111111, \"#46039f\"], [0.2222222222222222, \"#7201a8\"], [0.3333333333333333, \"#9c179e\"], [0.4444444444444444, \"#bd3786\"], [0.5555555555555556, \"#d8576b\"], [0.6666666666666666, \"#ed7953\"], [0.7777777777777778, \"#fb9f3a\"], [0.8888888888888888, \"#fdca26\"], [1.0, \"#f0f921\"]], \"type\": \"surface\"}], \"table\": [{\"cells\": {\"fill\": {\"color\": \"#EBF0F8\"}, \"line\": {\"color\": \"white\"}}, \"header\": {\"fill\": {\"color\": \"#C8D4E3\"}, \"line\": {\"color\": \"white\"}}, \"type\": \"table\"}]}, \"layout\": {\"annotationdefaults\": {\"arrowcolor\": \"#2a3f5f\", \"arrowhead\": 0, \"arrowwidth\": 1}, \"coloraxis\": {\"colorbar\": {\"outlinewidth\": 0, \"ticks\": \"\"}}, \"colorscale\": {\"diverging\": [[0, \"#8e0152\"], [0.1, \"#c51b7d\"], [0.2, \"#de77ae\"], [0.3, \"#f1b6da\"], [0.4, \"#fde0ef\"], [0.5, \"#f7f7f7\"], [0.6, \"#e6f5d0\"], [0.7, \"#b8e186\"], [0.8, \"#7fbc41\"], [0.9, \"#4d9221\"], [1, \"#276419\"]], \"sequential\": [[0.0, \"#0d0887\"], [0.1111111111111111, \"#46039f\"], [0.2222222222222222, \"#7201a8\"], [0.3333333333333333, \"#9c179e\"], [0.4444444444444444, \"#bd3786\"], [0.5555555555555556, \"#d8576b\"], [0.6666666666666666, \"#ed7953\"], [0.7777777777777778, \"#fb9f3a\"], [0.8888888888888888, \"#fdca26\"], [1.0, \"#f0f921\"]], \"sequentialminus\": [[0.0, \"#0d0887\"], [0.1111111111111111, \"#46039f\"], [0.2222222222222222, \"#7201a8\"], [0.3333333333333333, \"#9c179e\"], [0.4444444444444444, \"#bd3786\"], [0.5555555555555556, \"#d8576b\"], [0.6666666666666666, \"#ed7953\"], [0.7777777777777778, \"#fb9f3a\"], [0.8888888888888888, \"#fdca26\"], [1.0, \"#f0f921\"]]}, \"colorway\": [\"#636efa\", \"#EF553B\", \"#00cc96\", \"#ab63fa\", \"#FFA15A\", \"#19d3f3\", \"#FF6692\", \"#B6E880\", \"#FF97FF\", \"#FECB52\"], \"font\": {\"color\": \"#2a3f5f\"}, \"geo\": {\"bgcolor\": \"white\", \"lakecolor\": \"white\", \"landcolor\": \"#E5ECF6\", \"showlakes\": true, \"showland\": true, \"subunitcolor\": \"white\"}, \"hoverlabel\": {\"align\": \"left\"}, \"hovermode\": \"closest\", \"mapbox\": {\"style\": \"light\"}, \"paper_bgcolor\": \"white\", \"plot_bgcolor\": \"#E5ECF6\", \"polar\": {\"angularaxis\": {\"gridcolor\": \"white\", \"linecolor\": \"white\", \"ticks\": \"\"}, \"bgcolor\": \"#E5ECF6\", \"radialaxis\": {\"gridcolor\": \"white\", \"linecolor\": \"white\", \"ticks\": \"\"}}, \"scene\": {\"xaxis\": {\"backgroundcolor\": \"#E5ECF6\", \"gridcolor\": \"white\", \"gridwidth\": 2, \"linecolor\": \"white\", \"showbackground\": true, \"ticks\": \"\", \"zerolinecolor\": \"white\"}, \"yaxis\": {\"backgroundcolor\": \"#E5ECF6\", \"gridcolor\": \"white\", \"gridwidth\": 2, \"linecolor\": \"white\", \"showbackground\": true, \"ticks\": \"\", \"zerolinecolor\": \"white\"}, \"zaxis\": {\"backgroundcolor\": \"#E5ECF6\", \"gridcolor\": \"white\", \"gridwidth\": 2, \"linecolor\": \"white\", \"showbackground\": true, \"ticks\": \"\", \"zerolinecolor\": \"white\"}}, \"shapedefaults\": {\"line\": {\"color\": \"#2a3f5f\"}}, \"ternary\": {\"aaxis\": {\"gridcolor\": \"white\", \"linecolor\": \"white\", \"ticks\": \"\"}, \"baxis\": {\"gridcolor\": \"white\", \"linecolor\": \"white\", \"ticks\": \"\"}, \"bgcolor\": \"#E5ECF6\", \"caxis\": {\"gridcolor\": \"white\", \"linecolor\": \"white\", \"ticks\": \"\"}}, \"title\": {\"x\": 0.05}, \"xaxis\": {\"automargin\": true, \"gridcolor\": \"white\", \"linecolor\": \"white\", \"ticks\": \"\", \"title\": {\"standoff\": 15}, \"zerolinecolor\": \"white\", \"zerolinewidth\": 2}, \"yaxis\": {\"automargin\": true, \"gridcolor\": \"white\", \"linecolor\": \"white\", \"ticks\": \"\", \"title\": {\"standoff\": 15}, \"zerolinecolor\": \"white\", \"zerolinewidth\": 2}}}, \"title\": {\"font\": {\"color\": \"#4D5663\"}}, \"xaxis\": {\"anchor\": \"y\", \"domain\": [0.0, 0.2125], \"gridcolor\": \"#E1E5ED\", \"showgrid\": false, \"tickfont\": {\"color\": \"#4D5663\"}, \"title\": {\"font\": {\"color\": \"#4D5663\"}, \"text\": \"\"}, \"zerolinecolor\": \"#E1E5ED\"}, \"xaxis10\": {\"anchor\": \"y10\", \"domain\": [0.2625, 0.475], \"gridcolor\": \"#E1E5ED\", \"showgrid\": false, \"tickfont\": {\"color\": \"#4D5663\"}, \"title\": {\"font\": {\"color\": \"#4D5663\"}, \"text\": \"\"}, \"zerolinecolor\": \"#E1E5ED\"}, \"xaxis11\": {\"anchor\": \"y11\", \"domain\": [0.525, 0.7375], \"gridcolor\": \"#E1E5ED\", \"showgrid\": false, \"tickfont\": {\"color\": \"#4D5663\"}, \"title\": {\"font\": {\"color\": \"#4D5663\"}, \"text\": \"\"}, \"zerolinecolor\": \"#E1E5ED\"}, \"xaxis12\": {\"anchor\": \"y12\", \"domain\": [0.7875, 1.0], \"gridcolor\": \"#E1E5ED\", \"showgrid\": false, \"tickfont\": {\"color\": \"#4D5663\"}, \"title\": {\"font\": {\"color\": \"#4D5663\"}, \"text\": \"\"}, \"zerolinecolor\": \"#E1E5ED\"}, \"xaxis13\": {\"anchor\": \"y13\", \"domain\": [0.0, 0.2125], \"gridcolor\": \"#E1E5ED\", \"showgrid\": false, \"tickfont\": {\"color\": \"#4D5663\"}, \"title\": {\"font\": {\"color\": \"#4D5663\"}, \"text\": \"\"}, \"zerolinecolor\": \"#E1E5ED\"}, \"xaxis14\": {\"anchor\": \"y14\", \"domain\": [0.2625, 0.475], \"gridcolor\": \"#E1E5ED\", \"showgrid\": false, \"tickfont\": {\"color\": \"#4D5663\"}, \"title\": {\"font\": {\"color\": \"#4D5663\"}, \"text\": \"\"}, \"zerolinecolor\": \"#E1E5ED\"}, \"xaxis15\": {\"anchor\": \"y15\", \"domain\": [0.525, 0.7375], \"gridcolor\": \"#E1E5ED\", \"showgrid\": false, \"tickfont\": {\"color\": \"#4D5663\"}, \"title\": {\"font\": {\"color\": \"#4D5663\"}, \"text\": \"\"}, \"zerolinecolor\": \"#E1E5ED\"}, \"xaxis16\": {\"anchor\": \"y16\", \"domain\": [0.7875, 1.0], \"gridcolor\": \"#E1E5ED\", \"showgrid\": false, \"tickfont\": {\"color\": \"#4D5663\"}, \"title\": {\"font\": {\"color\": \"#4D5663\"}, \"text\": \"\"}, \"zerolinecolor\": \"#E1E5ED\"}, \"xaxis2\": {\"anchor\": \"y2\", \"domain\": [0.2625, 0.475], \"gridcolor\": \"#E1E5ED\", \"showgrid\": false, \"tickfont\": {\"color\": \"#4D5663\"}, \"title\": {\"font\": {\"color\": \"#4D5663\"}, \"text\": \"\"}, \"zerolinecolor\": \"#E1E5ED\"}, \"xaxis3\": {\"anchor\": \"y3\", \"domain\": [0.525, 0.7375], \"gridcolor\": \"#E1E5ED\", \"showgrid\": false, \"tickfont\": {\"color\": \"#4D5663\"}, \"title\": {\"font\": {\"color\": \"#4D5663\"}, \"text\": \"\"}, \"zerolinecolor\": \"#E1E5ED\"}, \"xaxis4\": {\"anchor\": \"y4\", \"domain\": [0.7875, 1.0], \"gridcolor\": \"#E1E5ED\", \"showgrid\": false, \"tickfont\": {\"color\": \"#4D5663\"}, \"title\": {\"font\": {\"color\": \"#4D5663\"}, \"text\": \"\"}, \"zerolinecolor\": \"#E1E5ED\"}, \"xaxis5\": {\"anchor\": \"y5\", \"domain\": [0.0, 0.2125], \"gridcolor\": \"#E1E5ED\", \"showgrid\": false, \"tickfont\": {\"color\": \"#4D5663\"}, \"title\": {\"font\": {\"color\": \"#4D5663\"}, \"text\": \"\"}, \"zerolinecolor\": \"#E1E5ED\"}, \"xaxis6\": {\"anchor\": \"y6\", \"domain\": [0.2625, 0.475], \"gridcolor\": \"#E1E5ED\", \"showgrid\": false, \"tickfont\": {\"color\": \"#4D5663\"}, \"title\": {\"font\": {\"color\": \"#4D5663\"}, \"text\": \"\"}, \"zerolinecolor\": \"#E1E5ED\"}, \"xaxis7\": {\"anchor\": \"y7\", \"domain\": [0.525, 0.7375], \"gridcolor\": \"#E1E5ED\", \"showgrid\": false, \"tickfont\": {\"color\": \"#4D5663\"}, \"title\": {\"font\": {\"color\": \"#4D5663\"}, \"text\": \"\"}, \"zerolinecolor\": \"#E1E5ED\"}, \"xaxis8\": {\"anchor\": \"y8\", \"domain\": [0.7875, 1.0], \"gridcolor\": \"#E1E5ED\", \"showgrid\": false, \"tickfont\": {\"color\": \"#4D5663\"}, \"title\": {\"font\": {\"color\": \"#4D5663\"}, \"text\": \"\"}, \"zerolinecolor\": \"#E1E5ED\"}, \"xaxis9\": {\"anchor\": \"y9\", \"domain\": [0.0, 0.2125], \"gridcolor\": \"#E1E5ED\", \"showgrid\": false, \"tickfont\": {\"color\": \"#4D5663\"}, \"title\": {\"font\": {\"color\": \"#4D5663\"}, \"text\": \"\"}, \"zerolinecolor\": \"#E1E5ED\"}, \"yaxis\": {\"anchor\": \"x\", \"domain\": [0.8025, 1.0], \"gridcolor\": \"#E1E5ED\", \"showgrid\": false, \"tickfont\": {\"color\": \"#4D5663\"}, \"title\": {\"font\": {\"color\": \"#4D5663\"}, \"text\": \"\"}, \"zerolinecolor\": \"#E1E5ED\"}, \"yaxis10\": {\"anchor\": \"x10\", \"domain\": [0.2675, 0.465], \"gridcolor\": \"#E1E5ED\", \"showgrid\": false, \"tickfont\": {\"color\": \"#4D5663\"}, \"title\": {\"font\": {\"color\": \"#4D5663\"}, \"text\": \"\"}, \"zerolinecolor\": \"#E1E5ED\"}, \"yaxis11\": {\"anchor\": \"x11\", \"domain\": [0.2675, 0.465], \"gridcolor\": \"#E1E5ED\", \"showgrid\": false, \"tickfont\": {\"color\": \"#4D5663\"}, \"title\": {\"font\": {\"color\": \"#4D5663\"}, \"text\": \"\"}, \"zerolinecolor\": \"#E1E5ED\"}, \"yaxis12\": {\"anchor\": \"x12\", \"domain\": [0.2675, 0.465], \"gridcolor\": \"#E1E5ED\", \"showgrid\": false, \"tickfont\": {\"color\": \"#4D5663\"}, \"title\": {\"font\": {\"color\": \"#4D5663\"}, \"text\": \"\"}, \"zerolinecolor\": \"#E1E5ED\"}, \"yaxis13\": {\"anchor\": \"x13\", \"domain\": [0.0, 0.1975], \"gridcolor\": \"#E1E5ED\", \"showgrid\": false, \"tickfont\": {\"color\": \"#4D5663\"}, \"title\": {\"font\": {\"color\": \"#4D5663\"}, \"text\": \"\"}, \"zerolinecolor\": \"#E1E5ED\"}, \"yaxis14\": {\"anchor\": \"x14\", \"domain\": [0.0, 0.1975], \"gridcolor\": \"#E1E5ED\", \"showgrid\": false, \"tickfont\": {\"color\": \"#4D5663\"}, \"title\": {\"font\": {\"color\": \"#4D5663\"}, \"text\": \"\"}, \"zerolinecolor\": \"#E1E5ED\"}, \"yaxis15\": {\"anchor\": \"x15\", \"domain\": [0.0, 0.1975], \"gridcolor\": \"#E1E5ED\", \"showgrid\": false, \"tickfont\": {\"color\": \"#4D5663\"}, \"title\": {\"font\": {\"color\": \"#4D5663\"}, \"text\": \"\"}, \"zerolinecolor\": \"#E1E5ED\"}, \"yaxis16\": {\"anchor\": \"x16\", \"domain\": [0.0, 0.1975], \"gridcolor\": \"#E1E5ED\", \"showgrid\": false, \"tickfont\": {\"color\": \"#4D5663\"}, \"title\": {\"font\": {\"color\": \"#4D5663\"}, \"text\": \"\"}, \"zerolinecolor\": \"#E1E5ED\"}, \"yaxis2\": {\"anchor\": \"x2\", \"domain\": [0.8025, 1.0], \"gridcolor\": \"#E1E5ED\", \"showgrid\": false, \"tickfont\": {\"color\": \"#4D5663\"}, \"title\": {\"font\": {\"color\": \"#4D5663\"}, \"text\": \"\"}, \"zerolinecolor\": \"#E1E5ED\"}, \"yaxis3\": {\"anchor\": \"x3\", \"domain\": [0.8025, 1.0], \"gridcolor\": \"#E1E5ED\", \"showgrid\": false, \"tickfont\": {\"color\": \"#4D5663\"}, \"title\": {\"font\": {\"color\": \"#4D5663\"}, \"text\": \"\"}, \"zerolinecolor\": \"#E1E5ED\"}, \"yaxis4\": {\"anchor\": \"x4\", \"domain\": [0.8025, 1.0], \"gridcolor\": \"#E1E5ED\", \"showgrid\": false, \"tickfont\": {\"color\": \"#4D5663\"}, \"title\": {\"font\": {\"color\": \"#4D5663\"}, \"text\": \"\"}, \"zerolinecolor\": \"#E1E5ED\"}, \"yaxis5\": {\"anchor\": \"x5\", \"domain\": [0.535, 0.7325], \"gridcolor\": \"#E1E5ED\", \"showgrid\": false, \"tickfont\": {\"color\": \"#4D5663\"}, \"title\": {\"font\": {\"color\": \"#4D5663\"}, \"text\": \"\"}, \"zerolinecolor\": \"#E1E5ED\"}, \"yaxis6\": {\"anchor\": \"x6\", \"domain\": [0.535, 0.7325], \"gridcolor\": \"#E1E5ED\", \"showgrid\": false, \"tickfont\": {\"color\": \"#4D5663\"}, \"title\": {\"font\": {\"color\": \"#4D5663\"}, \"text\": \"\"}, \"zerolinecolor\": \"#E1E5ED\"}, \"yaxis7\": {\"anchor\": \"x7\", \"domain\": [0.535, 0.7325], \"gridcolor\": \"#E1E5ED\", \"showgrid\": false, \"tickfont\": {\"color\": \"#4D5663\"}, \"title\": {\"font\": {\"color\": \"#4D5663\"}, \"text\": \"\"}, \"zerolinecolor\": \"#E1E5ED\"}, \"yaxis8\": {\"anchor\": \"x8\", \"domain\": [0.535, 0.7325], \"gridcolor\": \"#E1E5ED\", \"showgrid\": false, \"tickfont\": {\"color\": \"#4D5663\"}, \"title\": {\"font\": {\"color\": \"#4D5663\"}, \"text\": \"\"}, \"zerolinecolor\": \"#E1E5ED\"}, \"yaxis9\": {\"anchor\": \"x9\", \"domain\": [0.2675, 0.465], \"gridcolor\": \"#E1E5ED\", \"showgrid\": false, \"tickfont\": {\"color\": \"#4D5663\"}, \"title\": {\"font\": {\"color\": \"#4D5663\"}, \"text\": \"\"}, \"zerolinecolor\": \"#E1E5ED\"}},\n",
       "                        {\"showLink\": true, \"linkText\": \"Export to plot.ly\", \"plotlyServerURL\": \"https://plot.ly\", \"responsive\": true}\n",
       "                    ).then(function(){\n",
       "                            \n",
       "var gd = document.getElementById('53dbfeea-7fe2-4f4a-9106-03b33027b97a');\n",
       "var x = new MutationObserver(function (mutations, observer) {{\n",
       "        var display = window.getComputedStyle(gd).display;\n",
       "        if (!display || display === 'none') {{\n",
       "            console.log([gd, 'removed!']);\n",
       "            Plotly.purge(gd);\n",
       "            observer.disconnect();\n",
       "        }}\n",
       "}});\n",
       "\n",
       "// Listen for the removal of the full notebook cells\n",
       "var notebookContainer = gd.closest('#notebook-container');\n",
       "if (notebookContainer) {{\n",
       "    x.observe(notebookContainer, {childList: true});\n",
       "}}\n",
       "\n",
       "// Listen for the clearing of the current output cell\n",
       "var outputEl = gd.closest('.output');\n",
       "if (outputEl) {{\n",
       "    x.observe(outputEl, {childList: true});\n",
       "}}\n",
       "\n",
       "                        })\n",
       "                };\n",
       "                });\n",
       "            </script>\n",
       "        </div>"
      ]
     },
     "metadata": {},
     "output_type": "display_data"
    }
   ],
   "source": [
    "df.scatter_matrix()"
   ]
  },
  {
   "cell_type": "markdown",
   "metadata": {
    "collapsed": true
   },
   "source": [
    "# Great Job!"
   ]
  }
 ],
 "metadata": {
  "kernelspec": {
   "display_name": "Python 3",
   "language": "python",
   "name": "python3"
  },
  "language_info": {
   "codemirror_mode": {
    "name": "ipython",
    "version": 3
   },
   "file_extension": ".py",
   "mimetype": "text/x-python",
   "name": "python",
   "nbconvert_exporter": "python",
   "pygments_lexer": "ipython3",
   "version": "3.7.4"
  }
 },
 "nbformat": 4,
 "nbformat_minor": 1
}
